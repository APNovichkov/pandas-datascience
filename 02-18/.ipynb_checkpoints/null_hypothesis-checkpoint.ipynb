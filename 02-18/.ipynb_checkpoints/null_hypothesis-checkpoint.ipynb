{
 "cells": [
  {
   "cell_type": "code",
   "execution_count": 78,
   "metadata": {},
   "outputs": [],
   "source": [
    "import pandas as pd\n",
    "import numpy as np\n",
    "import math\n",
    "from scipy.stats import norm, t\n",
    "from scipy import stats"
   ]
  },
  {
   "cell_type": "code",
   "execution_count": 8,
   "metadata": {},
   "outputs": [],
   "source": [
    "def calc_z_score(mu, delta, sample_mean, sample_size):\n",
    "    return (sample_mean-mu)/(delta/math.sqrt(sample_size))"
   ]
  },
  {
   "cell_type": "code",
   "execution_count": 66,
   "metadata": {},
   "outputs": [],
   "source": [
    "def do_reject_null_hypothesis(mu, sig_level, sample_size, sample_mean, sample_std, sigma):\n",
    "    if sigma is None and sample_std is not None:\n",
    "        den = sample_std/np.sqrt(sample_size)\n",
    "        t_score = (sample_mean - mu)/den\n",
    "        p_value = 2 * t.sf(t_score)\n",
    "    elif sigma is not None and sample_std is None:\n",
    "        den = sigma/np.sqrt(sample_size)\n",
    "        z_score = (sample_mean - mu)/den\n",
    "        p_value = 2 * norm.sf(np.abs(z_score))\n",
    "    \n",
    "    return p_value <= sig_level"
   ]
  },
  {
   "cell_type": "code",
   "execution_count": 69,
   "metadata": {},
   "outputs": [
    {
     "name": "stdout",
     "output_type": "stream",
     "text": [
      "We accept the null hypothesis\n"
     ]
    }
   ],
   "source": [
    "if do_reject_null_hypothesis(1.2, .05, 100, 1.05, None, .8):\n",
    "    print(\"We reject the null hypothesis\")\n",
    "else:\n",
    "    print(\"We accept the null hypothesis\")"
   ]
  },
  {
   "cell_type": "code",
   "execution_count": 74,
   "metadata": {},
   "outputs": [
    {
     "data": {
      "text/plain": [
       "10"
      ]
     },
     "execution_count": 74,
     "metadata": {},
     "output_type": "execute_result"
    }
   ],
   "source": [
    "len(x)"
   ]
  },
  {
   "cell_type": "code",
   "execution_count": 70,
   "metadata": {},
   "outputs": [],
   "source": [
    "x = pd.Series([177.3, 182.7, 169.6, 176.3, 180.3, 179.4, 178.5, 177.2, 181.8, 176.5])"
   ]
  },
  {
   "cell_type": "code",
   "execution_count": 80,
   "metadata": {},
   "outputs": [],
   "source": [
    "t_score, p_value = stats.ttest_1samp(x, 175.3)"
   ]
  },
  {
   "cell_type": "code",
   "execution_count": 81,
   "metadata": {},
   "outputs": [
    {
     "name": "stdout",
     "output_type": "stream",
     "text": [
      "t-score: 2.2955689680831584 p-value: 0.04734137339747224\n"
     ]
    }
   ],
   "source": [
    "print(\"t-score: {} p-value: {}\".format(t_score, p_value))"
   ]
  },
  {
   "cell_type": "code",
   "execution_count": 71,
   "metadata": {},
   "outputs": [
    {
     "data": {
      "text/plain": [
       "177.96"
      ]
     },
     "execution_count": 71,
     "metadata": {},
     "output_type": "execute_result"
    }
   ],
   "source": [
    "np.mean(x)"
   ]
  },
  {
   "cell_type": "code",
   "execution_count": null,
   "metadata": {},
   "outputs": [],
   "source": []
  },
  {
   "cell_type": "code",
   "execution_count": null,
   "metadata": {},
   "outputs": [],
   "source": []
  },
  {
   "cell_type": "code",
   "execution_count": 83,
   "metadata": {},
   "outputs": [],
   "source": [
    "from scipy.stats import t\n",
    "def do_reject_null_hypothesis(mu, sig_level, sample_size, sample_mean, sample_std, sigma):\n",
    "    if sigma is None and sample_std is not None:\n",
    "        den = sample_std/np.sqrt(sample_size)\n",
    "        t_score = (sample_mean - mu)/den\n",
    "        p_score = 2 * t.sf(np.abs(t_score))\n",
    "        \n",
    "    elif sigma is not None and sample_std is None:\n",
    "        # z-test\n",
    "        den = sigma/np.sqrt(sample_size)\n",
    "        z_score = (sample_mean - mu)/den\n",
    "        p_value = 2 * norm.sf(np.abs(z_score))\n",
    "    \n",
    "    return p_value <= sig_level"
   ]
  },
  {
   "cell_type": "code",
   "execution_count": null,
   "metadata": {},
   "outputs": [],
   "source": []
  },
  {
   "cell_type": "code",
   "execution_count": null,
   "metadata": {},
   "outputs": [],
   "source": []
  },
  {
   "cell_type": "code",
   "execution_count": null,
   "metadata": {},
   "outputs": [],
   "source": []
  },
  {
   "cell_type": "code",
   "execution_count": null,
   "metadata": {},
   "outputs": [],
   "source": [
    "def z_t_null_hypothesis(sample_data, mu, sigma, sig_level):\n",
    "    n = len(sample_data)\n",
    "    sample_mean = np.mean(sample_data)\n",
    "    sample_std = np.std(sample_data)\n",
    "    \n",
    "    if sigma:\n",
    "        den = sigma/np.sqrt(n)\n",
    "        z_score = (sample_mean - mu)/den\n",
    "        p_value = 2 * norm.sf(np.abs(z_score))\n",
    "    elif n > 30:\n",
    "        den = sample_std/np.sqrt(n)\n",
    "        z_score = (sample_mean - mu)/den\n",
    "        p_value = 2 * norm.sf(np.abs(z_score))\n",
    "    else:\n",
    "        t_score, p_value = stats.ttest_1samp(sample_data, mu)\n",
    "        \n",
    "    if p_value < sig_level:\n",
    "        print(\"We reject the null hypothesis\")\n",
    "    else:\n",
    "        print(\"We accept the null hypothesis\")"
   ]
  }
 ],
 "metadata": {
  "kernelspec": {
   "display_name": "Python 3",
   "language": "python",
   "name": "python3"
  },
  "language_info": {
   "codemirror_mode": {
    "name": "ipython",
    "version": 3
   },
   "file_extension": ".py",
   "mimetype": "text/x-python",
   "name": "python",
   "nbconvert_exporter": "python",
   "pygments_lexer": "ipython3",
   "version": "3.7.5"
  }
 },
 "nbformat": 4,
 "nbformat_minor": 2
}
