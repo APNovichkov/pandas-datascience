{
 "cells": [
  {
   "cell_type": "code",
   "execution_count": 3,
   "metadata": {},
   "outputs": [],
   "source": [
    "import pandas as pd\n",
    "import numpy as np\n",
    "import seaborn as sns\n",
    "import matplotlib.pyplot as plt"
   ]
  },
  {
   "cell_type": "markdown",
   "metadata": {},
   "source": [
    "# Here we have a dataset of startup funding via Crunchbase\n",
    "\n",
    "Link to dataset: https://www.kaggle.com/arindam235/startup-investments-crunchbase#investments_VC.csv"
   ]
  },
  {
   "cell_type": "code",
   "execution_count": 4,
   "metadata": {},
   "outputs": [],
   "source": [
    "df = pd.read_csv('investments_VC.csv', encoding= 'unicode_escape')"
   ]
  },
  {
   "cell_type": "code",
   "execution_count": 5,
   "metadata": {},
   "outputs": [
    {
     "name": "stdout",
     "output_type": "stream",
     "text": [
      "Length of df: 54294\n"
     ]
    }
   ],
   "source": [
    "print(\"Length of df: {}\".format(len(df)))"
   ]
  },
  {
   "cell_type": "code",
   "execution_count": 6,
   "metadata": {},
   "outputs": [],
   "source": [
    "df = df.dropna(axis=0, how='all')"
   ]
  },
  {
   "cell_type": "code",
   "execution_count": 7,
   "metadata": {},
   "outputs": [
    {
     "name": "stdout",
     "output_type": "stream",
     "text": [
      "Length of df: 49438\n"
     ]
    }
   ],
   "source": [
    "print(\"Length of df: {}\".format(len(df)))"
   ]
  },
  {
   "cell_type": "code",
   "execution_count": 8,
   "metadata": {},
   "outputs": [
    {
     "data": {
      "text/html": [
       "<div>\n",
       "<style scoped>\n",
       "    .dataframe tbody tr th:only-of-type {\n",
       "        vertical-align: middle;\n",
       "    }\n",
       "\n",
       "    .dataframe tbody tr th {\n",
       "        vertical-align: top;\n",
       "    }\n",
       "\n",
       "    .dataframe thead th {\n",
       "        text-align: right;\n",
       "    }\n",
       "</style>\n",
       "<table border=\"1\" class=\"dataframe\">\n",
       "  <thead>\n",
       "    <tr style=\"text-align: right;\">\n",
       "      <th></th>\n",
       "      <th>permalink</th>\n",
       "      <th>name</th>\n",
       "      <th>homepage_url</th>\n",
       "      <th>category_list</th>\n",
       "      <th>market</th>\n",
       "      <th>funding_total_usd</th>\n",
       "      <th>status</th>\n",
       "      <th>country_code</th>\n",
       "      <th>state_code</th>\n",
       "      <th>region</th>\n",
       "      <th>...</th>\n",
       "      <th>secondary_market</th>\n",
       "      <th>product_crowdfunding</th>\n",
       "      <th>round_A</th>\n",
       "      <th>round_B</th>\n",
       "      <th>round_C</th>\n",
       "      <th>round_D</th>\n",
       "      <th>round_E</th>\n",
       "      <th>round_F</th>\n",
       "      <th>round_G</th>\n",
       "      <th>round_H</th>\n",
       "    </tr>\n",
       "  </thead>\n",
       "  <tbody>\n",
       "    <tr>\n",
       "      <td>49433</td>\n",
       "      <td>/organization/zzish</td>\n",
       "      <td>Zzish</td>\n",
       "      <td>http://www.zzish.com</td>\n",
       "      <td>|Analytics|Gamification|Developer APIs|iOS|And...</td>\n",
       "      <td>Education</td>\n",
       "      <td>3,20,000</td>\n",
       "      <td>operating</td>\n",
       "      <td>GBR</td>\n",
       "      <td>NaN</td>\n",
       "      <td>London</td>\n",
       "      <td>...</td>\n",
       "      <td>0.0</td>\n",
       "      <td>0.0</td>\n",
       "      <td>0.0</td>\n",
       "      <td>0.0</td>\n",
       "      <td>0.0</td>\n",
       "      <td>0.0</td>\n",
       "      <td>0.0</td>\n",
       "      <td>0.0</td>\n",
       "      <td>0.0</td>\n",
       "      <td>0.0</td>\n",
       "    </tr>\n",
       "    <tr>\n",
       "      <td>49434</td>\n",
       "      <td>/organization/zznode-science-and-technology-co...</td>\n",
       "      <td>ZZNode Science and Technology</td>\n",
       "      <td>http://www.zznode.com</td>\n",
       "      <td>|Enterprise Software|</td>\n",
       "      <td>Enterprise Software</td>\n",
       "      <td>15,87,301</td>\n",
       "      <td>operating</td>\n",
       "      <td>CHN</td>\n",
       "      <td>NaN</td>\n",
       "      <td>Beijing</td>\n",
       "      <td>...</td>\n",
       "      <td>0.0</td>\n",
       "      <td>0.0</td>\n",
       "      <td>1587301.0</td>\n",
       "      <td>0.0</td>\n",
       "      <td>0.0</td>\n",
       "      <td>0.0</td>\n",
       "      <td>0.0</td>\n",
       "      <td>0.0</td>\n",
       "      <td>0.0</td>\n",
       "      <td>0.0</td>\n",
       "    </tr>\n",
       "    <tr>\n",
       "      <td>49435</td>\n",
       "      <td>/organization/zzzzapp-com</td>\n",
       "      <td>Zzzzapp Wireless ltd.</td>\n",
       "      <td>http://www.zzzzapp.com</td>\n",
       "      <td>|Web Development|Advertising|Wireless|Mobile|</td>\n",
       "      <td>Web Development</td>\n",
       "      <td>97,398</td>\n",
       "      <td>operating</td>\n",
       "      <td>HRV</td>\n",
       "      <td>NaN</td>\n",
       "      <td>Split</td>\n",
       "      <td>...</td>\n",
       "      <td>0.0</td>\n",
       "      <td>0.0</td>\n",
       "      <td>0.0</td>\n",
       "      <td>0.0</td>\n",
       "      <td>0.0</td>\n",
       "      <td>0.0</td>\n",
       "      <td>0.0</td>\n",
       "      <td>0.0</td>\n",
       "      <td>0.0</td>\n",
       "      <td>0.0</td>\n",
       "    </tr>\n",
       "    <tr>\n",
       "      <td>49436</td>\n",
       "      <td>/organization/a-list-games</td>\n",
       "      <td>[a]list games</td>\n",
       "      <td>http://www.alistgames.com</td>\n",
       "      <td>|Games|</td>\n",
       "      <td>Games</td>\n",
       "      <td>93,00,000</td>\n",
       "      <td>operating</td>\n",
       "      <td>NaN</td>\n",
       "      <td>NaN</td>\n",
       "      <td>NaN</td>\n",
       "      <td>...</td>\n",
       "      <td>0.0</td>\n",
       "      <td>0.0</td>\n",
       "      <td>0.0</td>\n",
       "      <td>0.0</td>\n",
       "      <td>0.0</td>\n",
       "      <td>0.0</td>\n",
       "      <td>0.0</td>\n",
       "      <td>0.0</td>\n",
       "      <td>0.0</td>\n",
       "      <td>0.0</td>\n",
       "    </tr>\n",
       "    <tr>\n",
       "      <td>49437</td>\n",
       "      <td>/organization/x</td>\n",
       "      <td>[x+1]</td>\n",
       "      <td>http://www.xplusone.com/</td>\n",
       "      <td>|Enterprise Software|</td>\n",
       "      <td>Enterprise Software</td>\n",
       "      <td>4,50,00,000</td>\n",
       "      <td>operating</td>\n",
       "      <td>USA</td>\n",
       "      <td>NY</td>\n",
       "      <td>New York City</td>\n",
       "      <td>...</td>\n",
       "      <td>0.0</td>\n",
       "      <td>0.0</td>\n",
       "      <td>16000000.0</td>\n",
       "      <td>10000000.0</td>\n",
       "      <td>0.0</td>\n",
       "      <td>0.0</td>\n",
       "      <td>0.0</td>\n",
       "      <td>0.0</td>\n",
       "      <td>0.0</td>\n",
       "      <td>0.0</td>\n",
       "    </tr>\n",
       "  </tbody>\n",
       "</table>\n",
       "<p>5 rows × 39 columns</p>\n",
       "</div>"
      ],
      "text/plain": [
       "                                               permalink  \\\n",
       "49433                                /organization/zzish   \n",
       "49434  /organization/zznode-science-and-technology-co...   \n",
       "49435                          /organization/zzzzapp-com   \n",
       "49436                         /organization/a-list-games   \n",
       "49437                                    /organization/x   \n",
       "\n",
       "                                name               homepage_url  \\\n",
       "49433                          Zzish       http://www.zzish.com   \n",
       "49434  ZZNode Science and Technology      http://www.zznode.com   \n",
       "49435          Zzzzapp Wireless ltd.     http://www.zzzzapp.com   \n",
       "49436                  [a]list games  http://www.alistgames.com   \n",
       "49437                          [x+1]   http://www.xplusone.com/   \n",
       "\n",
       "                                           category_list  \\\n",
       "49433  |Analytics|Gamification|Developer APIs|iOS|And...   \n",
       "49434                              |Enterprise Software|   \n",
       "49435      |Web Development|Advertising|Wireless|Mobile|   \n",
       "49436                                            |Games|   \n",
       "49437                              |Enterprise Software|   \n",
       "\n",
       "                     market   funding_total_usd      status country_code  \\\n",
       "49433             Education            3,20,000   operating          GBR   \n",
       "49434   Enterprise Software           15,87,301   operating          CHN   \n",
       "49435       Web Development              97,398   operating          HRV   \n",
       "49436                 Games           93,00,000   operating          NaN   \n",
       "49437   Enterprise Software         4,50,00,000   operating          USA   \n",
       "\n",
       "      state_code         region  ... secondary_market  product_crowdfunding  \\\n",
       "49433        NaN         London  ...              0.0                   0.0   \n",
       "49434        NaN        Beijing  ...              0.0                   0.0   \n",
       "49435        NaN          Split  ...              0.0                   0.0   \n",
       "49436        NaN            NaN  ...              0.0                   0.0   \n",
       "49437         NY  New York City  ...              0.0                   0.0   \n",
       "\n",
       "          round_A     round_B round_C  round_D round_E round_F  round_G  \\\n",
       "49433         0.0         0.0     0.0      0.0     0.0     0.0      0.0   \n",
       "49434   1587301.0         0.0     0.0      0.0     0.0     0.0      0.0   \n",
       "49435         0.0         0.0     0.0      0.0     0.0     0.0      0.0   \n",
       "49436         0.0         0.0     0.0      0.0     0.0     0.0      0.0   \n",
       "49437  16000000.0  10000000.0     0.0      0.0     0.0     0.0      0.0   \n",
       "\n",
       "       round_H  \n",
       "49433      0.0  \n",
       "49434      0.0  \n",
       "49435      0.0  \n",
       "49436      0.0  \n",
       "49437      0.0  \n",
       "\n",
       "[5 rows x 39 columns]"
      ]
     },
     "execution_count": 8,
     "metadata": {},
     "output_type": "execute_result"
    }
   ],
   "source": [
    "df.tail()"
   ]
  },
  {
   "cell_type": "code",
   "execution_count": 9,
   "metadata": {},
   "outputs": [
    {
     "name": "stdout",
     "output_type": "stream",
     "text": [
      "column 0 -> permalink\n",
      "column 1 -> name\n",
      "column 2 -> homepage_url\n",
      "column 3 -> category_list\n",
      "column 4 ->  market \n",
      "column 5 ->  funding_total_usd \n",
      "column 6 -> status\n",
      "column 7 -> country_code\n",
      "column 8 -> state_code\n",
      "column 9 -> region\n",
      "column 10 -> city\n",
      "column 11 -> funding_rounds\n",
      "column 12 -> founded_at\n",
      "column 13 -> founded_month\n",
      "column 14 -> founded_quarter\n",
      "column 15 -> founded_year\n",
      "column 16 -> first_funding_at\n",
      "column 17 -> last_funding_at\n",
      "column 18 -> seed\n",
      "column 19 -> venture\n",
      "column 20 -> equity_crowdfunding\n",
      "column 21 -> undisclosed\n",
      "column 22 -> convertible_note\n",
      "column 23 -> debt_financing\n",
      "column 24 -> angel\n",
      "column 25 -> grant\n",
      "column 26 -> private_equity\n",
      "column 27 -> post_ipo_equity\n",
      "column 28 -> post_ipo_debt\n",
      "column 29 -> secondary_market\n",
      "column 30 -> product_crowdfunding\n",
      "column 31 -> round_A\n",
      "column 32 -> round_B\n",
      "column 33 -> round_C\n",
      "column 34 -> round_D\n",
      "column 35 -> round_E\n",
      "column 36 -> round_F\n",
      "column 37 -> round_G\n",
      "column 38 -> round_H\n"
     ]
    }
   ],
   "source": [
    "for i, item in enumerate(df.columns):\n",
    "    print(f'column {i} -> {item}')"
   ]
  },
  {
   "cell_type": "markdown",
   "metadata": {},
   "source": [
    "# The goals of this analysis is to:\n",
    "#### 1: Understand the general trends of the startup ecosystem\n",
    "- Success vs Failure stats \n",
    "#### 2: Gather statistics by features\n",
    "- Which markets are the most popular\n",
    "- Which markets lead to more startup success\n",
    "#### 3: Find patterns in the data that reflect success/failure of a startup\n",
    "- Figure this out\n",
    "#### 4: Figure out the most important features that lead to startup success/failure\n",
    "- Use Random Forest Trees to help out here"
   ]
  },
  {
   "cell_type": "markdown",
   "metadata": {},
   "source": [
    "# General Trends in the Startup Ecosystem"
   ]
  },
  {
   "cell_type": "markdown",
   "metadata": {},
   "source": [
    "Looking at the whole dataset, what is the success/failure ratio?"
   ]
  },
  {
   "cell_type": "code",
   "execution_count": 71,
   "metadata": {},
   "outputs": [
    {
     "name": "stdout",
     "output_type": "stream",
     "text": [
      "Operating + Acquired to Closed Ratio for all startups: 95.0%\n",
      "Acquired to All ratio for all startups: 8.0%\n"
     ]
    }
   ],
   "source": [
    "g_status = df['status'].dropna().value_counts()\n",
    "s_to_f = (g_status['operating'] + g_status['acquired']) / len(df['status'].dropna())\n",
    "a_to_all = (g_status['acquired']) / len(df['status'].dropna())\n",
    "\n",
    "print(f'Operating + Acquired vs Closed Ratio for all startups: {round(s_to_f, 2)*100}%')\n",
    "print(f\"Acquired vs Operating and Closed ratio for all startups: {round(a_to_all, 2)*100}%\")"
   ]
  },
  {
   "cell_type": "markdown",
   "metadata": {},
   "source": [
    "#### This shows the opposite of what the saying is, that 95% of startups are still operating or have been aquired.\n",
    "But if you consider success as being aquired, then we get only 8%. Up to personal definition I guess!"
   ]
  },
  {
   "cell_type": "code",
   "execution_count": null,
   "metadata": {},
   "outputs": [],
   "source": []
  },
  {
   "cell_type": "code",
   "execution_count": null,
   "metadata": {},
   "outputs": [],
   "source": []
  },
  {
   "cell_type": "code",
   "execution_count": 19,
   "metadata": {},
   "outputs": [],
   "source": [
    "cities = df['city'].dropna()"
   ]
  },
  {
   "cell_type": "code",
   "execution_count": 30,
   "metadata": {},
   "outputs": [
    {
     "data": {
      "text/plain": [
       "0                  New York\n",
       "1               Los Angeles\n",
       "2                   Tallinn\n",
       "3                    London\n",
       "4                Fort Worth\n",
       "                ...        \n",
       "49432    Gerasdorf Bei Wien\n",
       "49433                London\n",
       "49434               Beijing\n",
       "49435                 Split\n",
       "49437              New York\n",
       "Name: city, Length: 43322, dtype: object"
      ]
     },
     "execution_count": 30,
     "metadata": {},
     "output_type": "execute_result"
    }
   ],
   "source": [
    "cities"
   ]
  },
  {
   "cell_type": "code",
   "execution_count": 31,
   "metadata": {},
   "outputs": [],
   "source": [
    "top_20_cities = cities.value_counts()[:20]"
   ]
  },
  {
   "cell_type": "code",
   "execution_count": 33,
   "metadata": {},
   "outputs": [
    {
     "data": {
      "text/plain": [
       "Index(['San Francisco', 'New York', 'London', 'Palo Alto', 'Austin', 'Seattle',\n",
       "       'Cambridge', 'Chicago', 'Los Angeles', 'Mountain View', 'San Diego',\n",
       "       'Beijing', 'Boston', 'Paris', 'Toronto', 'Sunnyvale', 'San Jose',\n",
       "       'Berlin', 'Atlanta', 'Santa Clara'],\n",
       "      dtype='object')"
      ]
     },
     "execution_count": 33,
     "metadata": {},
     "output_type": "execute_result"
    }
   ],
   "source": [
    "top_20_cities.index"
   ]
  },
  {
   "cell_type": "code",
   "execution_count": 72,
   "metadata": {},
   "outputs": [
    {
     "data": {
      "image/png": "[encoded data removed]",
      "text/plain": [
       "<Figure size 720x360 with 1 Axes>"
      ]
     },
     "metadata": {
      "needs_background": "light"
     },
     "output_type": "display_data"
    }
   ],
   "source": [
    "plt.rcParams[\"figure.figsize\"] = (10,5)\n",
    "_= cities.value_counts()[:20].plot(kind='bar', title=\"20 cities with the most startups\")"
   ]
  },
  {
   "cell_type": "code",
   "execution_count": 73,
   "metadata": {},
   "outputs": [],
   "source": [
    "sups_top_20_cities = df[df['city'].isin(list(top_20_cities.index))]"
   ]
  },
  {
   "cell_type": "code",
   "execution_count": 74,
   "metadata": {},
   "outputs": [
    {
     "data": {
      "text/plain": [
       "operating    11372\n",
       "acquired      1570\n",
       "closed         749\n",
       "Name: status, dtype: int64"
      ]
     },
     "execution_count": 74,
     "metadata": {},
     "output_type": "execute_result"
    }
   ],
   "source": [
    "sups_top_20_cities['status'].value_counts()"
   ]
  },
  {
   "cell_type": "markdown",
   "metadata": {},
   "source": [
    "## Now let's look at the same success to failure ratios as before, but for the cities with the most startups"
   ]
  },
  {
   "cell_type": "code",
   "execution_count": 77,
   "metadata": {},
   "outputs": [
    {
     "name": "stdout",
     "output_type": "stream",
     "text": [
      "Operating + Acquired to Closed Ratio for all startups: 95.0%\n",
      "Acquired to All ratio for all startups: 11.0%\n"
     ]
    }
   ],
   "source": [
    "g_status = sups_top_20_cities['status'].dropna().value_counts()\n",
    "s_to_f = (g_status['operating'] + g_status['acquired']) / len(sups_top_20_cities['status'].dropna())\n",
    "a_to_all = (g_status['acquired']) / len(sups_top_20_cities['status'].dropna())\n",
    "\n",
    "print(f'Operating + Acquired vs Closed Ratio for all startups: {round(s_to_f, 2)*100}%')\n",
    "print(f\"Acquired vs Operating and Closed ratio for all startups: {round(a_to_all, 2)*100}%\")"
   ]
  },
  {
   "cell_type": "markdown",
   "metadata": {},
   "source": [
    "## Finally, let's look at the same success to failure ratios as before, but for the cities not in the top 20 that we looked at before"
   ]
  },
  {
   "cell_type": "code",
   "execution_count": 83,
   "metadata": {},
   "outputs": [],
   "source": [
    "not_top_20_cities = cities.value_counts()[20:]"
   ]
  },
  {
   "cell_type": "code",
   "execution_count": 85,
   "metadata": {},
   "outputs": [],
   "source": [
    "sups_not_top_20_cities = df[df['city'].isin(list(not_top_20_cities.index))]"
   ]
  },
  {
   "cell_type": "code",
   "execution_count": 86,
   "metadata": {},
   "outputs": [
    {
     "name": "stdout",
     "output_type": "stream",
     "text": [
      "Operating + Acquired to Closed Ratio for all startups: 95.0%\n",
      "Acquired to All ratio for all startups: 7.000000000000001%\n"
     ]
    }
   ],
   "source": [
    "g_status = sups_not_top_20_cities['status'].dropna().value_counts()\n",
    "s_to_f = (g_status['operating'] + g_status['acquired']) / len(sups_not_top_20_cities['status'].dropna())\n",
    "a_to_all = (g_status['acquired']) / len(sups_not_top_20_cities['status'].dropna())\n",
    "\n",
    "print(f'Operating + Acquired vs Closed Ratio for all startups: {round(s_to_f, 2)*100}%')\n",
    "print(f\"Acquired vs Operating and Closed ratio for all startups: {round(a_to_all, 2)*100}%\")"
   ]
  },
  {
   "cell_type": "code",
   "execution_count": null,
   "metadata": {},
   "outputs": [],
   "source": []
  }
 ],
 "metadata": {
  "kernelspec": {
   "display_name": "Python 3",
   "language": "python",
   "name": "python3"
  },
  "language_info": {
   "codemirror_mode": {
    "name": "ipython",
    "version": 3
   },
   "file_extension": ".py",
   "mimetype": "text/x-python",
   "name": "python",
   "nbconvert_exporter": "python",
   "pygments_lexer": "ipython3",
   "version": "3.7.6"
  }
 },
 "nbformat": 4,
 "nbformat_minor": 2
}
