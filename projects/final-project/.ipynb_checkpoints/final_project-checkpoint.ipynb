{
 "cells": [
  {
   "cell_type": "code",
   "execution_count": 31,
   "metadata": {},
   "outputs": [],
   "source": [
    "import pandas as pd\n",
    "import numpy as np\n",
    "import seaborn as sns\n",
    "import matplotlib.pyplot as plt"
   ]
  },
  {
   "cell_type": "markdown",
   "metadata": {},
   "source": [
    "# Here we have a dataset of startup funding via Crunchbase\n",
    "\n",
    "Link to dataset: https://www.kaggle.com/arindam235/startup-investments-crunchbase#investments_VC.csv"
   ]
  },
  {
   "cell_type": "code",
   "execution_count": 71,
   "metadata": {},
   "outputs": [],
   "source": [
    "df = pd.read_csv('investments_VC.csv', encoding= 'unicode_escape')"
   ]
  },
  {
   "cell_type": "code",
   "execution_count": 33,
   "metadata": {},
   "outputs": [
    {
     "name": "stdout",
     "output_type": "stream",
     "text": [
      "Length of df: 54294\n"
     ]
    }
   ],
   "source": [
    "print(\"Length of df: {}\".format(len(df)))"
   ]
  },
  {
   "cell_type": "code",
   "execution_count": 34,
   "metadata": {},
   "outputs": [
    {
     "data": {
      "text/html": [
       "<div>\n",
       "<style scoped>\n",
       "    .dataframe tbody tr th:only-of-type {\n",
       "        vertical-align: middle;\n",
       "    }\n",
       "\n",
       "    .dataframe tbody tr th {\n",
       "        vertical-align: top;\n",
       "    }\n",
       "\n",
       "    .dataframe thead th {\n",
       "        text-align: right;\n",
       "    }\n",
       "</style>\n",
       "<table border=\"1\" class=\"dataframe\">\n",
       "  <thead>\n",
       "    <tr style=\"text-align: right;\">\n",
       "      <th></th>\n",
       "      <th>permalink</th>\n",
       "      <th>name</th>\n",
       "      <th>homepage_url</th>\n",
       "      <th>category_list</th>\n",
       "      <th>market</th>\n",
       "      <th>funding_total_usd</th>\n",
       "      <th>status</th>\n",
       "      <th>country_code</th>\n",
       "      <th>state_code</th>\n",
       "      <th>region</th>\n",
       "      <th>...</th>\n",
       "      <th>secondary_market</th>\n",
       "      <th>product_crowdfunding</th>\n",
       "      <th>round_A</th>\n",
       "      <th>round_B</th>\n",
       "      <th>round_C</th>\n",
       "      <th>round_D</th>\n",
       "      <th>round_E</th>\n",
       "      <th>round_F</th>\n",
       "      <th>round_G</th>\n",
       "      <th>round_H</th>\n",
       "    </tr>\n",
       "  </thead>\n",
       "  <tbody>\n",
       "    <tr>\n",
       "      <td>54289</td>\n",
       "      <td>NaN</td>\n",
       "      <td>NaN</td>\n",
       "      <td>NaN</td>\n",
       "      <td>NaN</td>\n",
       "      <td>NaN</td>\n",
       "      <td>NaN</td>\n",
       "      <td>NaN</td>\n",
       "      <td>NaN</td>\n",
       "      <td>NaN</td>\n",
       "      <td>NaN</td>\n",
       "      <td>...</td>\n",
       "      <td>NaN</td>\n",
       "      <td>NaN</td>\n",
       "      <td>NaN</td>\n",
       "      <td>NaN</td>\n",
       "      <td>NaN</td>\n",
       "      <td>NaN</td>\n",
       "      <td>NaN</td>\n",
       "      <td>NaN</td>\n",
       "      <td>NaN</td>\n",
       "      <td>NaN</td>\n",
       "    </tr>\n",
       "    <tr>\n",
       "      <td>54290</td>\n",
       "      <td>NaN</td>\n",
       "      <td>NaN</td>\n",
       "      <td>NaN</td>\n",
       "      <td>NaN</td>\n",
       "      <td>NaN</td>\n",
       "      <td>NaN</td>\n",
       "      <td>NaN</td>\n",
       "      <td>NaN</td>\n",
       "      <td>NaN</td>\n",
       "      <td>NaN</td>\n",
       "      <td>...</td>\n",
       "      <td>NaN</td>\n",
       "      <td>NaN</td>\n",
       "      <td>NaN</td>\n",
       "      <td>NaN</td>\n",
       "      <td>NaN</td>\n",
       "      <td>NaN</td>\n",
       "      <td>NaN</td>\n",
       "      <td>NaN</td>\n",
       "      <td>NaN</td>\n",
       "      <td>NaN</td>\n",
       "    </tr>\n",
       "    <tr>\n",
       "      <td>54291</td>\n",
       "      <td>NaN</td>\n",
       "      <td>NaN</td>\n",
       "      <td>NaN</td>\n",
       "      <td>NaN</td>\n",
       "      <td>NaN</td>\n",
       "      <td>NaN</td>\n",
       "      <td>NaN</td>\n",
       "      <td>NaN</td>\n",
       "      <td>NaN</td>\n",
       "      <td>NaN</td>\n",
       "      <td>...</td>\n",
       "      <td>NaN</td>\n",
       "      <td>NaN</td>\n",
       "      <td>NaN</td>\n",
       "      <td>NaN</td>\n",
       "      <td>NaN</td>\n",
       "      <td>NaN</td>\n",
       "      <td>NaN</td>\n",
       "      <td>NaN</td>\n",
       "      <td>NaN</td>\n",
       "      <td>NaN</td>\n",
       "    </tr>\n",
       "    <tr>\n",
       "      <td>54292</td>\n",
       "      <td>NaN</td>\n",
       "      <td>NaN</td>\n",
       "      <td>NaN</td>\n",
       "      <td>NaN</td>\n",
       "      <td>NaN</td>\n",
       "      <td>NaN</td>\n",
       "      <td>NaN</td>\n",
       "      <td>NaN</td>\n",
       "      <td>NaN</td>\n",
       "      <td>NaN</td>\n",
       "      <td>...</td>\n",
       "      <td>NaN</td>\n",
       "      <td>NaN</td>\n",
       "      <td>NaN</td>\n",
       "      <td>NaN</td>\n",
       "      <td>NaN</td>\n",
       "      <td>NaN</td>\n",
       "      <td>NaN</td>\n",
       "      <td>NaN</td>\n",
       "      <td>NaN</td>\n",
       "      <td>NaN</td>\n",
       "    </tr>\n",
       "    <tr>\n",
       "      <td>54293</td>\n",
       "      <td>NaN</td>\n",
       "      <td>NaN</td>\n",
       "      <td>NaN</td>\n",
       "      <td>NaN</td>\n",
       "      <td>NaN</td>\n",
       "      <td>NaN</td>\n",
       "      <td>NaN</td>\n",
       "      <td>NaN</td>\n",
       "      <td>NaN</td>\n",
       "      <td>NaN</td>\n",
       "      <td>...</td>\n",
       "      <td>NaN</td>\n",
       "      <td>NaN</td>\n",
       "      <td>NaN</td>\n",
       "      <td>NaN</td>\n",
       "      <td>NaN</td>\n",
       "      <td>NaN</td>\n",
       "      <td>NaN</td>\n",
       "      <td>NaN</td>\n",
       "      <td>NaN</td>\n",
       "      <td>NaN</td>\n",
       "    </tr>\n",
       "  </tbody>\n",
       "</table>\n",
       "<p>5 rows × 39 columns</p>\n",
       "</div>"
      ],
      "text/plain": [
       "      permalink name homepage_url category_list market funding_total_usd  \\\n",
       "54289       NaN  NaN          NaN           NaN    NaN               NaN   \n",
       "54290       NaN  NaN          NaN           NaN    NaN               NaN   \n",
       "54291       NaN  NaN          NaN           NaN    NaN               NaN   \n",
       "54292       NaN  NaN          NaN           NaN    NaN               NaN   \n",
       "54293       NaN  NaN          NaN           NaN    NaN               NaN   \n",
       "\n",
       "      status country_code state_code region  ... secondary_market  \\\n",
       "54289    NaN          NaN        NaN    NaN  ...              NaN   \n",
       "54290    NaN          NaN        NaN    NaN  ...              NaN   \n",
       "54291    NaN          NaN        NaN    NaN  ...              NaN   \n",
       "54292    NaN          NaN        NaN    NaN  ...              NaN   \n",
       "54293    NaN          NaN        NaN    NaN  ...              NaN   \n",
       "\n",
       "       product_crowdfunding round_A round_B round_C  round_D round_E round_F  \\\n",
       "54289                   NaN     NaN     NaN     NaN      NaN     NaN     NaN   \n",
       "54290                   NaN     NaN     NaN     NaN      NaN     NaN     NaN   \n",
       "54291                   NaN     NaN     NaN     NaN      NaN     NaN     NaN   \n",
       "54292                   NaN     NaN     NaN     NaN      NaN     NaN     NaN   \n",
       "54293                   NaN     NaN     NaN     NaN      NaN     NaN     NaN   \n",
       "\n",
       "       round_G  round_H  \n",
       "54289      NaN      NaN  \n",
       "54290      NaN      NaN  \n",
       "54291      NaN      NaN  \n",
       "54292      NaN      NaN  \n",
       "54293      NaN      NaN  \n",
       "\n",
       "[5 rows x 39 columns]"
      ]
     },
     "execution_count": 34,
     "metadata": {},
     "output_type": "execute_result"
    }
   ],
   "source": [
    "df.tail()"
   ]
  },
  {
   "cell_type": "code",
   "execution_count": 35,
   "metadata": {},
   "outputs": [
    {
     "name": "stdout",
     "output_type": "stream",
     "text": [
      "column 0 -> permalink\n",
      "column 1 -> name\n",
      "column 2 -> homepage_url\n",
      "column 3 -> category_list\n",
      "column 4 -> market\n",
      "column 5 -> funding_total_usd\n",
      "column 6 -> status\n",
      "column 7 -> country_code\n",
      "column 8 -> state_code\n",
      "column 9 -> region\n",
      "column 10 -> city\n",
      "column 11 -> funding_rounds\n",
      "column 12 -> founded_at\n",
      "column 13 -> founded_month\n",
      "column 14 -> founded_quarter\n",
      "column 15 -> founded_year\n",
      "column 16 -> first_funding_at\n",
      "column 17 -> last_funding_at\n",
      "column 18 -> seed\n",
      "column 19 -> venture\n",
      "column 20 -> equity_crowdfunding\n",
      "column 21 -> undisclosed\n",
      "column 22 -> convertible_note\n",
      "column 23 -> debt_financing\n",
      "column 24 -> angel\n",
      "column 25 -> grant\n",
      "column 26 -> private_equity\n",
      "column 27 -> post_ipo_equity\n",
      "column 28 -> post_ipo_debt\n",
      "column 29 -> secondary_market\n",
      "column 30 -> product_crowdfunding\n",
      "column 31 -> round_A\n",
      "column 32 -> round_B\n",
      "column 33 -> round_C\n",
      "column 34 -> round_D\n",
      "column 35 -> round_E\n",
      "column 36 -> round_F\n",
      "column 37 -> round_G\n",
      "column 38 -> round_H\n"
     ]
    }
   ],
   "source": [
    "for i, item in enumerate(df.columns):\n",
    "    print(f'column {i} -> {item}')"
   ]
  },
  {
   "cell_type": "markdown",
   "metadata": {},
   "source": [
    "# The goals of this analysis is to:\n",
    "#### 1: Understand the general trends of the startup ecosystem\n",
    "- Success vs Failure stats \n",
    "#### 2: Gather statistics by features\n",
    "- Which markets are the most popular\n",
    "- Which markets lead to more startup success\n",
    "#### 3: Find patterns in the data that reflect success/failure of a startup\n",
    "- Figure this out\n",
    "#### 4: Figure out the most important features that lead to startup success/failure\n",
    "- Use Random Forest Trees to help out here"
   ]
  },
  {
   "cell_type": "markdown",
   "metadata": {},
   "source": [
    "# Let's try to clean up the data a little bit and choose GOOD samle dataset \n",
    "And maybe find some outliers ;)"
   ]
  },
  {
   "cell_type": "code",
   "execution_count": 73,
   "metadata": {},
   "outputs": [
    {
     "name": "stdout",
     "output_type": "stream",
     "text": [
      "Length of df BEFORE dropping all null rows: 54294\n",
      "Length of df AFTER dropping all null rows: 49438\n"
     ]
    }
   ],
   "source": [
    "print(\"Length of df BEFORE dropping all null rows: {}\".format(len(df)))\n",
    "df = df.dropna(axis=0, how='all')\n",
    "print(\"Length of df AFTER dropping all null rows: {}\".format(len(df)))"
   ]
  },
  {
   "cell_type": "code",
   "execution_count": 72,
   "metadata": {},
   "outputs": [
    {
     "data": {
      "text/html": [
       "<div>\n",
       "<style scoped>\n",
       "    .dataframe tbody tr th:only-of-type {\n",
       "        vertical-align: middle;\n",
       "    }\n",
       "\n",
       "    .dataframe tbody tr th {\n",
       "        vertical-align: top;\n",
       "    }\n",
       "\n",
       "    .dataframe thead th {\n",
       "        text-align: right;\n",
       "    }\n",
       "</style>\n",
       "<table border=\"1\" class=\"dataframe\">\n",
       "  <thead>\n",
       "    <tr style=\"text-align: right;\">\n",
       "      <th></th>\n",
       "      <th>permalink</th>\n",
       "      <th>name</th>\n",
       "      <th>homepage_url</th>\n",
       "      <th>category_list</th>\n",
       "      <th>market</th>\n",
       "      <th>funding_total_usd</th>\n",
       "      <th>status</th>\n",
       "      <th>country_code</th>\n",
       "      <th>state_code</th>\n",
       "      <th>region</th>\n",
       "      <th>...</th>\n",
       "      <th>secondary_market</th>\n",
       "      <th>product_crowdfunding</th>\n",
       "      <th>round_A</th>\n",
       "      <th>round_B</th>\n",
       "      <th>round_C</th>\n",
       "      <th>round_D</th>\n",
       "      <th>round_E</th>\n",
       "      <th>round_F</th>\n",
       "      <th>round_G</th>\n",
       "      <th>round_H</th>\n",
       "    </tr>\n",
       "  </thead>\n",
       "  <tbody>\n",
       "    <tr>\n",
       "      <td>0</td>\n",
       "      <td>/organization/waywire</td>\n",
       "      <td>#waywire</td>\n",
       "      <td>http://www.waywire.com</td>\n",
       "      <td>|Entertainment|Politics|Social Media|News|</td>\n",
       "      <td>News</td>\n",
       "      <td>17,50,000</td>\n",
       "      <td>acquired</td>\n",
       "      <td>USA</td>\n",
       "      <td>NY</td>\n",
       "      <td>New York City</td>\n",
       "      <td>...</td>\n",
       "      <td>0.0</td>\n",
       "      <td>0.0</td>\n",
       "      <td>0.0</td>\n",
       "      <td>0.0</td>\n",
       "      <td>0.0</td>\n",
       "      <td>0.0</td>\n",
       "      <td>0.0</td>\n",
       "      <td>0.0</td>\n",
       "      <td>0.0</td>\n",
       "      <td>0.0</td>\n",
       "    </tr>\n",
       "    <tr>\n",
       "      <td>1</td>\n",
       "      <td>/organization/tv-communications</td>\n",
       "      <td>&amp;TV Communications</td>\n",
       "      <td>http://enjoyandtv.com</td>\n",
       "      <td>|Games|</td>\n",
       "      <td>Games</td>\n",
       "      <td>40,00,000</td>\n",
       "      <td>operating</td>\n",
       "      <td>USA</td>\n",
       "      <td>CA</td>\n",
       "      <td>Los Angeles</td>\n",
       "      <td>...</td>\n",
       "      <td>0.0</td>\n",
       "      <td>0.0</td>\n",
       "      <td>0.0</td>\n",
       "      <td>0.0</td>\n",
       "      <td>0.0</td>\n",
       "      <td>0.0</td>\n",
       "      <td>0.0</td>\n",
       "      <td>0.0</td>\n",
       "      <td>0.0</td>\n",
       "      <td>0.0</td>\n",
       "    </tr>\n",
       "    <tr>\n",
       "      <td>2</td>\n",
       "      <td>/organization/rock-your-paper</td>\n",
       "      <td>'Rock' Your Paper</td>\n",
       "      <td>http://www.rockyourpaper.org</td>\n",
       "      <td>|Publishing|Education|</td>\n",
       "      <td>Publishing</td>\n",
       "      <td>40,000</td>\n",
       "      <td>operating</td>\n",
       "      <td>EST</td>\n",
       "      <td>NaN</td>\n",
       "      <td>Tallinn</td>\n",
       "      <td>...</td>\n",
       "      <td>0.0</td>\n",
       "      <td>0.0</td>\n",
       "      <td>0.0</td>\n",
       "      <td>0.0</td>\n",
       "      <td>0.0</td>\n",
       "      <td>0.0</td>\n",
       "      <td>0.0</td>\n",
       "      <td>0.0</td>\n",
       "      <td>0.0</td>\n",
       "      <td>0.0</td>\n",
       "    </tr>\n",
       "    <tr>\n",
       "      <td>3</td>\n",
       "      <td>/organization/in-touch-network</td>\n",
       "      <td>(In)Touch Network</td>\n",
       "      <td>http://www.InTouchNetwork.com</td>\n",
       "      <td>|Electronics|Guides|Coffee|Restaurants|Music|i...</td>\n",
       "      <td>Electronics</td>\n",
       "      <td>15,00,000</td>\n",
       "      <td>operating</td>\n",
       "      <td>GBR</td>\n",
       "      <td>NaN</td>\n",
       "      <td>London</td>\n",
       "      <td>...</td>\n",
       "      <td>0.0</td>\n",
       "      <td>0.0</td>\n",
       "      <td>0.0</td>\n",
       "      <td>0.0</td>\n",
       "      <td>0.0</td>\n",
       "      <td>0.0</td>\n",
       "      <td>0.0</td>\n",
       "      <td>0.0</td>\n",
       "      <td>0.0</td>\n",
       "      <td>0.0</td>\n",
       "    </tr>\n",
       "    <tr>\n",
       "      <td>4</td>\n",
       "      <td>/organization/r-ranch-and-mine</td>\n",
       "      <td>-R- Ranch and Mine</td>\n",
       "      <td>NaN</td>\n",
       "      <td>|Tourism|Entertainment|Games|</td>\n",
       "      <td>Tourism</td>\n",
       "      <td>60,000</td>\n",
       "      <td>operating</td>\n",
       "      <td>USA</td>\n",
       "      <td>TX</td>\n",
       "      <td>Dallas</td>\n",
       "      <td>...</td>\n",
       "      <td>0.0</td>\n",
       "      <td>0.0</td>\n",
       "      <td>0.0</td>\n",
       "      <td>0.0</td>\n",
       "      <td>0.0</td>\n",
       "      <td>0.0</td>\n",
       "      <td>0.0</td>\n",
       "      <td>0.0</td>\n",
       "      <td>0.0</td>\n",
       "      <td>0.0</td>\n",
       "    </tr>\n",
       "  </tbody>\n",
       "</table>\n",
       "<p>5 rows × 39 columns</p>\n",
       "</div>"
      ],
      "text/plain": [
       "                         permalink                name  \\\n",
       "0            /organization/waywire            #waywire   \n",
       "1  /organization/tv-communications  &TV Communications   \n",
       "2    /organization/rock-your-paper   'Rock' Your Paper   \n",
       "3   /organization/in-touch-network   (In)Touch Network   \n",
       "4   /organization/r-ranch-and-mine  -R- Ranch and Mine   \n",
       "\n",
       "                    homepage_url  \\\n",
       "0         http://www.waywire.com   \n",
       "1          http://enjoyandtv.com   \n",
       "2   http://www.rockyourpaper.org   \n",
       "3  http://www.InTouchNetwork.com   \n",
       "4                            NaN   \n",
       "\n",
       "                                       category_list         market  \\\n",
       "0         |Entertainment|Politics|Social Media|News|          News    \n",
       "1                                            |Games|         Games    \n",
       "2                             |Publishing|Education|    Publishing    \n",
       "3  |Electronics|Guides|Coffee|Restaurants|Music|i...   Electronics    \n",
       "4                      |Tourism|Entertainment|Games|       Tourism    \n",
       "\n",
       "  funding_total_usd     status country_code state_code         region  ...  \\\n",
       "0        17,50,000    acquired          USA         NY  New York City  ...   \n",
       "1        40,00,000   operating          USA         CA    Los Angeles  ...   \n",
       "2           40,000   operating          EST        NaN        Tallinn  ...   \n",
       "3        15,00,000   operating          GBR        NaN         London  ...   \n",
       "4           60,000   operating          USA         TX         Dallas  ...   \n",
       "\n",
       "  secondary_market  product_crowdfunding round_A round_B round_C  round_D  \\\n",
       "0              0.0                   0.0     0.0     0.0     0.0      0.0   \n",
       "1              0.0                   0.0     0.0     0.0     0.0      0.0   \n",
       "2              0.0                   0.0     0.0     0.0     0.0      0.0   \n",
       "3              0.0                   0.0     0.0     0.0     0.0      0.0   \n",
       "4              0.0                   0.0     0.0     0.0     0.0      0.0   \n",
       "\n",
       "  round_E round_F  round_G  round_H  \n",
       "0     0.0     0.0      0.0      0.0  \n",
       "1     0.0     0.0      0.0      0.0  \n",
       "2     0.0     0.0      0.0      0.0  \n",
       "3     0.0     0.0      0.0      0.0  \n",
       "4     0.0     0.0      0.0      0.0  \n",
       "\n",
       "[5 rows x 39 columns]"
      ]
     },
     "execution_count": 72,
     "metadata": {},
     "output_type": "execute_result"
    }
   ],
   "source": [
    "df.head()"
   ]
  },
  {
   "cell_type": "code",
   "execution_count": 74,
   "metadata": {},
   "outputs": [],
   "source": [
    "df['funding_total_usd'] = df['funding_total_usd'].apply(lambda x: x.replace(',',''))"
   ]
  },
  {
   "cell_type": "code",
   "execution_count": 75,
   "metadata": {},
   "outputs": [
    {
     "name": "stdout",
     "output_type": "stream",
     "text": [
      "Num: 8531\n"
     ]
    }
   ],
   "source": [
    "num = 0\n",
    "for i in df['funding_total_usd']:\n",
    "    if '-' in i:\n",
    "        num += 1\n",
    "print(f'Num: {num}')"
   ]
  },
  {
   "cell_type": "code",
   "execution_count": 76,
   "metadata": {},
   "outputs": [],
   "source": [
    "df['funding_total_usd'] = df['funding_total_usd'].apply(lambda x: np.nan if '-' in x else x)"
   ]
  },
  {
   "cell_type": "code",
   "execution_count": 85,
   "metadata": {},
   "outputs": [],
   "source": [
    "df['funding_total_usd'] = pd.to_numeric(df['funding_total_usd'])"
   ]
  },
  {
   "cell_type": "code",
   "execution_count": 91,
   "metadata": {},
   "outputs": [
    {
     "data": {
      "text/plain": [
       "<matplotlib.axes._subplots.AxesSubplot at 0x12c121190>"
      ]
     },
     "execution_count": 91,
     "metadata": {},
     "output_type": "execute_result"
    },
    {
     "data": {
      "image/png": "[encoded data removed]",
      "text/plain": [
       "<Figure size 432x288 with 1 Axes>"
      ]
     },
     "metadata": {
      "needs_background": "light"
     },
     "output_type": "display_data"
    }
   ],
   "source": [
    "df['funding_total_usd'].plot(kind='box')"
   ]
  },
  {
   "cell_type": "code",
   "execution_count": 99,
   "metadata": {},
   "outputs": [
    {
     "name": "stdout",
     "output_type": "stream",
     "text": [
      "We have 32 companies that raised more than a billion\n"
     ]
    }
   ],
   "source": [
    "more_thana_b = df[df['funding_total_usd'] > 1000000000]\n",
    "print(f\"We have {len(more_thana_b)} companies that raised more than a billion\")"
   ]
  },
  {
   "cell_type": "code",
   "execution_count": 105,
   "metadata": {},
   "outputs": [
    {
     "data": {
      "text/plain": [
       "<matplotlib.axes._subplots.AxesSubplot at 0x12bbf3f50>"
      ]
     },
     "execution_count": 105,
     "metadata": {},
     "output_type": "execute_result"
    },
    {
     "data": {
      "image/png": "[encoded data removed]",
      "text/plain": [
       "<Figure size 432x288 with 1 Axes>"
      ]
     },
     "metadata": {
      "needs_background": "light"
     },
     "output_type": "display_data"
    }
   ],
   "source": [
    "# Less than a billion dollars in funding\n",
    "df[df['funding_total_usd'] < 1000000000]['funding_total_usd'].plot(kind='box')"
   ]
  },
  {
   "cell_type": "code",
   "execution_count": 104,
   "metadata": {},
   "outputs": [
    {
     "data": {
      "text/plain": [
       "<matplotlib.axes._subplots.AxesSubplot at 0x12cf075d0>"
      ]
     },
     "execution_count": 104,
     "metadata": {},
     "output_type": "execute_result"
    },
    {
     "data": {
      "image/png": "[encoded data removed]",
      "text/plain": [
       "<Figure size 432x288 with 1 Axes>"
      ]
     },
     "metadata": {
      "needs_background": "light"
     },
     "output_type": "display_data"
    }
   ],
   "source": [
    "# Less than 100 million\n",
    "df[df['funding_total_usd'] < 100000000]['funding_total_usd'].plot(kind='box')"
   ]
  },
  {
   "cell_type": "code",
   "execution_count": 111,
   "metadata": {},
   "outputs": [
    {
     "data": {
      "text/plain": [
       "<matplotlib.axes._subplots.AxesSubplot at 0x1304f0d90>"
      ]
     },
     "execution_count": 111,
     "metadata": {},
     "output_type": "execute_result"
    },
    {
     "data": {
      "image/png": "[encoded data removed]",
      "text/plain": [
       "<Figure size 432x288 with 1 Axes>"
      ]
     },
     "metadata": {
      "needs_background": "light"
     },
     "output_type": "display_data"
    }
   ],
   "source": [
    "# Less than 10 million\n",
    "df[df['funding_total_usd'] < 10000000]['funding_total_usd'].plot(kind='box')"
   ]
  },
  {
   "cell_type": "code",
   "execution_count": 118,
   "metadata": {},
   "outputs": [
    {
     "data": {
      "text/plain": [
       "<matplotlib.axes._subplots.AxesSubplot at 0x13105d850>"
      ]
     },
     "execution_count": 118,
     "metadata": {},
     "output_type": "execute_result"
    },
    {
     "data": {
      "image/png": "[encoded data removed]",
      "text/plain": [
       "<Figure size 432x288 with 1 Axes>"
      ]
     },
     "metadata": {
      "needs_background": "light"
     },
     "output_type": "display_data"
    }
   ],
   "source": [
    "# Less than 2.37 million, this one looks good!\n",
    "df[df['funding_total_usd'] < 2370000]['funding_total_usd'].plot(kind='box')"
   ]
  },
  {
   "cell_type": "markdown",
   "metadata": {},
   "source": [
    "# We will split up data based on these box-plots and analyze them differently!\n",
    "### But you can see, that if we look at the funding total, the box plot shows that data below 2.37 million has barely any outliers!"
   ]
  },
  {
   "cell_type": "code",
   "execution_count": 120,
   "metadata": {},
   "outputs": [],
   "source": [
    "majority_df = df[df['funding_total_usd'] <= 2370000] # This is data without any outliers\n",
    "outliers = df[df['funding_total_usd'] > 2370000] # This is the outliers, or more than 2.37 million in total funding\n",
    "unicorns = df[df['funding_total_usd'] > 1000000000] # More than a billion in funding"
   ]
  },
  {
   "cell_type": "markdown",
   "metadata": {},
   "source": [
    "# General Trends in the Startup Ecosystem as a whole"
   ]
  },
  {
   "cell_type": "markdown",
   "metadata": {},
   "source": [
    "Looking at the whole dataset, what is the success/failure ratio?"
   ]
  },
  {
   "cell_type": "code",
   "execution_count": 189,
   "metadata": {},
   "outputs": [
    {
     "name": "stdout",
     "output_type": "stream",
     "text": [
      "Percentages for the status of startups everywhere\n",
      "-------------------------------------------------\n",
      "% operating: 86.9%\n",
      "% acquired: 7.7%\n",
      "% closed: 5.4%\n"
     ]
    }
   ],
   "source": [
    "g_status = df['status'].dropna().value_counts()\n",
    "total_num = len(df['status'].dropna())\n",
    "o_per = g_status['operating'] / total_num\n",
    "a_per = g_status['acquired'] / total_num\n",
    "c_per = g_status['closed'] / total_num\n",
    "s_to_f = (g_status['operating'] + g_status['acquired']) / total_num\n",
    "a_to_all = (g_status['acquired']) / total_num\n",
    "\n",
    "\n",
    "print(\"Percentages for the status of startups everywhere\")\n",
    "print(\"-------------------------------------------------\")\n",
    "print(f'% operating: {round(o_per, 3)*100}%')\n",
    "print(f'% acquired: {round(a_per, 3)*100}%')\n",
    "print(f'% closed: {round(c_per, 3)*100}%')"
   ]
  },
  {
   "cell_type": "markdown",
   "metadata": {},
   "source": [
    "#### This shows the opposite of what the saying is, that 95% of startups are still operating or have been aquired.\n",
    "But if you consider success as being aquired, then we get only 8%. Up to personal definition I guess!"
   ]
  },
  {
   "cell_type": "code",
   "execution_count": 123,
   "metadata": {},
   "outputs": [],
   "source": [
    "cities = df['city'].dropna()"
   ]
  },
  {
   "cell_type": "code",
   "execution_count": 124,
   "metadata": {},
   "outputs": [
    {
     "data": {
      "text/plain": [
       "0                  New York\n",
       "1               Los Angeles\n",
       "2                   Tallinn\n",
       "3                    London\n",
       "4                Fort Worth\n",
       "                ...        \n",
       "49432    Gerasdorf Bei Wien\n",
       "49433                London\n",
       "49434               Beijing\n",
       "49435                 Split\n",
       "49437              New York\n",
       "Name: city, Length: 43322, dtype: object"
      ]
     },
     "execution_count": 124,
     "metadata": {},
     "output_type": "execute_result"
    }
   ],
   "source": [
    "cities"
   ]
  },
  {
   "cell_type": "code",
   "execution_count": 125,
   "metadata": {},
   "outputs": [],
   "source": [
    "top_20_cities = cities.value_counts()[:20]"
   ]
  },
  {
   "cell_type": "code",
   "execution_count": 144,
   "metadata": {},
   "outputs": [],
   "source": [
    "not_top_20_citites = cities.value_counts()[20:]"
   ]
  },
  {
   "cell_type": "code",
   "execution_count": 129,
   "metadata": {},
   "outputs": [],
   "source": [
    "top_2_cities = cities.value_counts()[:20]"
   ]
  },
  {
   "cell_type": "code",
   "execution_count": 131,
   "metadata": {},
   "outputs": [
    {
     "data": {
      "image/png": "[encoded data removed]",
      "text/plain": [
       "<Figure size 720x360 with 1 Axes>"
      ]
     },
     "metadata": {
      "needs_background": "light"
     },
     "output_type": "display_data"
    }
   ],
   "source": [
    "plt.rcParams[\"figure.figsize\"] = (10,5)\n",
    "_= cities.value_counts()[:20].plot(kind='bar', title=\"20 cities with the most startups\")"
   ]
  },
  {
   "cell_type": "code",
   "execution_count": 132,
   "metadata": {},
   "outputs": [],
   "source": [
    "sups_top_20_cities = df[df['city'].isin(list(top_20_cities.index))]"
   ]
  },
  {
   "cell_type": "code",
   "execution_count": 133,
   "metadata": {},
   "outputs": [
    {
     "data": {
      "text/plain": [
       "operating    11372\n",
       "acquired      1570\n",
       "closed         749\n",
       "Name: status, dtype: int64"
      ]
     },
     "execution_count": 133,
     "metadata": {},
     "output_type": "execute_result"
    }
   ],
   "source": [
    "sups_top_20_cities['status'].value_counts()"
   ]
  },
  {
   "cell_type": "code",
   "execution_count": 154,
   "metadata": {},
   "outputs": [],
   "source": [
    "sups_not_top_20_cities = df[df['city'].isin(list(not_top_20_citites.index))]"
   ]
  },
  {
   "cell_type": "code",
   "execution_count": 155,
   "metadata": {},
   "outputs": [
    {
     "data": {
      "text/plain": [
       "operating    25291\n",
       "acquired      1872\n",
       "closed        1413\n",
       "Name: status, dtype: int64"
      ]
     },
     "execution_count": 155,
     "metadata": {},
     "output_type": "execute_result"
    }
   ],
   "source": [
    "sups_not_top_20_cities['status'].value_counts()"
   ]
  },
  {
   "cell_type": "code",
   "execution_count": 136,
   "metadata": {},
   "outputs": [],
   "source": [
    "sups_top2_cities = df[df['city'].isin(list(top_2_cities.index))]"
   ]
  },
  {
   "cell_type": "code",
   "execution_count": 137,
   "metadata": {},
   "outputs": [
    {
     "data": {
      "text/plain": [
       "operating    3984\n",
       "acquired      607\n",
       "closed        276\n",
       "Name: status, dtype: int64"
      ]
     },
     "execution_count": 137,
     "metadata": {},
     "output_type": "execute_result"
    }
   ],
   "source": [
    "sups_top2_cities['status'].value_counts()"
   ]
  },
  {
   "cell_type": "markdown",
   "metadata": {},
   "source": [
    "## Now let's look at the same success to failure ratios as before, but for the 20 cities with the most startups"
   ]
  },
  {
   "cell_type": "code",
   "execution_count": 188,
   "metadata": {},
   "outputs": [
    {
     "name": "stdout",
     "output_type": "stream",
     "text": [
      "Percentages for the status of startups in the top 20 cities\n",
      "-----------------------------------------------------------\n",
      "% operating: 83.1%\n",
      "% acquired: 11.5%\n",
      "% closed: 5.5%\n"
     ]
    }
   ],
   "source": [
    "# Cities in the top 20\n",
    "\n",
    "g_status = sups_top_20_cities['status'].dropna().value_counts()\n",
    "total_num = len(sups_top_20_cities['status'].dropna())\n",
    "o_per = g_status['operating'] / total_num\n",
    "a_per = g_status['acquired'] / total_num\n",
    "c_per = g_status['closed'] / total_num\n",
    "s_to_f = (g_status['operating'] + g_status['acquired']) / total_num\n",
    "a_to_all = (g_status['acquired']) / total_num\n",
    "\n",
    "print(\"Percentages for the status of startups in the top 20 cities\")\n",
    "print(\"-----------------------------------------------------------\")\n",
    "print(f'% operating: {round(o_per, 3)*100}%')\n",
    "print(f'% acquired: {round(a_per, 3)*100}%')\n",
    "print(f'% closed: {round(c_per, 3)*100}%')"
   ]
  },
  {
   "cell_type": "markdown",
   "metadata": {},
   "source": [
    "# And for cities not in the top 20"
   ]
  },
  {
   "cell_type": "code",
   "execution_count": 186,
   "metadata": {},
   "outputs": [
    {
     "name": "stdout",
     "output_type": "stream",
     "text": [
      "Percentages for the status of startups not in the top 20 cities\n",
      "---------------------------------------------------------------\n",
      "% operating: 88.504%\n",
      "% acquired: 6.551%\n",
      "% closed: 4.945%\n"
     ]
    }
   ],
   "source": [
    "# Cities not in the top 20\n",
    "\n",
    "g_status = sups_not_top_20_cities['status'].dropna().value_counts()\n",
    "total_num = len(sups_not_top_20_cities['status'].dropna())\n",
    "o_per = g_status['operating'] / total_num\n",
    "a_per = g_status['acquired'] / total_num\n",
    "c_per = g_status['closed'] / total_num\n",
    "s_to_f = (g_status['operating'] + g_status['acquired']) / total_num\n",
    "a_to_all = (g_status['acquired']) / total_num\n",
    "\n",
    "print(\"Percentages for the status of startups not in the top 20 cities\")\n",
    "print(\"---------------------------------------------------------------\")\n",
    "print(f'% operating: {round(o_per, 5)*100}%')\n",
    "print(f'% acquired: {round(a_per, 5)*100}%')\n",
    "print(f'% closed: {round(c_per, 5)*100}%')"
   ]
  },
  {
   "cell_type": "markdown",
   "metadata": {},
   "source": [
    "# To see if culture really affects startup success, let's look at the top 2"
   ]
  },
  {
   "cell_type": "code",
   "execution_count": 185,
   "metadata": {},
   "outputs": [
    {
     "name": "stdout",
     "output_type": "stream",
     "text": [
      "Percentages for the status of startups in the top 2 cities\n",
      "----------------------------------------------------------\n",
      "% operating: 82.0%\n",
      "% acquired: 12.5%\n",
      "% closed: 5.7%\n"
     ]
    }
   ],
   "source": [
    "# Top 2 cities\n",
    "\n",
    "g_status = sups_top2_cities['status'].dropna().value_counts()\n",
    "total_num = len(sups_top2_cities['status'].dropna())\n",
    "o_per = g_status['operating'] / total_num\n",
    "a_per = g_status['acquired'] / total_num\n",
    "c_per = g_status['closed'] / total_num\n",
    "s_to_f = (g_status['operating'] + g_status['acquired']) / total_num\n",
    "a_to_all = (g_status['acquired']) / total_num\n",
    "\n",
    "print(\"Percentages for the status of startups in the top 2 cities\")\n",
    "print(\"----------------------------------------------------------\")\n",
    "print(f'% operating: {round(o_per, 2)*100}%')\n",
    "print(f'% acquired: {round(a_per, 3)*100}%')\n",
    "print(f'% closed: {round(c_per, 3)*100}%')"
   ]
  },
  {
   "cell_type": "markdown",
   "metadata": {},
   "source": [
    "## All of these combined into one for presentation"
   ]
  },
  {
   "cell_type": "code",
   "execution_count": 194,
   "metadata": {},
   "outputs": [
    {
     "name": "stdout",
     "output_type": "stream",
     "text": [
      "Percentages for the status of startups everywhere\n",
      "-------------------------------------------------\n",
      "% operating: 86.9%\n",
      "% acquired: 7.7%\n",
      "% closed: 5.4%\n",
      "-------------------------------------------------\n",
      "Percentages for the status of startups in the top 20 cities\n",
      "-----------------------------------------------------------\n",
      "% operating: 83.1%\n",
      "% acquired: 11.5%\n",
      "% closed: 5.5%\n",
      "-------------------------------------------------\n",
      "Percentages for the status of startups not in the top 20 cities\n",
      "---------------------------------------------------------------\n",
      "% operating: 88.504%\n",
      "% acquired: 6.551%\n",
      "% closed: 4.945%\n",
      "-------------------------------------------------\n",
      "Percentages for the status of startups in the top 2 cities\n",
      "----------------------------------------------------------\n",
      "% operating: 82.0%\n",
      "% acquired: 12.5%\n",
      "% closed: 5.7%\n",
      "-------------------------------------------------\n"
     ]
    }
   ],
   "source": [
    "g_status = df['status'].dropna().value_counts()\n",
    "total_num = len(df['status'].dropna())\n",
    "o_per = g_status['operating'] / total_num\n",
    "a_per = g_status['acquired'] / total_num\n",
    "c_per = g_status['closed'] / total_num\n",
    "s_to_f = (g_status['operating'] + g_status['acquired']) / total_num\n",
    "a_to_all = (g_status['acquired']) / total_num\n",
    "\n",
    "\n",
    "print(\"Percentages for the status of startups everywhere\")\n",
    "print(\"-------------------------------------------------\")\n",
    "print(f'% operating: {round(o_per, 3)*100}%')\n",
    "print(f'% acquired: {round(a_per, 3)*100}%')\n",
    "print(f'% closed: {round(c_per, 3)*100}%')\n",
    "print(\"-------------------------------------------------\")\n",
    "\n",
    "# Cities in the top 20\n",
    "\n",
    "g_status = sups_top_20_cities['status'].dropna().value_counts()\n",
    "total_num = len(sups_top_20_cities['status'].dropna())\n",
    "o_per = g_status['operating'] / total_num\n",
    "a_per = g_status['acquired'] / total_num\n",
    "c_per = g_status['closed'] / total_num\n",
    "s_to_f = (g_status['operating'] + g_status['acquired']) / total_num\n",
    "a_to_all = (g_status['acquired']) / total_num\n",
    "\n",
    "print(\"Percentages for the status of startups in the top 20 cities\")\n",
    "print(\"-----------------------------------------------------------\")\n",
    "print(f'% operating: {round(o_per, 3)*100}%')\n",
    "print(f'% acquired: {round(a_per, 3)*100}%')\n",
    "print(f'% closed: {round(c_per, 3)*100}%')\n",
    "print(\"-------------------------------------------------\")\n",
    "\n",
    "# Cities not in the top 20\n",
    "\n",
    "g_status = sups_not_top_20_cities['status'].dropna().value_counts()\n",
    "total_num = len(sups_not_top_20_cities['status'].dropna())\n",
    "o_per = g_status['operating'] / total_num\n",
    "a_per = g_status['acquired'] / total_num\n",
    "c_per = g_status['closed'] / total_num\n",
    "s_to_f = (g_status['operating'] + g_status['acquired']) / total_num\n",
    "a_to_all = (g_status['acquired']) / total_num\n",
    "\n",
    "print(\"Percentages for the status of startups not in the top 20 cities\")\n",
    "print(\"---------------------------------------------------------------\")\n",
    "print(f'% operating: {round(o_per, 5)*100}%')\n",
    "print(f'% acquired: {round(a_per, 5)*100}%')\n",
    "print(f'% closed: {round(c_per, 5)*100}%')\n",
    "print(\"-------------------------------------------------\")\n",
    "\n",
    "# Top 2 cities\n",
    "\n",
    "g_status = sups_top2_cities['status'].dropna().value_counts()\n",
    "total_num = len(sups_top2_cities['status'].dropna())\n",
    "o_per = g_status['operating'] / total_num\n",
    "a_per = g_status['acquired'] / total_num\n",
    "c_per = g_status['closed'] / total_num\n",
    "s_to_f = (g_status['operating'] + g_status['acquired']) / total_num\n",
    "a_to_all = (g_status['acquired']) / total_num\n",
    "\n",
    "print(\"Percentages for the status of startups in the top 2 cities\")\n",
    "print(\"----------------------------------------------------------\")\n",
    "print(f'% operating: {round(o_per, 2)*100}%')\n",
    "print(f'% acquired: {round(a_per, 3)*100}%')\n",
    "print(f'% closed: {round(c_per, 3)*100}%')\n",
    "print(\"-------------------------------------------------\")"
   ]
  },
  {
   "cell_type": "markdown",
   "metadata": {},
   "source": [
    "# Now, lets dive deeper into looking at the different features of the datasets\n",
    "### We will look at this by the three different dataframes we created earlier"
   ]
  },
  {
   "cell_type": "code",
   "execution_count": 206,
   "metadata": {},
   "outputs": [
    {
     "name": "stdout",
     "output_type": "stream",
     "text": [
      "Length of good dataset(no outliers): 21716\n",
      "Length of the outlier dataset: 19191\n",
      "Length of the unicorn dataset(>billion in funding): 32\n"
     ]
    }
   ],
   "source": [
    "print(f'Length of good dataset(no outliers): {len(majority_df)}')\n",
    "print(f'Length of the outlier dataset: {len(outliers)}')\n",
    "print(f'Length of the unicorn dataset(>billion in funding): {len(unicorns)}')"
   ]
  },
  {
   "cell_type": "markdown",
   "metadata": {},
   "source": [
    "# Let's look at the average funding in these datasets"
   ]
  },
  {
   "cell_type": "code",
   "execution_count": 224,
   "metadata": {},
   "outputs": [
    {
     "name": "stdout",
     "output_type": "stream",
     "text": [
      "$645684.0 - average funding for good dataset/majority\n",
      "Average funding for outliers(more than 2.37 million in funding): $33188059.0\n",
      "Average funding for unicorns: $2906744750.0\n"
     ]
    }
   ],
   "source": [
    "print(f\"${round(majority_df['funding_total_usd'].mean(), 0)} - Average funding for good dataset/majority\")\n",
    "print(f\"Average funding for outliers(more than 2.37 million in funding): ${round(outliers['funding_total_usd'].mean(), 0)}\")\n",
    "print(f\"Average funding for unicorns: ${round(unicorns['funding_total_usd'].mean(), 0)}\")"
   ]
  },
  {
   "cell_type": "markdown",
   "metadata": {},
   "source": [
    "## Let's look at the respective markets in these datasets"
   ]
  },
  {
   "cell_type": "code",
   "execution_count": 205,
   "metadata": {},
   "outputs": [
    {
     "data": {
      "text/plain": [
       "<matplotlib.axes._subplots.AxesSubplot at 0x1348831d0>"
      ]
     },
     "execution_count": 205,
     "metadata": {},
     "output_type": "execute_result"
    },
    {
     "data": {
      "image/png": "[encoded data removed]",
      "text/plain": [
       "<Figure size 720x360 with 1 Axes>"
      ]
     },
     "metadata": {
      "needs_background": "light"
     },
     "output_type": "display_data"
    }
   ],
   "source": [
    "unicorns['market'].dropna().value_counts().plot(kind='bar')"
   ]
  },
  {
   "cell_type": "code",
   "execution_count": 219,
   "metadata": {},
   "outputs": [
    {
     "data": {
      "text/plain": [
       "<matplotlib.axes._subplots.AxesSubplot at 0x135acf850>"
      ]
     },
     "execution_count": 219,
     "metadata": {},
     "output_type": "execute_result"
    },
    {
     "data": {
      "image/png": "[encoded data removed]",
      "text/plain": [
       "<Figure size 720x360 with 1 Axes>"
      ]
     },
     "metadata": {
      "needs_background": "light"
     },
     "output_type": "display_data"
    }
   ],
   "source": [
    "outliers['market'].dropna().value_counts().plot(kind='bar')"
   ]
  },
  {
   "cell_type": "markdown",
   "metadata": {},
   "source": [
    "## Turns out theres a shit ton of markets, so lets only look at the ones that have above a specific count"
   ]
  },
  {
   "cell_type": "code",
   "execution_count": 220,
   "metadata": {},
   "outputs": [
    {
     "data": {
      "text/plain": [
       "<matplotlib.axes._subplots.AxesSubplot at 0x13730e990>"
      ]
     },
     "execution_count": 220,
     "metadata": {},
     "output_type": "execute_result"
    },
    {
     "data": {
      "image/png": "[encoded data removed]",
      "text/plain": [
       "<Figure size 720x360 with 1 Axes>"
      ]
     },
     "metadata": {
      "needs_background": "light"
     },
     "output_type": "display_data"
    }
   ],
   "source": [
    "outliers['market'].dropna().value_counts()[:30].plot(kind='bar')"
   ]
  },
  {
   "cell_type": "code",
   "execution_count": null,
   "metadata": {},
   "outputs": [],
   "source": []
  }
 ],
 "metadata": {
  "kernelspec": {
   "display_name": "Python 3",
   "language": "python",
   "name": "python3"
  },
  "language_info": {
   "codemirror_mode": {
    "name": "ipython",
    "version": 3
   },
   "file_extension": ".py",
   "mimetype": "text/x-python",
   "name": "python",
   "nbconvert_exporter": "python",
   "pygments_lexer": "ipython3",
   "version": "3.7.6"
  }
 },
 "nbformat": 4,
 "nbformat_minor": 2
}
