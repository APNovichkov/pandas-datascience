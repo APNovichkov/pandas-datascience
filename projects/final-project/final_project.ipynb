{
 "cells": [
  {
   "cell_type": "code",
   "execution_count": 368,
   "metadata": {
    "slideshow": {
     "slide_type": "skip"
    }
   },
   "outputs": [],
   "source": [
    "import pandas as pd\n",
    "import numpy as np\n",
    "import seaborn as sns\n",
    "from scipy import stats\n",
    "import matplotlib.pyplot as plt"
   ]
  },
  {
   "cell_type": "markdown",
   "metadata": {
    "slideshow": {
     "slide_type": "slide"
    }
   },
   "source": [
    "# Here we have a dataset of startup funding via Crunchbase\n",
    "\n",
    "Link to dataset: https://www.kaggle.com/arindam235/startup-investments-crunchbase#investments_VC.csv"
   ]
  },
  {
   "cell_type": "code",
   "execution_count": 422,
   "metadata": {
    "slideshow": {
     "slide_type": "subslide"
    }
   },
   "outputs": [
    {
     "name": "stdout",
     "output_type": "stream",
     "text": [
      "Length of df: 54294\n",
      "Number of features: 39\n"
     ]
    },
    {
     "data": {
      "text/html": [
       "<div>\n",
       "<style scoped>\n",
       "    .dataframe tbody tr th:only-of-type {\n",
       "        vertical-align: middle;\n",
       "    }\n",
       "\n",
       "    .dataframe tbody tr th {\n",
       "        vertical-align: top;\n",
       "    }\n",
       "\n",
       "    .dataframe thead th {\n",
       "        text-align: right;\n",
       "    }\n",
       "</style>\n",
       "<table border=\"1\" class=\"dataframe\">\n",
       "  <thead>\n",
       "    <tr style=\"text-align: right;\">\n",
       "      <th></th>\n",
       "      <th>permalink</th>\n",
       "      <th>name</th>\n",
       "      <th>homepage_url</th>\n",
       "      <th>category_list</th>\n",
       "      <th>market</th>\n",
       "      <th>funding_total_usd</th>\n",
       "      <th>status</th>\n",
       "      <th>country_code</th>\n",
       "      <th>state_code</th>\n",
       "      <th>region</th>\n",
       "      <th>...</th>\n",
       "      <th>secondary_market</th>\n",
       "      <th>product_crowdfunding</th>\n",
       "      <th>round_A</th>\n",
       "      <th>round_B</th>\n",
       "      <th>round_C</th>\n",
       "      <th>round_D</th>\n",
       "      <th>round_E</th>\n",
       "      <th>round_F</th>\n",
       "      <th>round_G</th>\n",
       "      <th>round_H</th>\n",
       "    </tr>\n",
       "  </thead>\n",
       "  <tbody>\n",
       "    <tr>\n",
       "      <td>0</td>\n",
       "      <td>/organization/waywire</td>\n",
       "      <td>#waywire</td>\n",
       "      <td>http://www.waywire.com</td>\n",
       "      <td>|Entertainment|Politics|Social Media|News|</td>\n",
       "      <td>News</td>\n",
       "      <td>17,50,000</td>\n",
       "      <td>acquired</td>\n",
       "      <td>USA</td>\n",
       "      <td>NY</td>\n",
       "      <td>New York City</td>\n",
       "      <td>...</td>\n",
       "      <td>0.0</td>\n",
       "      <td>0.0</td>\n",
       "      <td>0.0</td>\n",
       "      <td>0.0</td>\n",
       "      <td>0.0</td>\n",
       "      <td>0.0</td>\n",
       "      <td>0.0</td>\n",
       "      <td>0.0</td>\n",
       "      <td>0.0</td>\n",
       "      <td>0.0</td>\n",
       "    </tr>\n",
       "    <tr>\n",
       "      <td>1</td>\n",
       "      <td>/organization/tv-communications</td>\n",
       "      <td>&amp;TV Communications</td>\n",
       "      <td>http://enjoyandtv.com</td>\n",
       "      <td>|Games|</td>\n",
       "      <td>Games</td>\n",
       "      <td>40,00,000</td>\n",
       "      <td>operating</td>\n",
       "      <td>USA</td>\n",
       "      <td>CA</td>\n",
       "      <td>Los Angeles</td>\n",
       "      <td>...</td>\n",
       "      <td>0.0</td>\n",
       "      <td>0.0</td>\n",
       "      <td>0.0</td>\n",
       "      <td>0.0</td>\n",
       "      <td>0.0</td>\n",
       "      <td>0.0</td>\n",
       "      <td>0.0</td>\n",
       "      <td>0.0</td>\n",
       "      <td>0.0</td>\n",
       "      <td>0.0</td>\n",
       "    </tr>\n",
       "    <tr>\n",
       "      <td>2</td>\n",
       "      <td>/organization/rock-your-paper</td>\n",
       "      <td>'Rock' Your Paper</td>\n",
       "      <td>http://www.rockyourpaper.org</td>\n",
       "      <td>|Publishing|Education|</td>\n",
       "      <td>Publishing</td>\n",
       "      <td>40,000</td>\n",
       "      <td>operating</td>\n",
       "      <td>EST</td>\n",
       "      <td>NaN</td>\n",
       "      <td>Tallinn</td>\n",
       "      <td>...</td>\n",
       "      <td>0.0</td>\n",
       "      <td>0.0</td>\n",
       "      <td>0.0</td>\n",
       "      <td>0.0</td>\n",
       "      <td>0.0</td>\n",
       "      <td>0.0</td>\n",
       "      <td>0.0</td>\n",
       "      <td>0.0</td>\n",
       "      <td>0.0</td>\n",
       "      <td>0.0</td>\n",
       "    </tr>\n",
       "    <tr>\n",
       "      <td>3</td>\n",
       "      <td>/organization/in-touch-network</td>\n",
       "      <td>(In)Touch Network</td>\n",
       "      <td>http://www.InTouchNetwork.com</td>\n",
       "      <td>|Electronics|Guides|Coffee|Restaurants|Music|i...</td>\n",
       "      <td>Electronics</td>\n",
       "      <td>15,00,000</td>\n",
       "      <td>operating</td>\n",
       "      <td>GBR</td>\n",
       "      <td>NaN</td>\n",
       "      <td>London</td>\n",
       "      <td>...</td>\n",
       "      <td>0.0</td>\n",
       "      <td>0.0</td>\n",
       "      <td>0.0</td>\n",
       "      <td>0.0</td>\n",
       "      <td>0.0</td>\n",
       "      <td>0.0</td>\n",
       "      <td>0.0</td>\n",
       "      <td>0.0</td>\n",
       "      <td>0.0</td>\n",
       "      <td>0.0</td>\n",
       "    </tr>\n",
       "    <tr>\n",
       "      <td>4</td>\n",
       "      <td>/organization/r-ranch-and-mine</td>\n",
       "      <td>-R- Ranch and Mine</td>\n",
       "      <td>NaN</td>\n",
       "      <td>|Tourism|Entertainment|Games|</td>\n",
       "      <td>Tourism</td>\n",
       "      <td>60,000</td>\n",
       "      <td>operating</td>\n",
       "      <td>USA</td>\n",
       "      <td>TX</td>\n",
       "      <td>Dallas</td>\n",
       "      <td>...</td>\n",
       "      <td>0.0</td>\n",
       "      <td>0.0</td>\n",
       "      <td>0.0</td>\n",
       "      <td>0.0</td>\n",
       "      <td>0.0</td>\n",
       "      <td>0.0</td>\n",
       "      <td>0.0</td>\n",
       "      <td>0.0</td>\n",
       "      <td>0.0</td>\n",
       "      <td>0.0</td>\n",
       "    </tr>\n",
       "  </tbody>\n",
       "</table>\n",
       "<p>5 rows × 39 columns</p>\n",
       "</div>"
      ],
      "text/plain": [
       "                         permalink                name  \\\n",
       "0            /organization/waywire            #waywire   \n",
       "1  /organization/tv-communications  &TV Communications   \n",
       "2    /organization/rock-your-paper   'Rock' Your Paper   \n",
       "3   /organization/in-touch-network   (In)Touch Network   \n",
       "4   /organization/r-ranch-and-mine  -R- Ranch and Mine   \n",
       "\n",
       "                    homepage_url  \\\n",
       "0         http://www.waywire.com   \n",
       "1          http://enjoyandtv.com   \n",
       "2   http://www.rockyourpaper.org   \n",
       "3  http://www.InTouchNetwork.com   \n",
       "4                            NaN   \n",
       "\n",
       "                                       category_list         market  \\\n",
       "0         |Entertainment|Politics|Social Media|News|          News    \n",
       "1                                            |Games|         Games    \n",
       "2                             |Publishing|Education|    Publishing    \n",
       "3  |Electronics|Guides|Coffee|Restaurants|Music|i...   Electronics    \n",
       "4                      |Tourism|Entertainment|Games|       Tourism    \n",
       "\n",
       "  funding_total_usd     status country_code state_code         region  ...  \\\n",
       "0        17,50,000    acquired          USA         NY  New York City  ...   \n",
       "1        40,00,000   operating          USA         CA    Los Angeles  ...   \n",
       "2           40,000   operating          EST        NaN        Tallinn  ...   \n",
       "3        15,00,000   operating          GBR        NaN         London  ...   \n",
       "4           60,000   operating          USA         TX         Dallas  ...   \n",
       "\n",
       "  secondary_market  product_crowdfunding round_A round_B round_C  round_D  \\\n",
       "0              0.0                   0.0     0.0     0.0     0.0      0.0   \n",
       "1              0.0                   0.0     0.0     0.0     0.0      0.0   \n",
       "2              0.0                   0.0     0.0     0.0     0.0      0.0   \n",
       "3              0.0                   0.0     0.0     0.0     0.0      0.0   \n",
       "4              0.0                   0.0     0.0     0.0     0.0      0.0   \n",
       "\n",
       "  round_E round_F  round_G  round_H  \n",
       "0     0.0     0.0      0.0      0.0  \n",
       "1     0.0     0.0      0.0      0.0  \n",
       "2     0.0     0.0      0.0      0.0  \n",
       "3     0.0     0.0      0.0      0.0  \n",
       "4     0.0     0.0      0.0      0.0  \n",
       "\n",
       "[5 rows x 39 columns]"
      ]
     },
     "execution_count": 422,
     "metadata": {},
     "output_type": "execute_result"
    }
   ],
   "source": [
    "df = pd.read_csv('investments_VC.csv', encoding= 'unicode_escape')\n",
    "print(\"Length of df: {}\".format(len(df)))\n",
    "print(\"Number of features: {}\".format(len(df.columns)))\n",
    "df.head()"
   ]
  },
  {
   "cell_type": "code",
   "execution_count": null,
   "metadata": {},
   "outputs": [],
   "source": []
  },
  {
   "cell_type": "code",
   "execution_count": 423,
   "metadata": {
    "slideshow": {
     "slide_type": "subslide"
    }
   },
   "outputs": [
    {
     "name": "stdout",
     "output_type": "stream",
     "text": [
      "Columns: permalink, name, homepage_url, category_list, market, funding_total_usd, status, country_code, state_code, region, city, funding_rounds, founded_at, founded_month, founded_quarter, founded_year, first_funding_at, last_funding_at, seed, venture, equity_crowdfunding, undisclosed, convertible_note, debt_financing, angel, grant, private_equity, post_ipo_equity, post_ipo_debt, secondary_market, product_crowdfunding, round_A, round_B, round_C, round_D, round_E, round_F, round_G, round_H\n"
     ]
    }
   ],
   "source": [
    "print(f\"Columns: {', '.join(df.columns)}\")"
   ]
  },
  {
   "cell_type": "markdown",
   "metadata": {
    "slideshow": {
     "slide_type": "subslide"
    }
   },
   "source": [
    "# The goals of this analysis is to:\n",
    "#### 1: Clean the data, remove outliers, pick subsets to work with\n",
    "#### 1: Understand the general trends of the startup ecosystem\n",
    "#### 2: Gather statistics by features, and look deeper at features in general\n",
    "#### 3: Find patterns in the data that reflect success/failure of a startup"
   ]
  },
  {
   "cell_type": "markdown",
   "metadata": {
    "slideshow": {
     "slide_type": "slide"
    }
   },
   "source": [
    "# Let's try to clean up the data a little bit and choose GOOD samle dataset \n",
    "And maybe find some outliers ;)"
   ]
  },
  {
   "cell_type": "code",
   "execution_count": 424,
   "metadata": {
    "slideshow": {
     "slide_type": "subslide"
    }
   },
   "outputs": [
    {
     "name": "stdout",
     "output_type": "stream",
     "text": [
      "Length of df BEFORE dropping all null rows: 54294\n",
      "Length of df AFTER dropping all null rows: 49438\n"
     ]
    }
   ],
   "source": [
    "print(\"Length of df BEFORE dropping all null rows: {}\".format(len(df)))\n",
    "df = df.dropna(axis=0, how='all')\n",
    "print(\"Length of df AFTER dropping all null rows: {}\".format(len(df)))"
   ]
  },
  {
   "cell_type": "code",
   "execution_count": 425,
   "metadata": {
    "slideshow": {
     "slide_type": "skip"
    }
   },
   "outputs": [
    {
     "data": {
      "text/html": [
       "<div>\n",
       "<style scoped>\n",
       "    .dataframe tbody tr th:only-of-type {\n",
       "        vertical-align: middle;\n",
       "    }\n",
       "\n",
       "    .dataframe tbody tr th {\n",
       "        vertical-align: top;\n",
       "    }\n",
       "\n",
       "    .dataframe thead th {\n",
       "        text-align: right;\n",
       "    }\n",
       "</style>\n",
       "<table border=\"1\" class=\"dataframe\">\n",
       "  <thead>\n",
       "    <tr style=\"text-align: right;\">\n",
       "      <th></th>\n",
       "      <th>permalink</th>\n",
       "      <th>name</th>\n",
       "      <th>homepage_url</th>\n",
       "      <th>category_list</th>\n",
       "      <th>market</th>\n",
       "      <th>funding_total_usd</th>\n",
       "      <th>status</th>\n",
       "      <th>country_code</th>\n",
       "      <th>state_code</th>\n",
       "      <th>region</th>\n",
       "      <th>...</th>\n",
       "      <th>secondary_market</th>\n",
       "      <th>product_crowdfunding</th>\n",
       "      <th>round_A</th>\n",
       "      <th>round_B</th>\n",
       "      <th>round_C</th>\n",
       "      <th>round_D</th>\n",
       "      <th>round_E</th>\n",
       "      <th>round_F</th>\n",
       "      <th>round_G</th>\n",
       "      <th>round_H</th>\n",
       "    </tr>\n",
       "  </thead>\n",
       "  <tbody>\n",
       "    <tr>\n",
       "      <td>0</td>\n",
       "      <td>/organization/waywire</td>\n",
       "      <td>#waywire</td>\n",
       "      <td>http://www.waywire.com</td>\n",
       "      <td>|Entertainment|Politics|Social Media|News|</td>\n",
       "      <td>News</td>\n",
       "      <td>17,50,000</td>\n",
       "      <td>acquired</td>\n",
       "      <td>USA</td>\n",
       "      <td>NY</td>\n",
       "      <td>New York City</td>\n",
       "      <td>...</td>\n",
       "      <td>0.0</td>\n",
       "      <td>0.0</td>\n",
       "      <td>0.0</td>\n",
       "      <td>0.0</td>\n",
       "      <td>0.0</td>\n",
       "      <td>0.0</td>\n",
       "      <td>0.0</td>\n",
       "      <td>0.0</td>\n",
       "      <td>0.0</td>\n",
       "      <td>0.0</td>\n",
       "    </tr>\n",
       "    <tr>\n",
       "      <td>1</td>\n",
       "      <td>/organization/tv-communications</td>\n",
       "      <td>&amp;TV Communications</td>\n",
       "      <td>http://enjoyandtv.com</td>\n",
       "      <td>|Games|</td>\n",
       "      <td>Games</td>\n",
       "      <td>40,00,000</td>\n",
       "      <td>operating</td>\n",
       "      <td>USA</td>\n",
       "      <td>CA</td>\n",
       "      <td>Los Angeles</td>\n",
       "      <td>...</td>\n",
       "      <td>0.0</td>\n",
       "      <td>0.0</td>\n",
       "      <td>0.0</td>\n",
       "      <td>0.0</td>\n",
       "      <td>0.0</td>\n",
       "      <td>0.0</td>\n",
       "      <td>0.0</td>\n",
       "      <td>0.0</td>\n",
       "      <td>0.0</td>\n",
       "      <td>0.0</td>\n",
       "    </tr>\n",
       "    <tr>\n",
       "      <td>2</td>\n",
       "      <td>/organization/rock-your-paper</td>\n",
       "      <td>'Rock' Your Paper</td>\n",
       "      <td>http://www.rockyourpaper.org</td>\n",
       "      <td>|Publishing|Education|</td>\n",
       "      <td>Publishing</td>\n",
       "      <td>40,000</td>\n",
       "      <td>operating</td>\n",
       "      <td>EST</td>\n",
       "      <td>NaN</td>\n",
       "      <td>Tallinn</td>\n",
       "      <td>...</td>\n",
       "      <td>0.0</td>\n",
       "      <td>0.0</td>\n",
       "      <td>0.0</td>\n",
       "      <td>0.0</td>\n",
       "      <td>0.0</td>\n",
       "      <td>0.0</td>\n",
       "      <td>0.0</td>\n",
       "      <td>0.0</td>\n",
       "      <td>0.0</td>\n",
       "      <td>0.0</td>\n",
       "    </tr>\n",
       "    <tr>\n",
       "      <td>3</td>\n",
       "      <td>/organization/in-touch-network</td>\n",
       "      <td>(In)Touch Network</td>\n",
       "      <td>http://www.InTouchNetwork.com</td>\n",
       "      <td>|Electronics|Guides|Coffee|Restaurants|Music|i...</td>\n",
       "      <td>Electronics</td>\n",
       "      <td>15,00,000</td>\n",
       "      <td>operating</td>\n",
       "      <td>GBR</td>\n",
       "      <td>NaN</td>\n",
       "      <td>London</td>\n",
       "      <td>...</td>\n",
       "      <td>0.0</td>\n",
       "      <td>0.0</td>\n",
       "      <td>0.0</td>\n",
       "      <td>0.0</td>\n",
       "      <td>0.0</td>\n",
       "      <td>0.0</td>\n",
       "      <td>0.0</td>\n",
       "      <td>0.0</td>\n",
       "      <td>0.0</td>\n",
       "      <td>0.0</td>\n",
       "    </tr>\n",
       "    <tr>\n",
       "      <td>4</td>\n",
       "      <td>/organization/r-ranch-and-mine</td>\n",
       "      <td>-R- Ranch and Mine</td>\n",
       "      <td>NaN</td>\n",
       "      <td>|Tourism|Entertainment|Games|</td>\n",
       "      <td>Tourism</td>\n",
       "      <td>60,000</td>\n",
       "      <td>operating</td>\n",
       "      <td>USA</td>\n",
       "      <td>TX</td>\n",
       "      <td>Dallas</td>\n",
       "      <td>...</td>\n",
       "      <td>0.0</td>\n",
       "      <td>0.0</td>\n",
       "      <td>0.0</td>\n",
       "      <td>0.0</td>\n",
       "      <td>0.0</td>\n",
       "      <td>0.0</td>\n",
       "      <td>0.0</td>\n",
       "      <td>0.0</td>\n",
       "      <td>0.0</td>\n",
       "      <td>0.0</td>\n",
       "    </tr>\n",
       "  </tbody>\n",
       "</table>\n",
       "<p>5 rows × 39 columns</p>\n",
       "</div>"
      ],
      "text/plain": [
       "                         permalink                name  \\\n",
       "0            /organization/waywire            #waywire   \n",
       "1  /organization/tv-communications  &TV Communications   \n",
       "2    /organization/rock-your-paper   'Rock' Your Paper   \n",
       "3   /organization/in-touch-network   (In)Touch Network   \n",
       "4   /organization/r-ranch-and-mine  -R- Ranch and Mine   \n",
       "\n",
       "                    homepage_url  \\\n",
       "0         http://www.waywire.com   \n",
       "1          http://enjoyandtv.com   \n",
       "2   http://www.rockyourpaper.org   \n",
       "3  http://www.InTouchNetwork.com   \n",
       "4                            NaN   \n",
       "\n",
       "                                       category_list         market  \\\n",
       "0         |Entertainment|Politics|Social Media|News|          News    \n",
       "1                                            |Games|         Games    \n",
       "2                             |Publishing|Education|    Publishing    \n",
       "3  |Electronics|Guides|Coffee|Restaurants|Music|i...   Electronics    \n",
       "4                      |Tourism|Entertainment|Games|       Tourism    \n",
       "\n",
       "  funding_total_usd     status country_code state_code         region  ...  \\\n",
       "0        17,50,000    acquired          USA         NY  New York City  ...   \n",
       "1        40,00,000   operating          USA         CA    Los Angeles  ...   \n",
       "2           40,000   operating          EST        NaN        Tallinn  ...   \n",
       "3        15,00,000   operating          GBR        NaN         London  ...   \n",
       "4           60,000   operating          USA         TX         Dallas  ...   \n",
       "\n",
       "  secondary_market  product_crowdfunding round_A round_B round_C  round_D  \\\n",
       "0              0.0                   0.0     0.0     0.0     0.0      0.0   \n",
       "1              0.0                   0.0     0.0     0.0     0.0      0.0   \n",
       "2              0.0                   0.0     0.0     0.0     0.0      0.0   \n",
       "3              0.0                   0.0     0.0     0.0     0.0      0.0   \n",
       "4              0.0                   0.0     0.0     0.0     0.0      0.0   \n",
       "\n",
       "  round_E round_F  round_G  round_H  \n",
       "0     0.0     0.0      0.0      0.0  \n",
       "1     0.0     0.0      0.0      0.0  \n",
       "2     0.0     0.0      0.0      0.0  \n",
       "3     0.0     0.0      0.0      0.0  \n",
       "4     0.0     0.0      0.0      0.0  \n",
       "\n",
       "[5 rows x 39 columns]"
      ]
     },
     "execution_count": 425,
     "metadata": {},
     "output_type": "execute_result"
    }
   ],
   "source": [
    "df.head()"
   ]
  },
  {
   "cell_type": "markdown",
   "metadata": {
    "slideshow": {
     "slide_type": "skip"
    }
   },
   "source": [
    "### Some data cleaning and data type modifications"
   ]
  },
  {
   "cell_type": "code",
   "execution_count": 426,
   "metadata": {
    "slideshow": {
     "slide_type": "subslide"
    }
   },
   "outputs": [],
   "source": [
    "df['funding_total_usd'] = df['funding_total_usd'].apply(lambda x: x.replace(',',''))\n",
    "df['market'] = df['market'].dropna().apply(lambda x: x.replace(' ', ''))\n",
    "df['funding_total_usd'] = df['funding_total_usd'].apply(lambda x: np.nan if '-' in x else x)\n",
    "df['funding_total_usd'] = pd.to_numeric(df['funding_total_usd'])"
   ]
  },
  {
   "cell_type": "code",
   "execution_count": 428,
   "metadata": {
    "slideshow": {
     "slide_type": "slide"
    }
   },
   "outputs": [
    {
     "data": {
      "text/plain": [
       "<matplotlib.axes._subplots.AxesSubplot at 0x1462de9d0>"
      ]
     },
     "execution_count": 428,
     "metadata": {},
     "output_type": "execute_result"
    },
    {
     "data": {
      "image/png": "[encoded data removed]",
      "text/plain": [
       "<Figure size 720x360 with 1 Axes>"
      ]
     },
     "metadata": {
      "needs_background": "light"
     },
     "output_type": "display_data"
    }
   ],
   "source": [
    "df['funding_total_usd'].plot(kind='box')"
   ]
  },
  {
   "cell_type": "code",
   "execution_count": 433,
   "metadata": {
    "slideshow": {
     "slide_type": "subslide"
    }
   },
   "outputs": [
    {
     "data": {
      "text/plain": [
       "<matplotlib.axes._subplots.AxesSubplot at 0x14735c0d0>"
      ]
     },
     "execution_count": 433,
     "metadata": {},
     "output_type": "execute_result"
    },
    {
     "data": {
      "image/png": "[encoded data removed]",
      "text/plain": [
       "<Figure size 720x360 with 1 Axes>"
      ]
     },
     "metadata": {
      "needs_background": "light"
     },
     "output_type": "display_data"
    }
   ],
   "source": [
    "df['funding_total_usd'].hist(bins=40, log=True)"
   ]
  },
  {
   "cell_type": "code",
   "execution_count": 259,
   "metadata": {
    "slideshow": {
     "slide_type": "subslide"
    }
   },
   "outputs": [
    {
     "name": "stdout",
     "output_type": "stream",
     "text": [
      "We have 32 companies that raised more than a billion\n"
     ]
    }
   ],
   "source": [
    "more_thana_b = df[df['funding_total_usd'] > 1000000000]\n",
    "print(f\"We have {len(more_thana_b)} companies that raised more than a billion\")"
   ]
  },
  {
   "cell_type": "code",
   "execution_count": 260,
   "metadata": {
    "slideshow": {
     "slide_type": "subslide"
    }
   },
   "outputs": [
    {
     "data": {
      "text/plain": [
       "<matplotlib.axes._subplots.AxesSubplot at 0x13210bed0>"
      ]
     },
     "execution_count": 260,
     "metadata": {},
     "output_type": "execute_result"
    },
    {
     "data": {
      "image/png": "[encoded data removed]",
      "text/plain": [
       "<Figure size 720x360 with 1 Axes>"
      ]
     },
     "metadata": {
      "needs_background": "light"
     },
     "output_type": "display_data"
    }
   ],
   "source": [
    "# Less than a billion dollars in funding\n",
    "df[df['funding_total_usd'] < 1000000000]['funding_total_usd'].plot(kind='box')"
   ]
  },
  {
   "cell_type": "code",
   "execution_count": 261,
   "metadata": {
    "slideshow": {
     "slide_type": "subslide"
    }
   },
   "outputs": [
    {
     "data": {
      "text/plain": [
       "<matplotlib.axes._subplots.AxesSubplot at 0x132084290>"
      ]
     },
     "execution_count": 261,
     "metadata": {},
     "output_type": "execute_result"
    },
    {
     "data": {
      "image/png": "[encoded data removed]",
      "text/plain": [
       "<Figure size 720x360 with 1 Axes>"
      ]
     },
     "metadata": {
      "needs_background": "light"
     },
     "output_type": "display_data"
    }
   ],
   "source": [
    "# Less than 100 million\n",
    "df[df['funding_total_usd'] < 100000000]['funding_total_usd'].plot(kind='box')"
   ]
  },
  {
   "cell_type": "code",
   "execution_count": 262,
   "metadata": {
    "slideshow": {
     "slide_type": "subslide"
    }
   },
   "outputs": [
    {
     "data": {
      "text/plain": [
       "<matplotlib.axes._subplots.AxesSubplot at 0x1324f96d0>"
      ]
     },
     "execution_count": 262,
     "metadata": {},
     "output_type": "execute_result"
    },
    {
     "data": {
      "image/png": "[encoded data removed]",
      "text/plain": [
       "<Figure size 720x360 with 1 Axes>"
      ]
     },
     "metadata": {
      "needs_background": "light"
     },
     "output_type": "display_data"
    }
   ],
   "source": [
    "# Less than 10 million\n",
    "df[df['funding_total_usd'] < 10000000]['funding_total_usd'].plot(kind='box')"
   ]
  },
  {
   "cell_type": "code",
   "execution_count": 263,
   "metadata": {
    "slideshow": {
     "slide_type": "subslide"
    }
   },
   "outputs": [
    {
     "data": {
      "text/plain": [
       "<matplotlib.axes._subplots.AxesSubplot at 0x133db7250>"
      ]
     },
     "execution_count": 263,
     "metadata": {},
     "output_type": "execute_result"
    },
    {
     "data": {
      "image/png": "[encoded data removed]",
      "text/plain": [
       "<Figure size 720x360 with 1 Axes>"
      ]
     },
     "metadata": {
      "needs_background": "light"
     },
     "output_type": "display_data"
    }
   ],
   "source": [
    "# Less than 2.37 million, this one looks good!\n",
    "df[df['funding_total_usd'] < 2370000]['funding_total_usd'].plot(kind='box')"
   ]
  },
  {
   "cell_type": "code",
   "execution_count": 432,
   "metadata": {
    "slideshow": {
     "slide_type": "subslide"
    }
   },
   "outputs": [
    {
     "data": {
      "text/plain": [
       "<matplotlib.axes._subplots.AxesSubplot at 0x14700c990>"
      ]
     },
     "execution_count": 432,
     "metadata": {},
     "output_type": "execute_result"
    },
    {
     "data": {
      "image/png": "[encoded data removed]",
      "text/plain": [
       "<Figure size 720x360 with 1 Axes>"
      ]
     },
     "metadata": {
      "needs_background": "light"
     },
     "output_type": "display_data"
    }
   ],
   "source": [
    "df[df['funding_total_usd'] < 2370000]['funding_total_usd'].hist(bins=16)"
   ]
  },
  {
   "cell_type": "markdown",
   "metadata": {
    "slideshow": {
     "slide_type": "slide"
    }
   },
   "source": [
    "# General Trends in the Startup Ecosystem as a whole"
   ]
  },
  {
   "cell_type": "markdown",
   "metadata": {
    "slideshow": {
     "slide_type": "subslide"
    }
   },
   "source": [
    "## Looking at the whole dataset, what is the success/failure ratio?"
   ]
  },
  {
   "cell_type": "code",
   "execution_count": 265,
   "metadata": {
    "slideshow": {
     "slide_type": "subslide"
    }
   },
   "outputs": [
    {
     "name": "stdout",
     "output_type": "stream",
     "text": [
      "Percentages for the status of startups everywhere\n",
      "-------------------------------------------------\n",
      "% operating: 86.9%\n",
      "% acquired: 7.7%\n",
      "% closed: 5.4%\n"
     ]
    }
   ],
   "source": [
    "g_status = df['status'].dropna().value_counts()\n",
    "total_num = len(df['status'].dropna())\n",
    "o_per = g_status['operating'] / total_num\n",
    "a_per = g_status['acquired'] / total_num\n",
    "c_per = g_status['closed'] / total_num\n",
    "s_to_f = (g_status['operating'] + g_status['acquired']) / total_num\n",
    "a_to_all = (g_status['acquired']) / total_num\n",
    "\n",
    "\n",
    "print(\"Percentages for the status of startups everywhere\")\n",
    "print(\"-------------------------------------------------\")\n",
    "print(f'% operating: {round(o_per, 3)*100}%')\n",
    "print(f'% acquired: {round(a_per, 3)*100}%')\n",
    "print(f'% closed: {round(c_per, 3)*100}%')"
   ]
  },
  {
   "cell_type": "markdown",
   "metadata": {
    "slideshow": {
     "slide_type": "subslide"
    }
   },
   "source": [
    "#### This shows the opposite of what the saying is, that 95% of startups are still operating or have been aquired.\n",
    "But if you consider success as being aquired, then we get only 8%. Up to personal definition I guess!"
   ]
  },
  {
   "cell_type": "code",
   "execution_count": 266,
   "metadata": {
    "slideshow": {
     "slide_type": "skip"
    }
   },
   "outputs": [],
   "source": [
    "cities = df['city'].dropna()"
   ]
  },
  {
   "cell_type": "code",
   "execution_count": null,
   "metadata": {},
   "outputs": [],
   "source": []
  },
  {
   "cell_type": "code",
   "execution_count": 267,
   "metadata": {
    "slideshow": {
     "slide_type": "skip"
    }
   },
   "outputs": [
    {
     "data": {
      "text/plain": [
       "0                  New York\n",
       "1               Los Angeles\n",
       "2                   Tallinn\n",
       "3                    London\n",
       "4                Fort Worth\n",
       "                ...        \n",
       "49432    Gerasdorf Bei Wien\n",
       "49433                London\n",
       "49434               Beijing\n",
       "49435                 Split\n",
       "49437              New York\n",
       "Name: city, Length: 43322, dtype: object"
      ]
     },
     "execution_count": 267,
     "metadata": {},
     "output_type": "execute_result"
    }
   ],
   "source": [
    "cities"
   ]
  },
  {
   "cell_type": "code",
   "execution_count": 268,
   "metadata": {
    "slideshow": {
     "slide_type": "skip"
    }
   },
   "outputs": [],
   "source": [
    "top_20_cities = cities.value_counts()[:20]"
   ]
  },
  {
   "cell_type": "code",
   "execution_count": 269,
   "metadata": {
    "slideshow": {
     "slide_type": "skip"
    }
   },
   "outputs": [],
   "source": [
    "not_top_20_citites = cities.value_counts()[20:]"
   ]
  },
  {
   "cell_type": "code",
   "execution_count": 270,
   "metadata": {
    "slideshow": {
     "slide_type": "skip"
    }
   },
   "outputs": [],
   "source": [
    "top_2_cities = cities.value_counts()[:20]"
   ]
  },
  {
   "cell_type": "code",
   "execution_count": 271,
   "metadata": {
    "slideshow": {
     "slide_type": "subslide"
    }
   },
   "outputs": [
    {
     "data": {
      "image/png": "[encoded data removed]",
      "text/plain": [
       "<Figure size 720x360 with 1 Axes>"
      ]
     },
     "metadata": {
      "needs_background": "light"
     },
     "output_type": "display_data"
    }
   ],
   "source": [
    "plt.rcParams[\"figure.figsize\"] = (10,5)\n",
    "_= cities.value_counts()[:20].plot(kind='bar', title=\"20 cities with the most startups\")"
   ]
  },
  {
   "cell_type": "code",
   "execution_count": 272,
   "metadata": {
    "slideshow": {
     "slide_type": "skip"
    }
   },
   "outputs": [],
   "source": [
    "sups_top_20_cities = df[df['city'].isin(list(top_20_cities.index))]"
   ]
  },
  {
   "cell_type": "code",
   "execution_count": 273,
   "metadata": {
    "slideshow": {
     "slide_type": "skip"
    }
   },
   "outputs": [
    {
     "data": {
      "text/plain": [
       "operating    11372\n",
       "acquired      1570\n",
       "closed         749\n",
       "Name: status, dtype: int64"
      ]
     },
     "execution_count": 273,
     "metadata": {},
     "output_type": "execute_result"
    }
   ],
   "source": [
    "sups_top_20_cities['status'].value_counts()"
   ]
  },
  {
   "cell_type": "code",
   "execution_count": 274,
   "metadata": {
    "slideshow": {
     "slide_type": "skip"
    }
   },
   "outputs": [],
   "source": [
    "sups_not_top_20_cities = df[df['city'].isin(list(not_top_20_citites.index))]"
   ]
  },
  {
   "cell_type": "code",
   "execution_count": 275,
   "metadata": {
    "slideshow": {
     "slide_type": "skip"
    }
   },
   "outputs": [
    {
     "data": {
      "text/plain": [
       "operating    25291\n",
       "acquired      1872\n",
       "closed        1413\n",
       "Name: status, dtype: int64"
      ]
     },
     "execution_count": 275,
     "metadata": {},
     "output_type": "execute_result"
    }
   ],
   "source": [
    "sups_not_top_20_cities['status'].value_counts()"
   ]
  },
  {
   "cell_type": "code",
   "execution_count": 276,
   "metadata": {
    "slideshow": {
     "slide_type": "skip"
    }
   },
   "outputs": [],
   "source": [
    "sups_top2_cities = df[df['city'].isin(list(top_2_cities.index))]"
   ]
  },
  {
   "cell_type": "code",
   "execution_count": 277,
   "metadata": {
    "slideshow": {
     "slide_type": "skip"
    }
   },
   "outputs": [
    {
     "data": {
      "text/plain": [
       "operating    11372\n",
       "acquired      1570\n",
       "closed         749\n",
       "Name: status, dtype: int64"
      ]
     },
     "execution_count": 277,
     "metadata": {},
     "output_type": "execute_result"
    }
   ],
   "source": [
    "sups_top2_cities['status'].value_counts()"
   ]
  },
  {
   "cell_type": "markdown",
   "metadata": {
    "slideshow": {
     "slide_type": "subslide"
    }
   },
   "source": [
    "## Now let's look at the same success to failure ratios as before, but for the 20 cities with the most startups"
   ]
  },
  {
   "cell_type": "code",
   "execution_count": 278,
   "metadata": {
    "slideshow": {
     "slide_type": "subslide"
    }
   },
   "outputs": [
    {
     "name": "stdout",
     "output_type": "stream",
     "text": [
      "Percentages for the status of startups in the top 20 cities\n",
      "-----------------------------------------------------------\n",
      "% operating: 83.1%\n",
      "% acquired: 11.5%\n",
      "% closed: 5.5%\n"
     ]
    }
   ],
   "source": [
    "# Cities in the top 20\n",
    "\n",
    "g_status = sups_top_20_cities['status'].dropna().value_counts()\n",
    "total_num = len(sups_top_20_cities['status'].dropna())\n",
    "o_per = g_status['operating'] / total_num\n",
    "a_per = g_status['acquired'] / total_num\n",
    "c_per = g_status['closed'] / total_num\n",
    "s_to_f = (g_status['operating'] + g_status['acquired']) / total_num\n",
    "a_to_all = (g_status['acquired']) / total_num\n",
    "\n",
    "print(\"Percentages for the status of startups in the top 20 cities\")\n",
    "print(\"-----------------------------------------------------------\")\n",
    "print(f'% operating: {round(o_per, 3)*100}%')\n",
    "print(f'% acquired: {round(a_per, 3)*100}%')\n",
    "print(f'% closed: {round(c_per, 3)*100}%')"
   ]
  },
  {
   "cell_type": "markdown",
   "metadata": {
    "slideshow": {
     "slide_type": "subslide"
    }
   },
   "source": [
    "# And for cities not in the top 20"
   ]
  },
  {
   "cell_type": "code",
   "execution_count": 279,
   "metadata": {
    "slideshow": {
     "slide_type": "subslide"
    }
   },
   "outputs": [
    {
     "name": "stdout",
     "output_type": "stream",
     "text": [
      "Percentages for the status of startups not in the top 20 cities\n",
      "---------------------------------------------------------------\n",
      "% operating: 88.504%\n",
      "% acquired: 6.551%\n",
      "% closed: 4.945%\n"
     ]
    }
   ],
   "source": [
    "# Cities not in the top 20\n",
    "\n",
    "g_status = sups_not_top_20_cities['status'].dropna().value_counts()\n",
    "total_num = len(sups_not_top_20_cities['status'].dropna())\n",
    "o_per = g_status['operating'] / total_num\n",
    "a_per = g_status['acquired'] / total_num\n",
    "c_per = g_status['closed'] / total_num\n",
    "s_to_f = (g_status['operating'] + g_status['acquired']) / total_num\n",
    "a_to_all = (g_status['acquired']) / total_num\n",
    "\n",
    "print(\"Percentages for the status of startups not in the top 20 cities\")\n",
    "print(\"---------------------------------------------------------------\")\n",
    "print(f'% operating: {round(o_per, 5)*100}%')\n",
    "print(f'% acquired: {round(a_per, 5)*100}%')\n",
    "print(f'% closed: {round(c_per, 5)*100}%')"
   ]
  },
  {
   "cell_type": "code",
   "execution_count": 415,
   "metadata": {
    "slideshow": {
     "slide_type": "skip"
    }
   },
   "outputs": [
    {
     "data": {
      "image/png": "[encoded data removed]",
      "text/plain": [
       "<Figure size 720x360 with 1 Axes>"
      ]
     },
     "metadata": {},
     "output_type": "display_data"
    }
   ],
   "source": [
    "g_status = df['status'].dropna().value_counts().plot(kind='pie', title='Whole dataset')"
   ]
  },
  {
   "cell_type": "code",
   "execution_count": 413,
   "metadata": {
    "slideshow": {
     "slide_type": "skip"
    }
   },
   "outputs": [
    {
     "data": {
      "image/png": "[encoded data removed]",
      "text/plain": [
       "<Figure size 720x360 with 1 Axes>"
      ]
     },
     "metadata": {},
     "output_type": "display_data"
    }
   ],
   "source": [
    "_= sups_top_20_cities['status'].dropna().value_counts().plot(kind='pie', title='Top 20 cities')"
   ]
  },
  {
   "cell_type": "code",
   "execution_count": 414,
   "metadata": {
    "slideshow": {
     "slide_type": "skip"
    }
   },
   "outputs": [
    {
     "data": {
      "image/png": "[encoded data removed]",
      "text/plain": [
       "<Figure size 720x360 with 1 Axes>"
      ]
     },
     "metadata": {},
     "output_type": "display_data"
    }
   ],
   "source": [
    "_= sups_not_top_20_cities['status'].dropna().value_counts().plot(kind='pie', title='Everything not top 20 cities')"
   ]
  },
  {
   "cell_type": "markdown",
   "metadata": {
    "slideshow": {
     "slide_type": "subslide"
    }
   },
   "source": [
    "# To see if culture really affects startup success, let's look at the top 2"
   ]
  },
  {
   "cell_type": "code",
   "execution_count": 280,
   "metadata": {
    "slideshow": {
     "slide_type": "subslide"
    }
   },
   "outputs": [
    {
     "name": "stdout",
     "output_type": "stream",
     "text": [
      "Percentages for the status of startups in the top 2 cities\n",
      "----------------------------------------------------------\n",
      "% operating: 83.0%\n",
      "% acquired: 11.5%\n",
      "% closed: 5.5%\n"
     ]
    }
   ],
   "source": [
    "# Top 2 cities\n",
    "\n",
    "g_status = sups_top2_cities['status'].dropna().value_counts()\n",
    "total_num = len(sups_top2_cities['status'].dropna())\n",
    "o_per = g_status['operating'] / total_num\n",
    "a_per = g_status['acquired'] / total_num\n",
    "c_per = g_status['closed'] / total_num\n",
    "s_to_f = (g_status['operating'] + g_status['acquired']) / total_num\n",
    "a_to_all = (g_status['acquired']) / total_num\n",
    "\n",
    "print(\"Percentages for the status of startups in the top 2 cities\")\n",
    "print(\"----------------------------------------------------------\")\n",
    "print(f'% operating: {round(o_per, 2)*100}%')\n",
    "print(f'% acquired: {round(a_per, 3)*100}%')\n",
    "print(f'% closed: {round(c_per, 3)*100}%')"
   ]
  },
  {
   "cell_type": "markdown",
   "metadata": {
    "slideshow": {
     "slide_type": "skip"
    }
   },
   "source": [
    "## All of these combined into one for presentation"
   ]
  },
  {
   "cell_type": "code",
   "execution_count": 281,
   "metadata": {
    "slideshow": {
     "slide_type": "skip"
    }
   },
   "outputs": [
    {
     "name": "stdout",
     "output_type": "stream",
     "text": [
      "Percentages for the status of startups everywhere\n",
      "-------------------------------------------------\n",
      "% operating: 86.9%\n",
      "% acquired: 7.7%\n",
      "% closed: 5.4%\n",
      "-------------------------------------------------\n",
      "Percentages for the status of startups in the top 20 cities\n",
      "-----------------------------------------------------------\n",
      "% operating: 83.1%\n",
      "% acquired: 11.5%\n",
      "% closed: 5.5%\n",
      "-------------------------------------------------\n",
      "Percentages for the status of startups not in the top 20 cities\n",
      "---------------------------------------------------------------\n",
      "% operating: 88.504%\n",
      "% acquired: 6.551%\n",
      "% closed: 4.945%\n",
      "-------------------------------------------------\n",
      "Percentages for the status of startups in the top 2 cities\n",
      "----------------------------------------------------------\n",
      "% operating: 83.0%\n",
      "% acquired: 11.5%\n",
      "% closed: 5.5%\n",
      "-------------------------------------------------\n"
     ]
    }
   ],
   "source": [
    "g_status = df['status'].dropna().value_counts()\n",
    "total_num = len(df['status'].dropna())\n",
    "o_per = g_status['operating'] / total_num\n",
    "a_per = g_status['acquired'] / total_num\n",
    "c_per = g_status['closed'] / total_num\n",
    "s_to_f = (g_status['operating'] + g_status['acquired']) / total_num\n",
    "a_to_all = (g_status['acquired']) / total_num\n",
    "\n",
    "\n",
    "print(\"Percentages for the status of startups everywhere\")\n",
    "print(\"-------------------------------------------------\")\n",
    "print(f'% operating: {round(o_per, 3)*100}%')\n",
    "print(f'% acquired: {round(a_per, 3)*100}%')\n",
    "print(f'% closed: {round(c_per, 3)*100}%')\n",
    "print(\"-------------------------------------------------\")\n",
    "\n",
    "# Cities in the top 20\n",
    "\n",
    "g_status = sups_top_20_cities['status'].dropna().value_counts()\n",
    "total_num = len(sups_top_20_cities['status'].dropna())\n",
    "o_per = g_status['operating'] / total_num\n",
    "a_per = g_status['acquired'] / total_num\n",
    "c_per = g_status['closed'] / total_num\n",
    "s_to_f = (g_status['operating'] + g_status['acquired']) / total_num\n",
    "a_to_all = (g_status['acquired']) / total_num\n",
    "\n",
    "print(\"Percentages for the status of startups in the top 20 cities\")\n",
    "print(\"-----------------------------------------------------------\")\n",
    "print(f'% operating: {round(o_per, 3)*100}%')\n",
    "print(f'% acquired: {round(a_per, 3)*100}%')\n",
    "print(f'% closed: {round(c_per, 3)*100}%')\n",
    "print(\"-------------------------------------------------\")\n",
    "\n",
    "# Cities not in the top 20\n",
    "\n",
    "g_status = sups_not_top_20_cities['status'].dropna().value_counts()\n",
    "total_num = len(sups_not_top_20_cities['status'].dropna())\n",
    "o_per = g_status['operating'] / total_num\n",
    "a_per = g_status['acquired'] / total_num\n",
    "c_per = g_status['closed'] / total_num\n",
    "s_to_f = (g_status['operating'] + g_status['acquired']) / total_num\n",
    "a_to_all = (g_status['acquired']) / total_num\n",
    "\n",
    "print(\"Percentages for the status of startups not in the top 20 cities\")\n",
    "print(\"---------------------------------------------------------------\")\n",
    "print(f'% operating: {round(o_per, 5)*100}%')\n",
    "print(f'% acquired: {round(a_per, 5)*100}%')\n",
    "print(f'% closed: {round(c_per, 5)*100}%')\n",
    "print(\"-------------------------------------------------\")\n",
    "\n",
    "# Top 2 cities\n",
    "\n",
    "g_status = sups_top2_cities['status'].dropna().value_counts()\n",
    "total_num = len(sups_top2_cities['status'].dropna())\n",
    "o_per = g_status['operating'] / total_num\n",
    "a_per = g_status['acquired'] / total_num\n",
    "c_per = g_status['closed'] / total_num\n",
    "s_to_f = (g_status['operating'] + g_status['acquired']) / total_num\n",
    "a_to_all = (g_status['acquired']) / total_num\n",
    "\n",
    "print(\"Percentages for the status of startups in the top 2 cities\")\n",
    "print(\"----------------------------------------------------------\")\n",
    "print(f'% operating: {round(o_per, 2)*100}%')\n",
    "print(f'% acquired: {round(a_per, 3)*100}%')\n",
    "print(f'% closed: {round(c_per, 3)*100}%')\n",
    "print(\"-------------------------------------------------\")"
   ]
  },
  {
   "cell_type": "markdown",
   "metadata": {
    "slideshow": {
     "slide_type": "slide"
    }
   },
   "source": [
    "# We split up data based on these box-plots and analyze them differently!\n",
    "### But you can see, that if we look at the funding total, the box plot shows that data below 2.37 million has barely any outliers!"
   ]
  },
  {
   "cell_type": "code",
   "execution_count": 264,
   "metadata": {
    "slideshow": {
     "slide_type": "subslide"
    }
   },
   "outputs": [],
   "source": [
    "majority_df = df[df['funding_total_usd'] <= 2370000] # This is data without any outliers\n",
    "outliers = df[df['funding_total_usd'] > 2370000] # This is the outliers, or more than 2.37 million in total funding\n",
    "unicorns = df[df['funding_total_usd'] > 1000000000] # More than a billion in funding"
   ]
  },
  {
   "cell_type": "markdown",
   "metadata": {
    "slideshow": {
     "slide_type": "slide"
    }
   },
   "source": [
    "# Now, lets dive deeper into looking at the different features of the datasets\n",
    "## We will look at this by the three different dataframes we created earlier"
   ]
  },
  {
   "cell_type": "code",
   "execution_count": 417,
   "metadata": {
    "slideshow": {
     "slide_type": "subslide"
    }
   },
   "outputs": [
    {
     "name": "stdout",
     "output_type": "stream",
     "text": [
      "Length of good dataset(no outliers): 21716\n",
      "Length of the outlier dataset: 19191\n",
      "Length of the unicorn dataset(>billion in funding): 32\n"
     ]
    }
   ],
   "source": [
    "print(f'Length of good dataset(no outliers): {len(majority_df)}')\n",
    "print(f'Length of the outlier dataset: {len(outliers)}')\n",
    "print(f'Length of the unicorn dataset(>billion in funding): {len(unicorns)}')"
   ]
  },
  {
   "cell_type": "markdown",
   "metadata": {
    "slideshow": {
     "slide_type": "subslide"
    }
   },
   "source": [
    "### Let's look at the average funding in these datasets"
   ]
  },
  {
   "cell_type": "code",
   "execution_count": 283,
   "metadata": {
    "slideshow": {
     "slide_type": "subslide"
    }
   },
   "outputs": [
    {
     "name": "stdout",
     "output_type": "stream",
     "text": [
      "$645684.0 - Average funding for good dataset/majority\n",
      "$33188059.0 - Average funding for outliers(more than 2.37 million in funding)\n",
      "$2906744750.0 - Average funding for unicorns\n"
     ]
    }
   ],
   "source": [
    "print(f\"${round(majority_df['funding_total_usd'].mean(), 0)} - Average funding for good dataset/majority\")\n",
    "print(f\"${round(outliers['funding_total_usd'].mean(), 0)} - Average funding for outliers(more than 2.37 million in funding)\")\n",
    "print(f\"${round(unicorns['funding_total_usd'].mean(), 0)} - Average funding for unicorns\") "
   ]
  },
  {
   "cell_type": "markdown",
   "metadata": {
    "slideshow": {
     "slide_type": "subslide"
    }
   },
   "source": [
    "### Let's look at the respective markets in these datasets"
   ]
  },
  {
   "cell_type": "code",
   "execution_count": 324,
   "metadata": {
    "slideshow": {
     "slide_type": "subslide"
    }
   },
   "outputs": [
    {
     "data": {
      "image/png": "[encoded data removed]",
      "text/plain": [
       "<Figure size 720x360 with 1 Axes>"
      ]
     },
     "metadata": {
      "needs_background": "light"
     },
     "output_type": "display_data"
    }
   ],
   "source": [
    "_= unicorns['market'].dropna().value_counts().plot(kind='bar', title='All markets of unicorn companies')"
   ]
  },
  {
   "cell_type": "code",
   "execution_count": 286,
   "metadata": {
    "slideshow": {
     "slide_type": "skip"
    }
   },
   "outputs": [
    {
     "data": {
      "text/plain": [
       "7328    Carestream\n",
       "Name: name, dtype: object"
      ]
     },
     "execution_count": 286,
     "metadata": {},
     "output_type": "execute_result"
    }
   ],
   "source": [
    "unicorns[unicorns['market'] == 'Biotechnology']['name']"
   ]
  },
  {
   "cell_type": "code",
   "execution_count": 287,
   "metadata": {
    "slideshow": {
     "slide_type": "subslide"
    }
   },
   "outputs": [
    {
     "data": {
      "text/plain": [
       "<matplotlib.axes._subplots.AxesSubplot at 0x139864f90>"
      ]
     },
     "execution_count": 287,
     "metadata": {},
     "output_type": "execute_result"
    },
    {
     "data": {
      "image/png": "[encoded data removed]",
      "text/plain": [
       "<Figure size 720x360 with 1 Axes>"
      ]
     },
     "metadata": {
      "needs_background": "light"
     },
     "output_type": "display_data"
    }
   ],
   "source": [
    "outliers['market'].dropna().value_counts().plot(kind='bar')"
   ]
  },
  {
   "cell_type": "markdown",
   "metadata": {
    "slideshow": {
     "slide_type": "subslide"
    }
   },
   "source": [
    "## Turns out theres a shit ton of markets, so lets only look at the ones that have above a specific count"
   ]
  },
  {
   "cell_type": "code",
   "execution_count": 323,
   "metadata": {
    "slideshow": {
     "slide_type": "subslide"
    }
   },
   "outputs": [
    {
     "data": {
      "image/png": "[encoded data removed]",
      "text/plain": [
       "<Figure size 720x360 with 1 Axes>"
      ]
     },
     "metadata": {
      "needs_background": "light"
     },
     "output_type": "display_data"
    }
   ],
   "source": [
    "_= outliers['market'].dropna().value_counts()[:40].plot(kind='bar', title='Top 40 markets in outlier companies')"
   ]
  },
  {
   "cell_type": "markdown",
   "metadata": {
    "slideshow": {
     "slide_type": "subslide"
    }
   },
   "source": [
    "## Biotechnology is at #1! interesting...."
   ]
  },
  {
   "cell_type": "code",
   "execution_count": 326,
   "metadata": {
    "slideshow": {
     "slide_type": "subslide"
    }
   },
   "outputs": [
    {
     "data": {
      "image/png": "[encoded data removed]",
      "text/plain": [
       "<Figure size 720x360 with 1 Axes>"
      ]
     },
     "metadata": {
      "needs_background": "light"
     },
     "output_type": "display_data"
    }
   ],
   "source": [
    "_= majority_df['market'].dropna().value_counts()[:40].plot(kind='bar', title='Top 40 markets in the good dataset companies')"
   ]
  },
  {
   "cell_type": "markdown",
   "metadata": {
    "slideshow": {
     "slide_type": "subslide"
    }
   },
   "source": [
    "### Let's look the funding by market"
   ]
  },
  {
   "cell_type": "code",
   "execution_count": 296,
   "metadata": {
    "slideshow": {
     "slide_type": "skip"
    }
   },
   "outputs": [
    {
     "data": {
      "text/plain": [
       "20838667.523146834"
      ]
     },
     "execution_count": 296,
     "metadata": {},
     "output_type": "execute_result"
    }
   ],
   "source": [
    "df[df['market'] == 'Biotechnology']['funding_total_usd'].mean()"
   ]
  },
  {
   "cell_type": "code",
   "execution_count": 297,
   "metadata": {
    "slideshow": {
     "slide_type": "skip"
    }
   },
   "outputs": [
    {
     "data": {
      "text/plain": [
       "15448583.822687637"
      ]
     },
     "execution_count": 297,
     "metadata": {},
     "output_type": "execute_result"
    }
   ],
   "source": [
    "df[df['market'] != 'Biotechnology']['funding_total_usd'].mean()"
   ]
  },
  {
   "cell_type": "code",
   "execution_count": 331,
   "metadata": {
    "slideshow": {
     "slide_type": "subslide"
    }
   },
   "outputs": [
    {
     "data": {
      "image/png": "[encoded data removed]",
      "text/plain": [
       "<Figure size 720x360 with 1 Axes>"
      ]
     },
     "metadata": {
      "needs_background": "light"
     },
     "output_type": "display_data"
    }
   ],
   "source": [
    "# For the good group\n",
    "market_group = majority_df.groupby(['market'])['funding_total_usd']\n",
    "_= market_group.mean().dropna().sort_values(ascending=False)[:40].plot(kind='bar')\n",
    "\n",
    "#RIM means Remote Infrastructure management"
   ]
  },
  {
   "cell_type": "code",
   "execution_count": 333,
   "metadata": {
    "scrolled": false,
    "slideshow": {
     "slide_type": "subslide"
    }
   },
   "outputs": [
    {
     "data": {
      "image/png": "[encoded data removed]",
      "text/plain": [
       "<Figure size 720x360 with 1 Axes>"
      ]
     },
     "metadata": {
      "needs_background": "light"
     },
     "output_type": "display_data"
    }
   ],
   "source": [
    "# For the outliers\n",
    "market_group = outliers.groupby(['market'])['funding_total_usd']\n",
    "_= market_group.mean().dropna().sort_values(ascending=False)[:40].plot(kind='bar')"
   ]
  },
  {
   "cell_type": "code",
   "execution_count": 334,
   "metadata": {
    "slideshow": {
     "slide_type": "subslide"
    }
   },
   "outputs": [
    {
     "data": {
      "image/png": "[encoded data removed]",
      "text/plain": [
       "<Figure size 720x360 with 1 Axes>"
      ]
     },
     "metadata": {
      "needs_background": "light"
     },
     "output_type": "display_data"
    }
   ],
   "source": [
    "# For the unicorns\n",
    "market_group = unicorns.groupby(['market'])['funding_total_usd']\n",
    "_= market_group.mean().dropna().sort_values(ascending=False)[:40].plot(kind='bar')"
   ]
  },
  {
   "cell_type": "markdown",
   "metadata": {
    "slideshow": {
     "slide_type": "subslide"
    }
   },
   "source": [
    "### Takeaways:\n",
    "### Even though the Biotechnology market was the among the top ones in the 'good' dataset and the outliers, it was not the market that got the most investment by far"
   ]
  },
  {
   "cell_type": "markdown",
   "metadata": {
    "slideshow": {
     "slide_type": "slide"
    }
   },
   "source": [
    "# Let's see which markets had the most closures and acquisitions"
   ]
  },
  {
   "cell_type": "code",
   "execution_count": 346,
   "metadata": {
    "slideshow": {
     "slide_type": "skip"
    }
   },
   "outputs": [],
   "source": [
    "status_group = majority_df.groupby(['status'])['market']"
   ]
  },
  {
   "cell_type": "code",
   "execution_count": 362,
   "metadata": {
    "slideshow": {
     "slide_type": "subslide"
    }
   },
   "outputs": [
    {
     "data": {
      "image/png": "[encoded data removed]",
      "text/plain": [
       "<Figure size 720x360 with 1 Axes>"
      ]
     },
     "metadata": {
      "needs_background": "light"
     },
     "output_type": "display_data"
    }
   ],
   "source": [
    "_= status_group.value_counts()['closed'][:10].sort_values().plot(kind='barh', title='# of companies closed by market type')"
   ]
  },
  {
   "cell_type": "code",
   "execution_count": 359,
   "metadata": {
    "slideshow": {
     "slide_type": "subslide"
    }
   },
   "outputs": [
    {
     "data": {
      "image/png": "[encoded data removed]",
      "text/plain": [
       "<Figure size 720x360 with 1 Axes>"
      ]
     },
     "metadata": {
      "needs_background": "light"
     },
     "output_type": "display_data"
    }
   ],
   "source": [
    "_= status_group.value_counts()['acquired'][:10].sort_values().plot(kind='barh', title='# of companies acquired by market type')"
   ]
  },
  {
   "cell_type": "code",
   "execution_count": 358,
   "metadata": {
    "slideshow": {
     "slide_type": "subslide"
    }
   },
   "outputs": [
    {
     "data": {
      "text/html": [
       "<div>\n",
       "<style scoped>\n",
       "    .dataframe tbody tr th:only-of-type {\n",
       "        vertical-align: middle;\n",
       "    }\n",
       "\n",
       "    .dataframe tbody tr th {\n",
       "        vertical-align: top;\n",
       "    }\n",
       "\n",
       "    .dataframe thead th {\n",
       "        text-align: right;\n",
       "    }\n",
       "</style>\n",
       "<table border=\"1\" class=\"dataframe\">\n",
       "  <thead>\n",
       "    <tr style=\"text-align: right;\">\n",
       "      <th></th>\n",
       "      <th>permalink</th>\n",
       "      <th>name</th>\n",
       "      <th>homepage_url</th>\n",
       "      <th>category_list</th>\n",
       "      <th>market</th>\n",
       "      <th>funding_total_usd</th>\n",
       "      <th>status</th>\n",
       "      <th>country_code</th>\n",
       "      <th>state_code</th>\n",
       "      <th>region</th>\n",
       "      <th>...</th>\n",
       "      <th>secondary_market</th>\n",
       "      <th>product_crowdfunding</th>\n",
       "      <th>round_A</th>\n",
       "      <th>round_B</th>\n",
       "      <th>round_C</th>\n",
       "      <th>round_D</th>\n",
       "      <th>round_E</th>\n",
       "      <th>round_F</th>\n",
       "      <th>round_G</th>\n",
       "      <th>round_H</th>\n",
       "    </tr>\n",
       "  </thead>\n",
       "  <tbody>\n",
       "    <tr>\n",
       "      <td>32427</td>\n",
       "      <td>/organization/pinterest</td>\n",
       "      <td>Pinterest</td>\n",
       "      <td>http://pinterest.com</td>\n",
       "      <td>|Curated Web|Social Bookmarking|Social Media|</td>\n",
       "      <td>CuratedWeb</td>\n",
       "      <td>762500000.0</td>\n",
       "      <td>operating</td>\n",
       "      <td>USA</td>\n",
       "      <td>CA</td>\n",
       "      <td>SF Bay Area</td>\n",
       "      <td>...</td>\n",
       "      <td>0.0</td>\n",
       "      <td>0.0</td>\n",
       "      <td>10000000.0</td>\n",
       "      <td>27000000.0</td>\n",
       "      <td>100000000.0</td>\n",
       "      <td>200000000.0</td>\n",
       "      <td>225000000.0</td>\n",
       "      <td>200000000.0</td>\n",
       "      <td>0.0</td>\n",
       "      <td>0.0</td>\n",
       "    </tr>\n",
       "    <tr>\n",
       "      <td>38527</td>\n",
       "      <td>/organization/sina-weibo</td>\n",
       "      <td>Sina Weibo</td>\n",
       "      <td>http://us.weibo.com</td>\n",
       "      <td>|Curated Web|</td>\n",
       "      <td>CuratedWeb</td>\n",
       "      <td>586000000.0</td>\n",
       "      <td>operating</td>\n",
       "      <td>CHN</td>\n",
       "      <td>NaN</td>\n",
       "      <td>CHN - Other</td>\n",
       "      <td>...</td>\n",
       "      <td>0.0</td>\n",
       "      <td>0.0</td>\n",
       "      <td>0.0</td>\n",
       "      <td>0.0</td>\n",
       "      <td>0.0</td>\n",
       "      <td>0.0</td>\n",
       "      <td>0.0</td>\n",
       "      <td>0.0</td>\n",
       "      <td>0.0</td>\n",
       "      <td>0.0</td>\n",
       "    </tr>\n",
       "    <tr>\n",
       "      <td>19384</td>\n",
       "      <td>/organization/houzz</td>\n",
       "      <td>Houzz</td>\n",
       "      <td>http://www.houzz.com</td>\n",
       "      <td>|Home Renovation|Design|Curated Web|</td>\n",
       "      <td>CuratedWeb</td>\n",
       "      <td>213600000.0</td>\n",
       "      <td>operating</td>\n",
       "      <td>USA</td>\n",
       "      <td>CA</td>\n",
       "      <td>SF Bay Area</td>\n",
       "      <td>...</td>\n",
       "      <td>0.0</td>\n",
       "      <td>0.0</td>\n",
       "      <td>2000000.0</td>\n",
       "      <td>11600000.0</td>\n",
       "      <td>35000000.0</td>\n",
       "      <td>165000000.0</td>\n",
       "      <td>0.0</td>\n",
       "      <td>0.0</td>\n",
       "      <td>0.0</td>\n",
       "      <td>0.0</td>\n",
       "    </tr>\n",
       "    <tr>\n",
       "      <td>34515</td>\n",
       "      <td>/organization/quikr-india</td>\n",
       "      <td>Quikr India</td>\n",
       "      <td>http://www.quikr.com</td>\n",
       "      <td>|Curated Web|</td>\n",
       "      <td>CuratedWeb</td>\n",
       "      <td>196000000.0</td>\n",
       "      <td>operating</td>\n",
       "      <td>IND</td>\n",
       "      <td>NaN</td>\n",
       "      <td>Mumbai</td>\n",
       "      <td>...</td>\n",
       "      <td>0.0</td>\n",
       "      <td>0.0</td>\n",
       "      <td>0.0</td>\n",
       "      <td>0.0</td>\n",
       "      <td>6000000.0</td>\n",
       "      <td>8000000.0</td>\n",
       "      <td>32000000.0</td>\n",
       "      <td>90000000.0</td>\n",
       "      <td>60000000.0</td>\n",
       "      <td>0.0</td>\n",
       "    </tr>\n",
       "    <tr>\n",
       "      <td>25197</td>\n",
       "      <td>/organization/mail-ru</td>\n",
       "      <td>Mail.Ru Group</td>\n",
       "      <td>http://www.mail.ru</td>\n",
       "      <td>|Curated Web|</td>\n",
       "      <td>CuratedWeb</td>\n",
       "      <td>165000000.0</td>\n",
       "      <td>operating</td>\n",
       "      <td>RUS</td>\n",
       "      <td>NaN</td>\n",
       "      <td>Moscow</td>\n",
       "      <td>...</td>\n",
       "      <td>0.0</td>\n",
       "      <td>0.0</td>\n",
       "      <td>0.0</td>\n",
       "      <td>0.0</td>\n",
       "      <td>0.0</td>\n",
       "      <td>0.0</td>\n",
       "      <td>0.0</td>\n",
       "      <td>0.0</td>\n",
       "      <td>0.0</td>\n",
       "      <td>0.0</td>\n",
       "    </tr>\n",
       "    <tr>\n",
       "      <td>16904</td>\n",
       "      <td>/organization/geosign</td>\n",
       "      <td>Geosign</td>\n",
       "      <td>NaN</td>\n",
       "      <td>|Curated Web|</td>\n",
       "      <td>CuratedWeb</td>\n",
       "      <td>160000000.0</td>\n",
       "      <td>operating</td>\n",
       "      <td>NaN</td>\n",
       "      <td>NaN</td>\n",
       "      <td>NaN</td>\n",
       "      <td>...</td>\n",
       "      <td>0.0</td>\n",
       "      <td>0.0</td>\n",
       "      <td>0.0</td>\n",
       "      <td>0.0</td>\n",
       "      <td>0.0</td>\n",
       "      <td>0.0</td>\n",
       "      <td>0.0</td>\n",
       "      <td>0.0</td>\n",
       "      <td>0.0</td>\n",
       "      <td>0.0</td>\n",
       "    </tr>\n",
       "    <tr>\n",
       "      <td>43201</td>\n",
       "      <td>/organization/thumbtack</td>\n",
       "      <td>Thumbtack</td>\n",
       "      <td>http://www.thumbtack.com</td>\n",
       "      <td>|Service Providers|Curated Web|</td>\n",
       "      <td>CuratedWeb</td>\n",
       "      <td>148200000.0</td>\n",
       "      <td>operating</td>\n",
       "      <td>USA</td>\n",
       "      <td>CA</td>\n",
       "      <td>SF Bay Area</td>\n",
       "      <td>...</td>\n",
       "      <td>0.0</td>\n",
       "      <td>0.0</td>\n",
       "      <td>4500000.0</td>\n",
       "      <td>12500000.0</td>\n",
       "      <td>30000000.0</td>\n",
       "      <td>100000000.0</td>\n",
       "      <td>0.0</td>\n",
       "      <td>0.0</td>\n",
       "      <td>0.0</td>\n",
       "      <td>0.0</td>\n",
       "    </tr>\n",
       "    <tr>\n",
       "      <td>17837</td>\n",
       "      <td>/organization/green-apple-media</td>\n",
       "      <td>Green Apple Media</td>\n",
       "      <td>http://www.greenapplemedia.ie</td>\n",
       "      <td>|Curated Web|</td>\n",
       "      <td>CuratedWeb</td>\n",
       "      <td>132000000.0</td>\n",
       "      <td>operating</td>\n",
       "      <td>IRL</td>\n",
       "      <td>NaN</td>\n",
       "      <td>Dublin</td>\n",
       "      <td>...</td>\n",
       "      <td>0.0</td>\n",
       "      <td>0.0</td>\n",
       "      <td>0.0</td>\n",
       "      <td>0.0</td>\n",
       "      <td>0.0</td>\n",
       "      <td>0.0</td>\n",
       "      <td>0.0</td>\n",
       "      <td>0.0</td>\n",
       "      <td>0.0</td>\n",
       "      <td>0.0</td>\n",
       "    </tr>\n",
       "    <tr>\n",
       "      <td>6488</td>\n",
       "      <td>/organization/brookstone</td>\n",
       "      <td>Brookstone</td>\n",
       "      <td>http://www.brookstone.com</td>\n",
       "      <td>|Curated Web|</td>\n",
       "      <td>CuratedWeb</td>\n",
       "      <td>125612000.0</td>\n",
       "      <td>operating</td>\n",
       "      <td>USA</td>\n",
       "      <td>NH</td>\n",
       "      <td>Manchester, New Hampshire</td>\n",
       "      <td>...</td>\n",
       "      <td>0.0</td>\n",
       "      <td>0.0</td>\n",
       "      <td>0.0</td>\n",
       "      <td>0.0</td>\n",
       "      <td>0.0</td>\n",
       "      <td>0.0</td>\n",
       "      <td>0.0</td>\n",
       "      <td>0.0</td>\n",
       "      <td>0.0</td>\n",
       "      <td>0.0</td>\n",
       "    </tr>\n",
       "    <tr>\n",
       "      <td>13087</td>\n",
       "      <td>/organization/eharmony</td>\n",
       "      <td>eHarmony</td>\n",
       "      <td>http://eharmony.com</td>\n",
       "      <td>|Curated Web|</td>\n",
       "      <td>CuratedWeb</td>\n",
       "      <td>113000000.0</td>\n",
       "      <td>operating</td>\n",
       "      <td>USA</td>\n",
       "      <td>CA</td>\n",
       "      <td>Los Angeles</td>\n",
       "      <td>...</td>\n",
       "      <td>0.0</td>\n",
       "      <td>0.0</td>\n",
       "      <td>3000000.0</td>\n",
       "      <td>110000000.0</td>\n",
       "      <td>0.0</td>\n",
       "      <td>0.0</td>\n",
       "      <td>0.0</td>\n",
       "      <td>0.0</td>\n",
       "      <td>0.0</td>\n",
       "      <td>0.0</td>\n",
       "    </tr>\n",
       "  </tbody>\n",
       "</table>\n",
       "<p>10 rows × 39 columns</p>\n",
       "</div>"
      ],
      "text/plain": [
       "                             permalink               name  \\\n",
       "32427          /organization/pinterest          Pinterest   \n",
       "38527         /organization/sina-weibo         Sina Weibo   \n",
       "19384              /organization/houzz              Houzz   \n",
       "34515        /organization/quikr-india        Quikr India   \n",
       "25197            /organization/mail-ru      Mail.Ru Group   \n",
       "16904            /organization/geosign            Geosign   \n",
       "43201          /organization/thumbtack          Thumbtack   \n",
       "17837  /organization/green-apple-media  Green Apple Media   \n",
       "6488          /organization/brookstone         Brookstone   \n",
       "13087           /organization/eharmony           eHarmony   \n",
       "\n",
       "                        homepage_url  \\\n",
       "32427           http://pinterest.com   \n",
       "38527            http://us.weibo.com   \n",
       "19384           http://www.houzz.com   \n",
       "34515           http://www.quikr.com   \n",
       "25197             http://www.mail.ru   \n",
       "16904                            NaN   \n",
       "43201       http://www.thumbtack.com   \n",
       "17837  http://www.greenapplemedia.ie   \n",
       "6488       http://www.brookstone.com   \n",
       "13087            http://eharmony.com   \n",
       "\n",
       "                                       category_list      market  \\\n",
       "32427  |Curated Web|Social Bookmarking|Social Media|  CuratedWeb   \n",
       "38527                                  |Curated Web|  CuratedWeb   \n",
       "19384           |Home Renovation|Design|Curated Web|  CuratedWeb   \n",
       "34515                                  |Curated Web|  CuratedWeb   \n",
       "25197                                  |Curated Web|  CuratedWeb   \n",
       "16904                                  |Curated Web|  CuratedWeb   \n",
       "43201                |Service Providers|Curated Web|  CuratedWeb   \n",
       "17837                                  |Curated Web|  CuratedWeb   \n",
       "6488                                   |Curated Web|  CuratedWeb   \n",
       "13087                                  |Curated Web|  CuratedWeb   \n",
       "\n",
       "       funding_total_usd     status country_code state_code  \\\n",
       "32427        762500000.0  operating          USA         CA   \n",
       "38527        586000000.0  operating          CHN        NaN   \n",
       "19384        213600000.0  operating          USA         CA   \n",
       "34515        196000000.0  operating          IND        NaN   \n",
       "25197        165000000.0  operating          RUS        NaN   \n",
       "16904        160000000.0  operating          NaN        NaN   \n",
       "43201        148200000.0  operating          USA         CA   \n",
       "17837        132000000.0  operating          IRL        NaN   \n",
       "6488         125612000.0  operating          USA         NH   \n",
       "13087        113000000.0  operating          USA         CA   \n",
       "\n",
       "                          region  ... secondary_market  product_crowdfunding  \\\n",
       "32427                SF Bay Area  ...              0.0                   0.0   \n",
       "38527                CHN - Other  ...              0.0                   0.0   \n",
       "19384                SF Bay Area  ...              0.0                   0.0   \n",
       "34515                     Mumbai  ...              0.0                   0.0   \n",
       "25197                     Moscow  ...              0.0                   0.0   \n",
       "16904                        NaN  ...              0.0                   0.0   \n",
       "43201                SF Bay Area  ...              0.0                   0.0   \n",
       "17837                     Dublin  ...              0.0                   0.0   \n",
       "6488   Manchester, New Hampshire  ...              0.0                   0.0   \n",
       "13087                Los Angeles  ...              0.0                   0.0   \n",
       "\n",
       "          round_A      round_B      round_C      round_D      round_E  \\\n",
       "32427  10000000.0   27000000.0  100000000.0  200000000.0  225000000.0   \n",
       "38527         0.0          0.0          0.0          0.0          0.0   \n",
       "19384   2000000.0   11600000.0   35000000.0  165000000.0          0.0   \n",
       "34515         0.0          0.0    6000000.0    8000000.0   32000000.0   \n",
       "25197         0.0          0.0          0.0          0.0          0.0   \n",
       "16904         0.0          0.0          0.0          0.0          0.0   \n",
       "43201   4500000.0   12500000.0   30000000.0  100000000.0          0.0   \n",
       "17837         0.0          0.0          0.0          0.0          0.0   \n",
       "6488          0.0          0.0          0.0          0.0          0.0   \n",
       "13087   3000000.0  110000000.0          0.0          0.0          0.0   \n",
       "\n",
       "           round_F     round_G  round_H  \n",
       "32427  200000000.0         0.0      0.0  \n",
       "38527          0.0         0.0      0.0  \n",
       "19384          0.0         0.0      0.0  \n",
       "34515   90000000.0  60000000.0      0.0  \n",
       "25197          0.0         0.0      0.0  \n",
       "16904          0.0         0.0      0.0  \n",
       "43201          0.0         0.0      0.0  \n",
       "17837          0.0         0.0      0.0  \n",
       "6488           0.0         0.0      0.0  \n",
       "13087          0.0         0.0      0.0  \n",
       "\n",
       "[10 rows x 39 columns]"
      ]
     },
     "execution_count": 358,
     "metadata": {},
     "output_type": "execute_result"
    }
   ],
   "source": [
    "df[df['market'] == 'CuratedWeb'].sort_values(by='funding_total_usd', ascending=False)[:10]"
   ]
  },
  {
   "cell_type": "markdown",
   "metadata": {
    "slideshow": {
     "slide_type": "subslide"
    }
   },
   "source": [
    "# Takeaways:\n",
    "### High risk for all of the top 10 closed but also high reward. Both top 10 are very similar"
   ]
  },
  {
   "cell_type": "markdown",
   "metadata": {
    "slideshow": {
     "slide_type": "slide"
    }
   },
   "source": [
    "# Let's compare the sets of companies who were acquired or closed down"
   ]
  },
  {
   "cell_type": "code",
   "execution_count": null,
   "metadata": {
    "slideshow": {
     "slide_type": "skip"
    }
   },
   "outputs": [],
   "source": [
    "# Let's do a null hypothesis test on the companies that closed and got aquired by their funding dataset\n",
    "### We are going to use the z-test with an alpha value of .05\n",
    "### We want to be able to say with a 95% confidence that there is a difference between the two sets"
   ]
  },
  {
   "cell_type": "code",
   "execution_count": 373,
   "metadata": {
    "slideshow": {
     "slide_type": "skip"
    }
   },
   "outputs": [],
   "source": [
    "closed_set = majority_df[majority_df['status'] == 'closed']['funding_total_usd']"
   ]
  },
  {
   "cell_type": "code",
   "execution_count": 375,
   "metadata": {
    "slideshow": {
     "slide_type": "skip"
    }
   },
   "outputs": [],
   "source": [
    "acquired_set = majority_df[majority_df['status'] == 'acquired']['funding_total_usd']"
   ]
  },
  {
   "cell_type": "code",
   "execution_count": 384,
   "metadata": {
    "slideshow": {
     "slide_type": "subslide"
    }
   },
   "outputs": [
    {
     "name": "stdout",
     "output_type": "stream",
     "text": [
      "p-value for closed vs acquired: 8.887340186426698e-53\n",
      "We reject the null hypothesis, two samples are different\n"
     ]
    }
   ],
   "source": [
    "from scipy import stats\n",
    "alpha_value = .05\n",
    "t_value, p_value = stats.ttest_ind(list(closed_set), list(acquired_set))\n",
    "\n",
    "print(f'p-value for closed vs acquired: {p_value}')\n",
    "\n",
    "if p_value < alpha_value:\n",
    "    print(\"We reject the null hypothesis, two samples are different\")"
   ]
  },
  {
   "cell_type": "code",
   "execution_count": 385,
   "metadata": {
    "slideshow": {
     "slide_type": "skip"
    }
   },
   "outputs": [
    {
     "name": "stdout",
     "output_type": "stream",
     "text": [
      "Average funding total for acquired: 1004028.7787839586\n",
      "Average funding total for closed: 554270.8671532847\n"
     ]
    }
   ],
   "source": [
    "print(f'Average funding total for acquired: {acquired_set.mean()}')\n",
    "print(f'Average funding total for closed: {closed_set.mean()}')"
   ]
  },
  {
   "cell_type": "markdown",
   "metadata": {
    "slideshow": {
     "slide_type": "subslide"
    }
   },
   "source": [
    "## Average funding for acquired: 1,004,028\n",
    "## Average funding for closed: 554, 270 "
   ]
  },
  {
   "cell_type": "code",
   "execution_count": 416,
   "metadata": {
    "slideshow": {
     "slide_type": "subslide"
    }
   },
   "outputs": [
    {
     "data": {
      "image/png": "[encoded data removed]",
      "text/plain": [
       "<Figure size 720x360 with 1 Axes>"
      ]
     },
     "metadata": {
      "needs_background": "light"
     },
     "output_type": "display_data"
    }
   ],
   "source": [
    "_= majority_df[majority_df['status'] == 'closed']['funding_total_usd'].plot(kind='hist', bins=16, title=\"Hist of Closed companies by Money Raised\")"
   ]
  },
  {
   "cell_type": "code",
   "execution_count": 398,
   "metadata": {
    "slideshow": {
     "slide_type": "subslide"
    }
   },
   "outputs": [
    {
     "data": {
      "image/png": "[encoded data removed]",
      "text/plain": [
       "<Figure size 720x360 with 1 Axes>"
      ]
     },
     "metadata": {
      "needs_background": "light"
     },
     "output_type": "display_data"
    }
   ],
   "source": [
    "_= majority_df[majority_df['status'] == 'acquired']['funding_total_usd'].plot(kind='hist', bins=16, title=\"Hist of Acquired companies by funding\")"
   ]
  },
  {
   "cell_type": "code",
   "execution_count": 434,
   "metadata": {},
   "outputs": [
    {
     "data": {
      "text/html": [
       "<div>\n",
       "<style scoped>\n",
       "    .dataframe tbody tr th:only-of-type {\n",
       "        vertical-align: middle;\n",
       "    }\n",
       "\n",
       "    .dataframe tbody tr th {\n",
       "        vertical-align: top;\n",
       "    }\n",
       "\n",
       "    .dataframe thead th {\n",
       "        text-align: right;\n",
       "    }\n",
       "</style>\n",
       "<table border=\"1\" class=\"dataframe\">\n",
       "  <thead>\n",
       "    <tr style=\"text-align: right;\">\n",
       "      <th></th>\n",
       "      <th>permalink</th>\n",
       "      <th>name</th>\n",
       "      <th>homepage_url</th>\n",
       "      <th>category_list</th>\n",
       "      <th>market</th>\n",
       "      <th>funding_total_usd</th>\n",
       "      <th>status</th>\n",
       "      <th>country_code</th>\n",
       "      <th>state_code</th>\n",
       "      <th>region</th>\n",
       "      <th>...</th>\n",
       "      <th>secondary_market</th>\n",
       "      <th>product_crowdfunding</th>\n",
       "      <th>round_A</th>\n",
       "      <th>round_B</th>\n",
       "      <th>round_C</th>\n",
       "      <th>round_D</th>\n",
       "      <th>round_E</th>\n",
       "      <th>round_F</th>\n",
       "      <th>round_G</th>\n",
       "      <th>round_H</th>\n",
       "    </tr>\n",
       "  </thead>\n",
       "  <tbody>\n",
       "    <tr>\n",
       "      <td>1868</td>\n",
       "      <td>/organization/alibaba</td>\n",
       "      <td>Alibaba</td>\n",
       "      <td>http://www.alibaba.com</td>\n",
       "      <td>|E-Commerce|</td>\n",
       "      <td>E-Commerce</td>\n",
       "      <td>1.112000e+09</td>\n",
       "      <td>operating</td>\n",
       "      <td>CHN</td>\n",
       "      <td>NaN</td>\n",
       "      <td>Hangzhou</td>\n",
       "      <td>...</td>\n",
       "      <td>0.0</td>\n",
       "      <td>0.0</td>\n",
       "      <td>0.0</td>\n",
       "      <td>0.0</td>\n",
       "      <td>0.0</td>\n",
       "      <td>0.000000e+00</td>\n",
       "      <td>0.0</td>\n",
       "      <td>0.000000e+00</td>\n",
       "      <td>0.000000e+00</td>\n",
       "      <td>0.0</td>\n",
       "    </tr>\n",
       "    <tr>\n",
       "      <td>7107</td>\n",
       "      <td>/organization/cape-wind</td>\n",
       "      <td>Cape Wind</td>\n",
       "      <td>http://capewind.org</td>\n",
       "      <td>|Clean Technology|</td>\n",
       "      <td>CleanTechnology</td>\n",
       "      <td>1.200000e+09</td>\n",
       "      <td>operating</td>\n",
       "      <td>USA</td>\n",
       "      <td>MA</td>\n",
       "      <td>Boston</td>\n",
       "      <td>...</td>\n",
       "      <td>0.0</td>\n",
       "      <td>0.0</td>\n",
       "      <td>0.0</td>\n",
       "      <td>0.0</td>\n",
       "      <td>0.0</td>\n",
       "      <td>0.000000e+00</td>\n",
       "      <td>0.0</td>\n",
       "      <td>0.000000e+00</td>\n",
       "      <td>0.000000e+00</td>\n",
       "      <td>0.0</td>\n",
       "    </tr>\n",
       "    <tr>\n",
       "      <td>7234</td>\n",
       "      <td>/organization/cardinal-health</td>\n",
       "      <td>Cardinal Health</td>\n",
       "      <td>http://www.cardinal.com</td>\n",
       "      <td>|Health and Wellness|Hospitals|Health Care|</td>\n",
       "      <td>Hospitals</td>\n",
       "      <td>1.500000e+09</td>\n",
       "      <td>operating</td>\n",
       "      <td>USA</td>\n",
       "      <td>OH</td>\n",
       "      <td>Columbus, Ohio</td>\n",
       "      <td>...</td>\n",
       "      <td>0.0</td>\n",
       "      <td>0.0</td>\n",
       "      <td>0.0</td>\n",
       "      <td>0.0</td>\n",
       "      <td>0.0</td>\n",
       "      <td>0.000000e+00</td>\n",
       "      <td>0.0</td>\n",
       "      <td>0.000000e+00</td>\n",
       "      <td>0.000000e+00</td>\n",
       "      <td>0.0</td>\n",
       "    </tr>\n",
       "    <tr>\n",
       "      <td>7328</td>\n",
       "      <td>/organization/carestream-health</td>\n",
       "      <td>Carestream</td>\n",
       "      <td>http://www.carestream.com</td>\n",
       "      <td>|Biotechnology|</td>\n",
       "      <td>Biotechnology</td>\n",
       "      <td>2.400000e+09</td>\n",
       "      <td>operating</td>\n",
       "      <td>USA</td>\n",
       "      <td>NY</td>\n",
       "      <td>Rochester, New York</td>\n",
       "      <td>...</td>\n",
       "      <td>0.0</td>\n",
       "      <td>0.0</td>\n",
       "      <td>0.0</td>\n",
       "      <td>0.0</td>\n",
       "      <td>0.0</td>\n",
       "      <td>0.000000e+00</td>\n",
       "      <td>0.0</td>\n",
       "      <td>0.000000e+00</td>\n",
       "      <td>0.000000e+00</td>\n",
       "      <td>0.0</td>\n",
       "    </tr>\n",
       "    <tr>\n",
       "      <td>7977</td>\n",
       "      <td>/organization/charter-communications</td>\n",
       "      <td>Charter Communications</td>\n",
       "      <td>http://www.charter.com</td>\n",
       "      <td>NaN</td>\n",
       "      <td>NaN</td>\n",
       "      <td>5.162513e+09</td>\n",
       "      <td>operating</td>\n",
       "      <td>USA</td>\n",
       "      <td>CT</td>\n",
       "      <td>Hartford</td>\n",
       "      <td>...</td>\n",
       "      <td>0.0</td>\n",
       "      <td>0.0</td>\n",
       "      <td>0.0</td>\n",
       "      <td>0.0</td>\n",
       "      <td>0.0</td>\n",
       "      <td>0.000000e+00</td>\n",
       "      <td>0.0</td>\n",
       "      <td>0.000000e+00</td>\n",
       "      <td>0.000000e+00</td>\n",
       "      <td>0.0</td>\n",
       "    </tr>\n",
       "    <tr>\n",
       "      <td>8664</td>\n",
       "      <td>/organization/clearwire</td>\n",
       "      <td>Clearwire</td>\n",
       "      <td>http://www.clearwire.com</td>\n",
       "      <td>|Internet|Mobile|</td>\n",
       "      <td>Internet</td>\n",
       "      <td>5.700000e+09</td>\n",
       "      <td>acquired</td>\n",
       "      <td>USA</td>\n",
       "      <td>WA</td>\n",
       "      <td>Seattle</td>\n",
       "      <td>...</td>\n",
       "      <td>0.0</td>\n",
       "      <td>0.0</td>\n",
       "      <td>0.0</td>\n",
       "      <td>0.0</td>\n",
       "      <td>0.0</td>\n",
       "      <td>0.000000e+00</td>\n",
       "      <td>0.0</td>\n",
       "      <td>0.000000e+00</td>\n",
       "      <td>0.000000e+00</td>\n",
       "      <td>0.0</td>\n",
       "    </tr>\n",
       "    <tr>\n",
       "      <td>8889</td>\n",
       "      <td>/organization/cloudera</td>\n",
       "      <td>Cloudera</td>\n",
       "      <td>http://www.cloudera.com</td>\n",
       "      <td>|Analytics|Big Data|Software|Enterprise Software|</td>\n",
       "      <td>Analytics</td>\n",
       "      <td>1.201000e+09</td>\n",
       "      <td>operating</td>\n",
       "      <td>USA</td>\n",
       "      <td>CA</td>\n",
       "      <td>SF Bay Area</td>\n",
       "      <td>...</td>\n",
       "      <td>0.0</td>\n",
       "      <td>0.0</td>\n",
       "      <td>5000000.0</td>\n",
       "      <td>6000000.0</td>\n",
       "      <td>25000000.0</td>\n",
       "      <td>4.000000e+07</td>\n",
       "      <td>65000000.0</td>\n",
       "      <td>1.060000e+09</td>\n",
       "      <td>0.000000e+00</td>\n",
       "      <td>0.0</td>\n",
       "    </tr>\n",
       "    <tr>\n",
       "      <td>9155</td>\n",
       "      <td>/organization/cofco</td>\n",
       "      <td>COFCO</td>\n",
       "      <td>http://cofco.com</td>\n",
       "      <td>NaN</td>\n",
       "      <td>NaN</td>\n",
       "      <td>3.200000e+09</td>\n",
       "      <td>operating</td>\n",
       "      <td>CHN</td>\n",
       "      <td>NaN</td>\n",
       "      <td>CHN - Other</td>\n",
       "      <td>...</td>\n",
       "      <td>0.0</td>\n",
       "      <td>0.0</td>\n",
       "      <td>0.0</td>\n",
       "      <td>0.0</td>\n",
       "      <td>0.0</td>\n",
       "      <td>0.000000e+00</td>\n",
       "      <td>0.0</td>\n",
       "      <td>0.000000e+00</td>\n",
       "      <td>0.000000e+00</td>\n",
       "      <td>0.0</td>\n",
       "    </tr>\n",
       "    <tr>\n",
       "      <td>12375</td>\n",
       "      <td>/organization/dropbox</td>\n",
       "      <td>Dropbox</td>\n",
       "      <td>http://www.dropbox.com</td>\n",
       "      <td>|Cloud Data Services|Storage|Web Hosting|</td>\n",
       "      <td>CloudDataServices</td>\n",
       "      <td>1.107215e+09</td>\n",
       "      <td>operating</td>\n",
       "      <td>USA</td>\n",
       "      <td>CA</td>\n",
       "      <td>SF Bay Area</td>\n",
       "      <td>...</td>\n",
       "      <td>0.0</td>\n",
       "      <td>0.0</td>\n",
       "      <td>7200000.0</td>\n",
       "      <td>250000000.0</td>\n",
       "      <td>350000000.0</td>\n",
       "      <td>0.000000e+00</td>\n",
       "      <td>0.0</td>\n",
       "      <td>0.000000e+00</td>\n",
       "      <td>0.000000e+00</td>\n",
       "      <td>0.0</td>\n",
       "    </tr>\n",
       "    <tr>\n",
       "      <td>14705</td>\n",
       "      <td>/organization/facebook</td>\n",
       "      <td>Facebook</td>\n",
       "      <td>http://facebook.com</td>\n",
       "      <td>|Communities|Identity|All Students|Colleges|Fa...</td>\n",
       "      <td>Communities</td>\n",
       "      <td>2.425700e+09</td>\n",
       "      <td>operating</td>\n",
       "      <td>USA</td>\n",
       "      <td>CA</td>\n",
       "      <td>SF Bay Area</td>\n",
       "      <td>...</td>\n",
       "      <td>0.0</td>\n",
       "      <td>0.0</td>\n",
       "      <td>12700000.0</td>\n",
       "      <td>27500000.0</td>\n",
       "      <td>375000000.0</td>\n",
       "      <td>2.000000e+08</td>\n",
       "      <td>0.0</td>\n",
       "      <td>0.000000e+00</td>\n",
       "      <td>0.000000e+00</td>\n",
       "      <td>0.0</td>\n",
       "    </tr>\n",
       "    <tr>\n",
       "      <td>15315</td>\n",
       "      <td>/organization/first-data-corporation</td>\n",
       "      <td>First Data Corporation</td>\n",
       "      <td>http://www.firstdata.com</td>\n",
       "      <td>|Trading|Payments|</td>\n",
       "      <td>Trading</td>\n",
       "      <td>3.500000e+09</td>\n",
       "      <td>operating</td>\n",
       "      <td>USA</td>\n",
       "      <td>GA</td>\n",
       "      <td>Atlanta</td>\n",
       "      <td>...</td>\n",
       "      <td>0.0</td>\n",
       "      <td>0.0</td>\n",
       "      <td>0.0</td>\n",
       "      <td>0.0</td>\n",
       "      <td>0.0</td>\n",
       "      <td>0.000000e+00</td>\n",
       "      <td>0.0</td>\n",
       "      <td>0.000000e+00</td>\n",
       "      <td>0.000000e+00</td>\n",
       "      <td>0.0</td>\n",
       "    </tr>\n",
       "    <tr>\n",
       "      <td>15360</td>\n",
       "      <td>/organization/fisker</td>\n",
       "      <td>Fisker Automotive</td>\n",
       "      <td>http://www.fiskerautomotive.com</td>\n",
       "      <td>|Automotive|</td>\n",
       "      <td>Automotive</td>\n",
       "      <td>1.451000e+09</td>\n",
       "      <td>acquired</td>\n",
       "      <td>USA</td>\n",
       "      <td>CA</td>\n",
       "      <td>Anaheim</td>\n",
       "      <td>...</td>\n",
       "      <td>0.0</td>\n",
       "      <td>0.0</td>\n",
       "      <td>0.0</td>\n",
       "      <td>0.0</td>\n",
       "      <td>65000000.0</td>\n",
       "      <td>8.600000e+07</td>\n",
       "      <td>0.0</td>\n",
       "      <td>0.000000e+00</td>\n",
       "      <td>0.000000e+00</td>\n",
       "      <td>0.0</td>\n",
       "    </tr>\n",
       "    <tr>\n",
       "      <td>15569</td>\n",
       "      <td>/organization/flipkart</td>\n",
       "      <td>Flipkart</td>\n",
       "      <td>http://www.flipkart.com</td>\n",
       "      <td>|Online Shopping|E-Commerce|</td>\n",
       "      <td>OnlineShopping</td>\n",
       "      <td>2.351140e+09</td>\n",
       "      <td>operating</td>\n",
       "      <td>IND</td>\n",
       "      <td>NaN</td>\n",
       "      <td>Bangalore</td>\n",
       "      <td>...</td>\n",
       "      <td>0.0</td>\n",
       "      <td>0.0</td>\n",
       "      <td>1000000.0</td>\n",
       "      <td>10000000.0</td>\n",
       "      <td>20000000.0</td>\n",
       "      <td>1.500000e+08</td>\n",
       "      <td>360000000.0</td>\n",
       "      <td>2.100000e+08</td>\n",
       "      <td>1.000000e+09</td>\n",
       "      <td>600000000.0</td>\n",
       "    </tr>\n",
       "    <tr>\n",
       "      <td>18075</td>\n",
       "      <td>/organization/groupon</td>\n",
       "      <td>Groupon</td>\n",
       "      <td>http://www.groupon.com</td>\n",
       "      <td>|Advertising|Retail|Discounts|Craigslist Kille...</td>\n",
       "      <td>Advertising</td>\n",
       "      <td>1.137000e+09</td>\n",
       "      <td>operating</td>\n",
       "      <td>USA</td>\n",
       "      <td>IL</td>\n",
       "      <td>Chicago</td>\n",
       "      <td>...</td>\n",
       "      <td>0.0</td>\n",
       "      <td>0.0</td>\n",
       "      <td>4800000.0</td>\n",
       "      <td>30000000.0</td>\n",
       "      <td>135000000.0</td>\n",
       "      <td>9.500000e+08</td>\n",
       "      <td>0.0</td>\n",
       "      <td>0.000000e+00</td>\n",
       "      <td>0.000000e+00</td>\n",
       "      <td>0.0</td>\n",
       "    </tr>\n",
       "    <tr>\n",
       "      <td>29882</td>\n",
       "      <td>/organization/o3b-networks</td>\n",
       "      <td>O3b Networks</td>\n",
       "      <td>http://www.o3bnetworks.com</td>\n",
       "      <td>|Enterprise Software|</td>\n",
       "      <td>EnterpriseSoftware</td>\n",
       "      <td>1.371634e+09</td>\n",
       "      <td>operating</td>\n",
       "      <td>NLD</td>\n",
       "      <td>NaN</td>\n",
       "      <td>The Hague</td>\n",
       "      <td>...</td>\n",
       "      <td>0.0</td>\n",
       "      <td>0.0</td>\n",
       "      <td>0.0</td>\n",
       "      <td>0.0</td>\n",
       "      <td>0.0</td>\n",
       "      <td>0.000000e+00</td>\n",
       "      <td>0.0</td>\n",
       "      <td>0.000000e+00</td>\n",
       "      <td>0.000000e+00</td>\n",
       "      <td>0.0</td>\n",
       "    </tr>\n",
       "    <tr>\n",
       "      <td>34329</td>\n",
       "      <td>/organization/quad-graphics</td>\n",
       "      <td>Quad/Graphics</td>\n",
       "      <td>http://www.qg.com</td>\n",
       "      <td>|Local Businesses|</td>\n",
       "      <td>LocalBusinesses</td>\n",
       "      <td>1.900000e+09</td>\n",
       "      <td>operating</td>\n",
       "      <td>USA</td>\n",
       "      <td>WI</td>\n",
       "      <td>Milwaukee</td>\n",
       "      <td>...</td>\n",
       "      <td>0.0</td>\n",
       "      <td>0.0</td>\n",
       "      <td>0.0</td>\n",
       "      <td>0.0</td>\n",
       "      <td>0.0</td>\n",
       "      <td>0.000000e+00</td>\n",
       "      <td>0.0</td>\n",
       "      <td>0.000000e+00</td>\n",
       "      <td>0.000000e+00</td>\n",
       "      <td>0.0</td>\n",
       "    </tr>\n",
       "    <tr>\n",
       "      <td>35399</td>\n",
       "      <td>/organization/reliance-jio-infocomm-ltd</td>\n",
       "      <td>Reliance Jio Infocomm Ltd.</td>\n",
       "      <td>NaN</td>\n",
       "      <td>|Information Services|Development Platforms|In...</td>\n",
       "      <td>DevelopmentPlatforms</td>\n",
       "      <td>2.250000e+09</td>\n",
       "      <td>operating</td>\n",
       "      <td>IND</td>\n",
       "      <td>NaN</td>\n",
       "      <td>Mumbai</td>\n",
       "      <td>...</td>\n",
       "      <td>0.0</td>\n",
       "      <td>0.0</td>\n",
       "      <td>0.0</td>\n",
       "      <td>0.0</td>\n",
       "      <td>0.0</td>\n",
       "      <td>0.000000e+00</td>\n",
       "      <td>0.0</td>\n",
       "      <td>0.000000e+00</td>\n",
       "      <td>0.000000e+00</td>\n",
       "      <td>0.0</td>\n",
       "    </tr>\n",
       "    <tr>\n",
       "      <td>36911</td>\n",
       "      <td>/organization/sberbank</td>\n",
       "      <td>Sberbank</td>\n",
       "      <td>http://www.sberbank.ru</td>\n",
       "      <td>|Banking|Finance|</td>\n",
       "      <td>Finance</td>\n",
       "      <td>5.800000e+09</td>\n",
       "      <td>operating</td>\n",
       "      <td>RUS</td>\n",
       "      <td>NaN</td>\n",
       "      <td>Moscow</td>\n",
       "      <td>...</td>\n",
       "      <td>0.0</td>\n",
       "      <td>0.0</td>\n",
       "      <td>0.0</td>\n",
       "      <td>0.0</td>\n",
       "      <td>0.0</td>\n",
       "      <td>0.000000e+00</td>\n",
       "      <td>0.0</td>\n",
       "      <td>0.000000e+00</td>\n",
       "      <td>0.000000e+00</td>\n",
       "      <td>0.0</td>\n",
       "    </tr>\n",
       "    <tr>\n",
       "      <td>38289</td>\n",
       "      <td>/organization/sigmacare</td>\n",
       "      <td>sigmacare</td>\n",
       "      <td>http://sigmacare.com</td>\n",
       "      <td>|Health and Wellness|</td>\n",
       "      <td>HealthandWellness</td>\n",
       "      <td>2.600000e+09</td>\n",
       "      <td>operating</td>\n",
       "      <td>USA</td>\n",
       "      <td>NY</td>\n",
       "      <td>New York City</td>\n",
       "      <td>...</td>\n",
       "      <td>0.0</td>\n",
       "      <td>0.0</td>\n",
       "      <td>0.0</td>\n",
       "      <td>0.0</td>\n",
       "      <td>0.0</td>\n",
       "      <td>0.000000e+00</td>\n",
       "      <td>0.0</td>\n",
       "      <td>0.000000e+00</td>\n",
       "      <td>0.000000e+00</td>\n",
       "      <td>0.0</td>\n",
       "    </tr>\n",
       "    <tr>\n",
       "      <td>38601</td>\n",
       "      <td>/organization/sirius</td>\n",
       "      <td>Sirius XM Radio, Inc.</td>\n",
       "      <td>http://siriusxm.com</td>\n",
       "      <td>|Music|News|</td>\n",
       "      <td>Music</td>\n",
       "      <td>1.055750e+09</td>\n",
       "      <td>operating</td>\n",
       "      <td>NaN</td>\n",
       "      <td>NaN</td>\n",
       "      <td>NaN</td>\n",
       "      <td>...</td>\n",
       "      <td>0.0</td>\n",
       "      <td>0.0</td>\n",
       "      <td>0.0</td>\n",
       "      <td>0.0</td>\n",
       "      <td>0.0</td>\n",
       "      <td>0.000000e+00</td>\n",
       "      <td>0.0</td>\n",
       "      <td>0.000000e+00</td>\n",
       "      <td>0.000000e+00</td>\n",
       "      <td>0.0</td>\n",
       "    </tr>\n",
       "    <tr>\n",
       "      <td>39127</td>\n",
       "      <td>/organization/snapdeal</td>\n",
       "      <td>Snapdeal</td>\n",
       "      <td>http://www.snapdeal.com</td>\n",
       "      <td>|E-Commerce|</td>\n",
       "      <td>E-Commerce</td>\n",
       "      <td>1.062700e+09</td>\n",
       "      <td>operating</td>\n",
       "      <td>IND</td>\n",
       "      <td>NaN</td>\n",
       "      <td>New Delhi</td>\n",
       "      <td>...</td>\n",
       "      <td>0.0</td>\n",
       "      <td>0.0</td>\n",
       "      <td>12000000.0</td>\n",
       "      <td>40000000.0</td>\n",
       "      <td>0.0</td>\n",
       "      <td>7.500000e+07</td>\n",
       "      <td>75000000.0</td>\n",
       "      <td>1.337000e+08</td>\n",
       "      <td>0.000000e+00</td>\n",
       "      <td>0.0</td>\n",
       "    </tr>\n",
       "    <tr>\n",
       "      <td>39482</td>\n",
       "      <td>/organization/solarcity</td>\n",
       "      <td>SolarCity</td>\n",
       "      <td>http://www.solarcity.com</td>\n",
       "      <td>|Construction|Clean Technology|</td>\n",
       "      <td>Construction</td>\n",
       "      <td>1.045040e+09</td>\n",
       "      <td>operating</td>\n",
       "      <td>USA</td>\n",
       "      <td>CA</td>\n",
       "      <td>SF Bay Area</td>\n",
       "      <td>...</td>\n",
       "      <td>0.0</td>\n",
       "      <td>0.0</td>\n",
       "      <td>0.0</td>\n",
       "      <td>0.0</td>\n",
       "      <td>0.0</td>\n",
       "      <td>3.000000e+07</td>\n",
       "      <td>24000000.0</td>\n",
       "      <td>0.000000e+00</td>\n",
       "      <td>0.000000e+00</td>\n",
       "      <td>0.0</td>\n",
       "    </tr>\n",
       "    <tr>\n",
       "      <td>39577</td>\n",
       "      <td>/organization/solyndra</td>\n",
       "      <td>Solyndra</td>\n",
       "      <td>http://www.solyndra.com</td>\n",
       "      <td>|Manufacturing|</td>\n",
       "      <td>Manufacturing</td>\n",
       "      <td>1.567504e+09</td>\n",
       "      <td>closed</td>\n",
       "      <td>USA</td>\n",
       "      <td>CA</td>\n",
       "      <td>SF Bay Area</td>\n",
       "      <td>...</td>\n",
       "      <td>0.0</td>\n",
       "      <td>0.0</td>\n",
       "      <td>0.0</td>\n",
       "      <td>79200000.0</td>\n",
       "      <td>0.0</td>\n",
       "      <td>7.500000e+07</td>\n",
       "      <td>220000000.0</td>\n",
       "      <td>2.860000e+08</td>\n",
       "      <td>0.000000e+00</td>\n",
       "      <td>0.0</td>\n",
       "    </tr>\n",
       "    <tr>\n",
       "      <td>42470</td>\n",
       "      <td>/organization/terra-gen-power</td>\n",
       "      <td>Terra-Gen Power</td>\n",
       "      <td>http://www.terra-genpower.com</td>\n",
       "      <td>|Clean Technology|</td>\n",
       "      <td>CleanTechnology</td>\n",
       "      <td>1.200000e+09</td>\n",
       "      <td>acquired</td>\n",
       "      <td>USA</td>\n",
       "      <td>NY</td>\n",
       "      <td>New York City</td>\n",
       "      <td>...</td>\n",
       "      <td>0.0</td>\n",
       "      <td>0.0</td>\n",
       "      <td>0.0</td>\n",
       "      <td>0.0</td>\n",
       "      <td>0.0</td>\n",
       "      <td>0.000000e+00</td>\n",
       "      <td>0.0</td>\n",
       "      <td>0.000000e+00</td>\n",
       "      <td>0.000000e+00</td>\n",
       "      <td>0.0</td>\n",
       "    </tr>\n",
       "    <tr>\n",
       "      <td>44673</td>\n",
       "      <td>/organization/twitter</td>\n",
       "      <td>Twitter</td>\n",
       "      <td>http://twitter.com</td>\n",
       "      <td>|Software|SMS|MicroBlogging|Messaging|Social M...</td>\n",
       "      <td>Software</td>\n",
       "      <td>1.160167e+09</td>\n",
       "      <td>operating</td>\n",
       "      <td>USA</td>\n",
       "      <td>CA</td>\n",
       "      <td>SF Bay Area</td>\n",
       "      <td>...</td>\n",
       "      <td>400000000.0</td>\n",
       "      <td>0.0</td>\n",
       "      <td>5000000.0</td>\n",
       "      <td>15000000.0</td>\n",
       "      <td>35000000.0</td>\n",
       "      <td>1.000000e+08</td>\n",
       "      <td>5166511.0</td>\n",
       "      <td>2.000000e+08</td>\n",
       "      <td>4.000000e+08</td>\n",
       "      <td>0.0</td>\n",
       "    </tr>\n",
       "    <tr>\n",
       "      <td>44772</td>\n",
       "      <td>/organization/uber</td>\n",
       "      <td>Uber</td>\n",
       "      <td>http://www.uber.com</td>\n",
       "      <td>|Transportation|Design|SEO|Automotive|Real Tim...</td>\n",
       "      <td>Transportation</td>\n",
       "      <td>1.507450e+09</td>\n",
       "      <td>operating</td>\n",
       "      <td>USA</td>\n",
       "      <td>CA</td>\n",
       "      <td>SF Bay Area</td>\n",
       "      <td>...</td>\n",
       "      <td>0.0</td>\n",
       "      <td>0.0</td>\n",
       "      <td>11000000.0</td>\n",
       "      <td>37000000.0</td>\n",
       "      <td>258000000.0</td>\n",
       "      <td>1.200000e+09</td>\n",
       "      <td>0.0</td>\n",
       "      <td>0.000000e+00</td>\n",
       "      <td>0.000000e+00</td>\n",
       "      <td>0.0</td>\n",
       "    </tr>\n",
       "    <tr>\n",
       "      <td>45671</td>\n",
       "      <td>/organization/venari-resources</td>\n",
       "      <td>Venari Resources</td>\n",
       "      <td>http://www.venari.com/</td>\n",
       "      <td>|Oil and Gas|</td>\n",
       "      <td>OilandGas</td>\n",
       "      <td>1.498515e+09</td>\n",
       "      <td>operating</td>\n",
       "      <td>USA</td>\n",
       "      <td>TX</td>\n",
       "      <td>Dallas</td>\n",
       "      <td>...</td>\n",
       "      <td>0.0</td>\n",
       "      <td>0.0</td>\n",
       "      <td>0.0</td>\n",
       "      <td>0.0</td>\n",
       "      <td>0.0</td>\n",
       "      <td>0.000000e+00</td>\n",
       "      <td>0.0</td>\n",
       "      <td>0.000000e+00</td>\n",
       "      <td>0.000000e+00</td>\n",
       "      <td>0.0</td>\n",
       "    </tr>\n",
       "    <tr>\n",
       "      <td>45815</td>\n",
       "      <td>/organization/verizon</td>\n",
       "      <td>Verizon Communications</td>\n",
       "      <td>http://www.verizon.com/?lid=//global//residential</td>\n",
       "      <td>|Mobile|</td>\n",
       "      <td>Mobile</td>\n",
       "      <td>3.007950e+10</td>\n",
       "      <td>operating</td>\n",
       "      <td>USA</td>\n",
       "      <td>NY</td>\n",
       "      <td>New York City</td>\n",
       "      <td>...</td>\n",
       "      <td>0.0</td>\n",
       "      <td>0.0</td>\n",
       "      <td>0.0</td>\n",
       "      <td>0.0</td>\n",
       "      <td>0.0</td>\n",
       "      <td>0.000000e+00</td>\n",
       "      <td>0.0</td>\n",
       "      <td>0.000000e+00</td>\n",
       "      <td>0.000000e+00</td>\n",
       "      <td>0.0</td>\n",
       "    </tr>\n",
       "    <tr>\n",
       "      <td>47007</td>\n",
       "      <td>/organization/wave-broadband</td>\n",
       "      <td>Wave Broadband</td>\n",
       "      <td>http://www.wavebroadband.com</td>\n",
       "      <td>|Cable|Internet|Web Hosting|</td>\n",
       "      <td>Internet</td>\n",
       "      <td>1.050000e+09</td>\n",
       "      <td>operating</td>\n",
       "      <td>USA</td>\n",
       "      <td>KS</td>\n",
       "      <td>KS - Other</td>\n",
       "      <td>...</td>\n",
       "      <td>0.0</td>\n",
       "      <td>0.0</td>\n",
       "      <td>0.0</td>\n",
       "      <td>0.0</td>\n",
       "      <td>0.0</td>\n",
       "      <td>0.000000e+00</td>\n",
       "      <td>0.0</td>\n",
       "      <td>0.000000e+00</td>\n",
       "      <td>0.000000e+00</td>\n",
       "      <td>0.0</td>\n",
       "    </tr>\n",
       "    <tr>\n",
       "      <td>48198</td>\n",
       "      <td>/organization/xerox</td>\n",
       "      <td>Xerox</td>\n",
       "      <td>http://www.xerox.com</td>\n",
       "      <td>|Hardware + Software|</td>\n",
       "      <td>Hardware+Software</td>\n",
       "      <td>1.100000e+09</td>\n",
       "      <td>operating</td>\n",
       "      <td>USA</td>\n",
       "      <td>AL</td>\n",
       "      <td>AL - Other</td>\n",
       "      <td>...</td>\n",
       "      <td>0.0</td>\n",
       "      <td>0.0</td>\n",
       "      <td>0.0</td>\n",
       "      <td>0.0</td>\n",
       "      <td>0.0</td>\n",
       "      <td>0.000000e+00</td>\n",
       "      <td>0.0</td>\n",
       "      <td>0.000000e+00</td>\n",
       "      <td>0.000000e+00</td>\n",
       "      <td>0.0</td>\n",
       "    </tr>\n",
       "    <tr>\n",
       "      <td>48679</td>\n",
       "      <td>/organization/youku</td>\n",
       "      <td>Youku</td>\n",
       "      <td>http://www.youku.com</td>\n",
       "      <td>|Technology|Photography|</td>\n",
       "      <td>Technology</td>\n",
       "      <td>1.320000e+09</td>\n",
       "      <td>operating</td>\n",
       "      <td>CHN</td>\n",
       "      <td>NaN</td>\n",
       "      <td>Shanghai</td>\n",
       "      <td>...</td>\n",
       "      <td>0.0</td>\n",
       "      <td>0.0</td>\n",
       "      <td>3000000.0</td>\n",
       "      <td>12000000.0</td>\n",
       "      <td>25000000.0</td>\n",
       "      <td>4.000000e+07</td>\n",
       "      <td>40000000.0</td>\n",
       "      <td>0.000000e+00</td>\n",
       "      <td>0.000000e+00</td>\n",
       "      <td>0.0</td>\n",
       "    </tr>\n",
       "    <tr>\n",
       "      <td>48936</td>\n",
       "      <td>/organization/zebra-technologies</td>\n",
       "      <td>Zebra Technologies</td>\n",
       "      <td>http://www.zebra.com</td>\n",
       "      <td>|Enterprise Software|</td>\n",
       "      <td>EnterpriseSoftware</td>\n",
       "      <td>2.000000e+09</td>\n",
       "      <td>operating</td>\n",
       "      <td>USA</td>\n",
       "      <td>IL</td>\n",
       "      <td>Chicago</td>\n",
       "      <td>...</td>\n",
       "      <td>0.0</td>\n",
       "      <td>0.0</td>\n",
       "      <td>0.0</td>\n",
       "      <td>0.0</td>\n",
       "      <td>0.0</td>\n",
       "      <td>0.000000e+00</td>\n",
       "      <td>0.0</td>\n",
       "      <td>0.000000e+00</td>\n",
       "      <td>0.000000e+00</td>\n",
       "      <td>0.0</td>\n",
       "    </tr>\n",
       "  </tbody>\n",
       "</table>\n",
       "<p>32 rows × 39 columns</p>\n",
       "</div>"
      ],
      "text/plain": [
       "                                     permalink                        name  \\\n",
       "1868                     /organization/alibaba                     Alibaba   \n",
       "7107                   /organization/cape-wind                   Cape Wind   \n",
       "7234             /organization/cardinal-health             Cardinal Health   \n",
       "7328           /organization/carestream-health                  Carestream   \n",
       "7977      /organization/charter-communications      Charter Communications   \n",
       "8664                   /organization/clearwire                   Clearwire   \n",
       "8889                    /organization/cloudera                    Cloudera   \n",
       "9155                       /organization/cofco                       COFCO   \n",
       "12375                    /organization/dropbox                     Dropbox   \n",
       "14705                   /organization/facebook                    Facebook   \n",
       "15315     /organization/first-data-corporation      First Data Corporation   \n",
       "15360                     /organization/fisker           Fisker Automotive   \n",
       "15569                   /organization/flipkart                    Flipkart   \n",
       "18075                    /organization/groupon                     Groupon   \n",
       "29882               /organization/o3b-networks                O3b Networks   \n",
       "34329              /organization/quad-graphics               Quad/Graphics   \n",
       "35399  /organization/reliance-jio-infocomm-ltd  Reliance Jio Infocomm Ltd.   \n",
       "36911                   /organization/sberbank                    Sberbank   \n",
       "38289                  /organization/sigmacare                   sigmacare   \n",
       "38601                     /organization/sirius       Sirius XM Radio, Inc.   \n",
       "39127                   /organization/snapdeal                    Snapdeal   \n",
       "39482                  /organization/solarcity                   SolarCity   \n",
       "39577                   /organization/solyndra                    Solyndra   \n",
       "42470            /organization/terra-gen-power             Terra-Gen Power   \n",
       "44673                    /organization/twitter                     Twitter   \n",
       "44772                       /organization/uber                        Uber   \n",
       "45671           /organization/venari-resources            Venari Resources   \n",
       "45815                    /organization/verizon      Verizon Communications   \n",
       "47007             /organization/wave-broadband              Wave Broadband   \n",
       "48198                      /organization/xerox                       Xerox   \n",
       "48679                      /organization/youku                       Youku   \n",
       "48936         /organization/zebra-technologies          Zebra Technologies   \n",
       "\n",
       "                                            homepage_url  \\\n",
       "1868                              http://www.alibaba.com   \n",
       "7107                                 http://capewind.org   \n",
       "7234                             http://www.cardinal.com   \n",
       "7328                           http://www.carestream.com   \n",
       "7977                              http://www.charter.com   \n",
       "8664                            http://www.clearwire.com   \n",
       "8889                             http://www.cloudera.com   \n",
       "9155                                    http://cofco.com   \n",
       "12375                             http://www.dropbox.com   \n",
       "14705                                http://facebook.com   \n",
       "15315                           http://www.firstdata.com   \n",
       "15360                    http://www.fiskerautomotive.com   \n",
       "15569                            http://www.flipkart.com   \n",
       "18075                             http://www.groupon.com   \n",
       "29882                         http://www.o3bnetworks.com   \n",
       "34329                                  http://www.qg.com   \n",
       "35399                                                NaN   \n",
       "36911                             http://www.sberbank.ru   \n",
       "38289                               http://sigmacare.com   \n",
       "38601                                http://siriusxm.com   \n",
       "39127                            http://www.snapdeal.com   \n",
       "39482                           http://www.solarcity.com   \n",
       "39577                            http://www.solyndra.com   \n",
       "42470                      http://www.terra-genpower.com   \n",
       "44673                                 http://twitter.com   \n",
       "44772                                http://www.uber.com   \n",
       "45671                             http://www.venari.com/   \n",
       "45815  http://www.verizon.com/?lid=//global//residential   \n",
       "47007                       http://www.wavebroadband.com   \n",
       "48198                               http://www.xerox.com   \n",
       "48679                               http://www.youku.com   \n",
       "48936                               http://www.zebra.com   \n",
       "\n",
       "                                           category_list  \\\n",
       "1868                                        |E-Commerce|   \n",
       "7107                                  |Clean Technology|   \n",
       "7234         |Health and Wellness|Hospitals|Health Care|   \n",
       "7328                                     |Biotechnology|   \n",
       "7977                                                 NaN   \n",
       "8664                                   |Internet|Mobile|   \n",
       "8889   |Analytics|Big Data|Software|Enterprise Software|   \n",
       "9155                                                 NaN   \n",
       "12375          |Cloud Data Services|Storage|Web Hosting|   \n",
       "14705  |Communities|Identity|All Students|Colleges|Fa...   \n",
       "15315                                 |Trading|Payments|   \n",
       "15360                                       |Automotive|   \n",
       "15569                       |Online Shopping|E-Commerce|   \n",
       "18075  |Advertising|Retail|Discounts|Craigslist Kille...   \n",
       "29882                              |Enterprise Software|   \n",
       "34329                                 |Local Businesses|   \n",
       "35399  |Information Services|Development Platforms|In...   \n",
       "36911                                  |Banking|Finance|   \n",
       "38289                              |Health and Wellness|   \n",
       "38601                                       |Music|News|   \n",
       "39127                                       |E-Commerce|   \n",
       "39482                    |Construction|Clean Technology|   \n",
       "39577                                    |Manufacturing|   \n",
       "42470                                 |Clean Technology|   \n",
       "44673  |Software|SMS|MicroBlogging|Messaging|Social M...   \n",
       "44772  |Transportation|Design|SEO|Automotive|Real Tim...   \n",
       "45671                                      |Oil and Gas|   \n",
       "45815                                           |Mobile|   \n",
       "47007                       |Cable|Internet|Web Hosting|   \n",
       "48198                              |Hardware + Software|   \n",
       "48679                           |Technology|Photography|   \n",
       "48936                              |Enterprise Software|   \n",
       "\n",
       "                     market  funding_total_usd     status country_code  \\\n",
       "1868             E-Commerce       1.112000e+09  operating          CHN   \n",
       "7107        CleanTechnology       1.200000e+09  operating          USA   \n",
       "7234              Hospitals       1.500000e+09  operating          USA   \n",
       "7328          Biotechnology       2.400000e+09  operating          USA   \n",
       "7977                    NaN       5.162513e+09  operating          USA   \n",
       "8664               Internet       5.700000e+09   acquired          USA   \n",
       "8889              Analytics       1.201000e+09  operating          USA   \n",
       "9155                    NaN       3.200000e+09  operating          CHN   \n",
       "12375     CloudDataServices       1.107215e+09  operating          USA   \n",
       "14705           Communities       2.425700e+09  operating          USA   \n",
       "15315               Trading       3.500000e+09  operating          USA   \n",
       "15360            Automotive       1.451000e+09   acquired          USA   \n",
       "15569        OnlineShopping       2.351140e+09  operating          IND   \n",
       "18075           Advertising       1.137000e+09  operating          USA   \n",
       "29882    EnterpriseSoftware       1.371634e+09  operating          NLD   \n",
       "34329       LocalBusinesses       1.900000e+09  operating          USA   \n",
       "35399  DevelopmentPlatforms       2.250000e+09  operating          IND   \n",
       "36911               Finance       5.800000e+09  operating          RUS   \n",
       "38289     HealthandWellness       2.600000e+09  operating          USA   \n",
       "38601                 Music       1.055750e+09  operating          NaN   \n",
       "39127            E-Commerce       1.062700e+09  operating          IND   \n",
       "39482          Construction       1.045040e+09  operating          USA   \n",
       "39577         Manufacturing       1.567504e+09     closed          USA   \n",
       "42470       CleanTechnology       1.200000e+09   acquired          USA   \n",
       "44673              Software       1.160167e+09  operating          USA   \n",
       "44772        Transportation       1.507450e+09  operating          USA   \n",
       "45671             OilandGas       1.498515e+09  operating          USA   \n",
       "45815                Mobile       3.007950e+10  operating          USA   \n",
       "47007              Internet       1.050000e+09  operating          USA   \n",
       "48198     Hardware+Software       1.100000e+09  operating          USA   \n",
       "48679            Technology       1.320000e+09  operating          CHN   \n",
       "48936    EnterpriseSoftware       2.000000e+09  operating          USA   \n",
       "\n",
       "      state_code               region  ... secondary_market  \\\n",
       "1868         NaN             Hangzhou  ...              0.0   \n",
       "7107          MA               Boston  ...              0.0   \n",
       "7234          OH       Columbus, Ohio  ...              0.0   \n",
       "7328          NY  Rochester, New York  ...              0.0   \n",
       "7977          CT             Hartford  ...              0.0   \n",
       "8664          WA              Seattle  ...              0.0   \n",
       "8889          CA          SF Bay Area  ...              0.0   \n",
       "9155         NaN          CHN - Other  ...              0.0   \n",
       "12375         CA          SF Bay Area  ...              0.0   \n",
       "14705         CA          SF Bay Area  ...              0.0   \n",
       "15315         GA              Atlanta  ...              0.0   \n",
       "15360         CA              Anaheim  ...              0.0   \n",
       "15569        NaN            Bangalore  ...              0.0   \n",
       "18075         IL              Chicago  ...              0.0   \n",
       "29882        NaN            The Hague  ...              0.0   \n",
       "34329         WI            Milwaukee  ...              0.0   \n",
       "35399        NaN               Mumbai  ...              0.0   \n",
       "36911        NaN               Moscow  ...              0.0   \n",
       "38289         NY        New York City  ...              0.0   \n",
       "38601        NaN                  NaN  ...              0.0   \n",
       "39127        NaN            New Delhi  ...              0.0   \n",
       "39482         CA          SF Bay Area  ...              0.0   \n",
       "39577         CA          SF Bay Area  ...              0.0   \n",
       "42470         NY        New York City  ...              0.0   \n",
       "44673         CA          SF Bay Area  ...      400000000.0   \n",
       "44772         CA          SF Bay Area  ...              0.0   \n",
       "45671         TX               Dallas  ...              0.0   \n",
       "45815         NY        New York City  ...              0.0   \n",
       "47007         KS           KS - Other  ...              0.0   \n",
       "48198         AL           AL - Other  ...              0.0   \n",
       "48679        NaN             Shanghai  ...              0.0   \n",
       "48936         IL              Chicago  ...              0.0   \n",
       "\n",
       "       product_crowdfunding     round_A      round_B      round_C  \\\n",
       "1868                    0.0         0.0          0.0          0.0   \n",
       "7107                    0.0         0.0          0.0          0.0   \n",
       "7234                    0.0         0.0          0.0          0.0   \n",
       "7328                    0.0         0.0          0.0          0.0   \n",
       "7977                    0.0         0.0          0.0          0.0   \n",
       "8664                    0.0         0.0          0.0          0.0   \n",
       "8889                    0.0   5000000.0    6000000.0   25000000.0   \n",
       "9155                    0.0         0.0          0.0          0.0   \n",
       "12375                   0.0   7200000.0  250000000.0  350000000.0   \n",
       "14705                   0.0  12700000.0   27500000.0  375000000.0   \n",
       "15315                   0.0         0.0          0.0          0.0   \n",
       "15360                   0.0         0.0          0.0   65000000.0   \n",
       "15569                   0.0   1000000.0   10000000.0   20000000.0   \n",
       "18075                   0.0   4800000.0   30000000.0  135000000.0   \n",
       "29882                   0.0         0.0          0.0          0.0   \n",
       "34329                   0.0         0.0          0.0          0.0   \n",
       "35399                   0.0         0.0          0.0          0.0   \n",
       "36911                   0.0         0.0          0.0          0.0   \n",
       "38289                   0.0         0.0          0.0          0.0   \n",
       "38601                   0.0         0.0          0.0          0.0   \n",
       "39127                   0.0  12000000.0   40000000.0          0.0   \n",
       "39482                   0.0         0.0          0.0          0.0   \n",
       "39577                   0.0         0.0   79200000.0          0.0   \n",
       "42470                   0.0         0.0          0.0          0.0   \n",
       "44673                   0.0   5000000.0   15000000.0   35000000.0   \n",
       "44772                   0.0  11000000.0   37000000.0  258000000.0   \n",
       "45671                   0.0         0.0          0.0          0.0   \n",
       "45815                   0.0         0.0          0.0          0.0   \n",
       "47007                   0.0         0.0          0.0          0.0   \n",
       "48198                   0.0         0.0          0.0          0.0   \n",
       "48679                   0.0   3000000.0   12000000.0   25000000.0   \n",
       "48936                   0.0         0.0          0.0          0.0   \n",
       "\n",
       "            round_D      round_E       round_F       round_G      round_H  \n",
       "1868   0.000000e+00          0.0  0.000000e+00  0.000000e+00          0.0  \n",
       "7107   0.000000e+00          0.0  0.000000e+00  0.000000e+00          0.0  \n",
       "7234   0.000000e+00          0.0  0.000000e+00  0.000000e+00          0.0  \n",
       "7328   0.000000e+00          0.0  0.000000e+00  0.000000e+00          0.0  \n",
       "7977   0.000000e+00          0.0  0.000000e+00  0.000000e+00          0.0  \n",
       "8664   0.000000e+00          0.0  0.000000e+00  0.000000e+00          0.0  \n",
       "8889   4.000000e+07   65000000.0  1.060000e+09  0.000000e+00          0.0  \n",
       "9155   0.000000e+00          0.0  0.000000e+00  0.000000e+00          0.0  \n",
       "12375  0.000000e+00          0.0  0.000000e+00  0.000000e+00          0.0  \n",
       "14705  2.000000e+08          0.0  0.000000e+00  0.000000e+00          0.0  \n",
       "15315  0.000000e+00          0.0  0.000000e+00  0.000000e+00          0.0  \n",
       "15360  8.600000e+07          0.0  0.000000e+00  0.000000e+00          0.0  \n",
       "15569  1.500000e+08  360000000.0  2.100000e+08  1.000000e+09  600000000.0  \n",
       "18075  9.500000e+08          0.0  0.000000e+00  0.000000e+00          0.0  \n",
       "29882  0.000000e+00          0.0  0.000000e+00  0.000000e+00          0.0  \n",
       "34329  0.000000e+00          0.0  0.000000e+00  0.000000e+00          0.0  \n",
       "35399  0.000000e+00          0.0  0.000000e+00  0.000000e+00          0.0  \n",
       "36911  0.000000e+00          0.0  0.000000e+00  0.000000e+00          0.0  \n",
       "38289  0.000000e+00          0.0  0.000000e+00  0.000000e+00          0.0  \n",
       "38601  0.000000e+00          0.0  0.000000e+00  0.000000e+00          0.0  \n",
       "39127  7.500000e+07   75000000.0  1.337000e+08  0.000000e+00          0.0  \n",
       "39482  3.000000e+07   24000000.0  0.000000e+00  0.000000e+00          0.0  \n",
       "39577  7.500000e+07  220000000.0  2.860000e+08  0.000000e+00          0.0  \n",
       "42470  0.000000e+00          0.0  0.000000e+00  0.000000e+00          0.0  \n",
       "44673  1.000000e+08    5166511.0  2.000000e+08  4.000000e+08          0.0  \n",
       "44772  1.200000e+09          0.0  0.000000e+00  0.000000e+00          0.0  \n",
       "45671  0.000000e+00          0.0  0.000000e+00  0.000000e+00          0.0  \n",
       "45815  0.000000e+00          0.0  0.000000e+00  0.000000e+00          0.0  \n",
       "47007  0.000000e+00          0.0  0.000000e+00  0.000000e+00          0.0  \n",
       "48198  0.000000e+00          0.0  0.000000e+00  0.000000e+00          0.0  \n",
       "48679  4.000000e+07   40000000.0  0.000000e+00  0.000000e+00          0.0  \n",
       "48936  0.000000e+00          0.0  0.000000e+00  0.000000e+00          0.0  \n",
       "\n",
       "[32 rows x 39 columns]"
      ]
     },
     "execution_count": 434,
     "metadata": {},
     "output_type": "execute_result"
    }
   ],
   "source": [
    "unicorns['']"
   ]
  },
  {
   "cell_type": "markdown",
   "metadata": {
    "slideshow": {
     "slide_type": "slide"
    }
   },
   "source": [
    "# Thank you for your attention. Here are the key takeaways:\n",
    "* A little bit less half of the startups were part of the outliers\n",
    "* Being part of the culture is important \n",
    "* Getting at least some funding is probably going to improve your chances. \n",
    "* Even companies that get more than a billion dollars in investment can shut down\n",
    "* Biotech surprisingly is a very popular market"
   ]
  }
 ],
 "metadata": {
  "kernelspec": {
   "display_name": "Python 3",
   "language": "python",
   "name": "python3"
  },
  "language_info": {
   "codemirror_mode": {
    "name": "ipython",
    "version": 3
   },
   "file_extension": ".py",
   "mimetype": "text/x-python",
   "name": "python",
   "nbconvert_exporter": "python",
   "pygments_lexer": "ipython3",
   "version": "3.7.6"
  }
 },
 "nbformat": 4,
 "nbformat_minor": 2
}
